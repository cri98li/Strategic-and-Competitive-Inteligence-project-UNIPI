{
 "cells": [
  {
   "cell_type": "code",
   "execution_count": 1,
   "id": "2e5691a7",
   "metadata": {},
   "outputs": [
    {
     "name": "stderr",
     "output_type": "stream",
     "text": [
      "[nltk_data] Downloading package punkt to\n",
      "[nltk_data]     C:\\Users\\cri98\\AppData\\Roaming\\nltk_data...\n",
      "[nltk_data]   Package punkt is already up-to-date!\n"
     ]
    },
    {
     "data": {
      "text/plain": [
       "True"
      ]
     },
     "execution_count": 1,
     "metadata": {},
     "output_type": "execute_result"
    }
   ],
   "source": [
    "import pandas as pd\n",
    "from tqdm.auto import tqdm\n",
    "import numpy as np\n",
    "import nltk\n",
    "nltk.download('punkt')"
   ]
  },
  {
   "cell_type": "code",
   "execution_count": 2,
   "id": "01902286",
   "metadata": {},
   "outputs": [
    {
     "data": {
      "text/html": [
       "<div>\n",
       "<style scoped>\n",
       "    .dataframe tbody tr th:only-of-type {\n",
       "        vertical-align: middle;\n",
       "    }\n",
       "\n",
       "    .dataframe tbody tr th {\n",
       "        vertical-align: top;\n",
       "    }\n",
       "\n",
       "    .dataframe thead th {\n",
       "        text-align: right;\n",
       "    }\n",
       "</style>\n",
       "<table border=\"1\" class=\"dataframe\">\n",
       "  <thead>\n",
       "    <tr style=\"text-align: right;\">\n",
       "      <th></th>\n",
       "      <th>filename</th>\n",
       "      <th>filing_date</th>\n",
       "      <th>publication_date</th>\n",
       "      <th>priority_date</th>\n",
       "      <th>ipc_classes</th>\n",
       "      <th>assignee</th>\n",
       "      <th>inventors</th>\n",
       "      <th>docdb_family_id</th>\n",
       "      <th>title</th>\n",
       "      <th>abstract</th>\n",
       "      <th>claims</th>\n",
       "    </tr>\n",
       "  </thead>\n",
       "  <tbody>\n",
       "    <tr>\n",
       "      <th>0</th>\n",
       "      <td>US2019350514</td>\n",
       "      <td>2019-06-14</td>\n",
       "      <td>2019-11-21</td>\n",
       "      <td>2018-05-17</td>\n",
       "      <td>A45D44/00,A61B5/00,G06N3/02,G06Q30/06</td>\n",
       "      <td>P&amp;G (PROCTER &amp; GAMBLE COMPANY)</td>\n",
       "      <td>KAINKARYAM, RAGHUNANDAN MELKOTEPURWAR, ANKURSH...</td>\n",
       "      <td>68534608</td>\n",
       "      <td>systems and methods for hair analysis</td>\n",
       "      <td>disclosed are hair analysis systems and method...</td>\n",
       "      <td>1. a hair analysis system comprising: (a) an i...</td>\n",
       "    </tr>\n",
       "    <tr>\n",
       "      <th>1</th>\n",
       "      <td>WO2019222327</td>\n",
       "      <td>2019-05-15</td>\n",
       "      <td>2019-11-21</td>\n",
       "      <td>2018-05-17</td>\n",
       "      <td>G06Q30/06</td>\n",
       "      <td>P&amp;G (PROCTER &amp; GAMBLE COMPANY)</td>\n",
       "      <td>SHERMAN, FAIZPURWAR, ANKURKAINKARYAM, RAGHUNANDAN</td>\n",
       "      <td>66770570</td>\n",
       "      <td>systems and methods for hair analysis</td>\n",
       "      <td>disclosed are hair analysis systems and method...</td>\n",
       "      <td></td>\n",
       "    </tr>\n",
       "    <tr>\n",
       "      <th>2</th>\n",
       "      <td>US2019325200</td>\n",
       "      <td>2019-06-28</td>\n",
       "      <td>2019-10-24</td>\n",
       "      <td>2017-08-09</td>\n",
       "      <td>G06K9/00,G06K9/34,G06K9/62</td>\n",
       "      <td>BEIJING SENSETIME TECHNOLOGY DEVELOPMENT COMPANY</td>\n",
       "      <td>QIAN CHENWANG FEIWANG, QUAN</td>\n",
       "      <td>62654894</td>\n",
       "      <td>face image processing methods and apparatuses,...</td>\n",
       "      <td>a face image processing method includes: segme...</td>\n",
       "      <td>1. a face image processing method, comprising:...</td>\n",
       "    </tr>\n",
       "    <tr>\n",
       "      <th>3</th>\n",
       "      <td>EP3769852</td>\n",
       "      <td>2019-07-22</td>\n",
       "      <td>2021-01-27</td>\n",
       "      <td>2019-07-22</td>\n",
       "      <td>A47K5/12,B05B11/00,B05B12/00,B05B15/30,H02N2/18</td>\n",
       "      <td>Open Innovation 2 Go, SL</td>\n",
       "      <td>Baturone Moreno de Carlos, PabloAbad de Aranzá...</td>\n",
       "      <td>67480134</td>\n",
       "      <td>pump- actuated dispenser with integrated switc...</td>\n",
       "      <td>the invention refers to a pump-actuated dispen...</td>\n",
       "      <td>1. a pump-actuated dispenser (1) comprising: a...</td>\n",
       "    </tr>\n",
       "    <tr>\n",
       "      <th>4</th>\n",
       "      <td>US10897979</td>\n",
       "      <td>2019-09-12</td>\n",
       "      <td>2021-01-26</td>\n",
       "      <td>2019-09-12</td>\n",
       "      <td>A45D44/00,A61Q5/10,G05B17/02,G06K9/46,G06T11/0...</td>\n",
       "      <td>SURETINT TECHNOLOGIES</td>\n",
       "      <td>Byrne, ChristopherNash, Cody Z.Christie, Eliza...</td>\n",
       "      <td>74191038</td>\n",
       "      <td>system and method for hair dye color conversion</td>\n",
       "      <td>a system and method is provided for hair dye c...</td>\n",
       "      <td>1. a method for hair dye color conversion in w...</td>\n",
       "    </tr>\n",
       "  </tbody>\n",
       "</table>\n",
       "</div>"
      ],
      "text/plain": [
       "       filename filing_date publication_date priority_date  \\\n",
       "0  US2019350514  2019-06-14       2019-11-21    2018-05-17   \n",
       "1  WO2019222327  2019-05-15       2019-11-21    2018-05-17   \n",
       "2  US2019325200  2019-06-28       2019-10-24    2017-08-09   \n",
       "3     EP3769852  2019-07-22       2021-01-27    2019-07-22   \n",
       "4    US10897979  2019-09-12       2021-01-26    2019-09-12   \n",
       "\n",
       "                                         ipc_classes  \\\n",
       "0              A45D44/00,A61B5/00,G06N3/02,G06Q30/06   \n",
       "1                                          G06Q30/06   \n",
       "2                         G06K9/00,G06K9/34,G06K9/62   \n",
       "3    A47K5/12,B05B11/00,B05B12/00,B05B15/30,H02N2/18   \n",
       "4  A45D44/00,A61Q5/10,G05B17/02,G06K9/46,G06T11/0...   \n",
       "\n",
       "                                           assignee  \\\n",
       "0                    P&G (PROCTER & GAMBLE COMPANY)   \n",
       "1                    P&G (PROCTER & GAMBLE COMPANY)   \n",
       "2  BEIJING SENSETIME TECHNOLOGY DEVELOPMENT COMPANY   \n",
       "3                          Open Innovation 2 Go, SL   \n",
       "4                             SURETINT TECHNOLOGIES   \n",
       "\n",
       "                                           inventors  docdb_family_id  \\\n",
       "0  KAINKARYAM, RAGHUNANDAN MELKOTEPURWAR, ANKURSH...         68534608   \n",
       "1  SHERMAN, FAIZPURWAR, ANKURKAINKARYAM, RAGHUNANDAN         66770570   \n",
       "2                        QIAN CHENWANG FEIWANG, QUAN         62654894   \n",
       "3  Baturone Moreno de Carlos, PabloAbad de Aranzá...         67480134   \n",
       "4  Byrne, ChristopherNash, Cody Z.Christie, Eliza...         74191038   \n",
       "\n",
       "                                               title  \\\n",
       "0              systems and methods for hair analysis   \n",
       "1              systems and methods for hair analysis   \n",
       "2  face image processing methods and apparatuses,...   \n",
       "3  pump- actuated dispenser with integrated switc...   \n",
       "4    system and method for hair dye color conversion   \n",
       "\n",
       "                                            abstract  \\\n",
       "0  disclosed are hair analysis systems and method...   \n",
       "1  disclosed are hair analysis systems and method...   \n",
       "2  a face image processing method includes: segme...   \n",
       "3  the invention refers to a pump-actuated dispen...   \n",
       "4  a system and method is provided for hair dye c...   \n",
       "\n",
       "                                              claims  \n",
       "0  1. a hair analysis system comprising: (a) an i...  \n",
       "1                                                     \n",
       "2  1. a face image processing method, comprising:...  \n",
       "3  1. a pump-actuated dispenser (1) comprising: a...  \n",
       "4  1. a method for hair dye color conversion in w...  "
      ]
     },
     "execution_count": 2,
     "metadata": {},
     "output_type": "execute_result"
    }
   ],
   "source": [
    "#df = pd.read_csv(\"selected_patents.csv\").drop_duplicates()\n",
    "df = pd.read_csv(\"../data/selected_patent_final.csv\").drop_duplicates()\n",
    "\n",
    "df.claims = df.claims.fillna(\"\")\n",
    "\n",
    "df.head()"
   ]
  },
  {
   "cell_type": "raw",
   "id": "01122255",
   "metadata": {},
   "source": [
    "columns = df.columns.to_list()\n",
    "tokeep = [True for _ in range(len(df))]\n",
    "\n",
    "df_sorted = df.sort_values(by=[\"docdb_family_id\", \"claims\"])\n",
    "\n",
    "pbar = tqdm(zip(df_sorted.values[:-1], df_sorted.values[1:]), total=len(df)-1)\n",
    "\n",
    "for i, (row1, row2) in enumerate(pbar):\n",
    "    pbar.set_description(f'{row1[columns.index(\"docdb_family_id\")]} vs {row2[columns.index(\"docdb_family_id\")]}')\n",
    "    \n",
    "    if row1[columns.index(\"docdb_family_id\")] != row2[columns.index(\"docdb_family_id\")]:\n",
    "        continue\n",
    "    \n",
    "    #dist = nltk.edit_distance(row1[columns.index(\"claims\")], row2[columns.index(\"claims\")])\n",
    "    dist = nltk.jaccard_distance(row1[columns.index(\"claims\")], row2[columns.index(\"claims\")])\n",
    "    print(f'({row1[columns.index(\"docdb_family_id\")]})edit distance: {dist}')\n",
    "    if dist < 100:\n",
    "        tokeep[i] &= False"
   ]
  },
  {
   "cell_type": "code",
   "execution_count": 72,
   "id": "155ac142",
   "metadata": {},
   "outputs": [
    {
     "data": {
      "application/vnd.jupyter.widget-view+json": {
       "model_id": "1067081045e5481b940a283a713daf66",
       "version_major": 2,
       "version_minor": 0
      },
      "text/plain": [
       "  0%|          | 0/309 [00:00<?, ?it/s]"
      ]
     },
     "metadata": {},
     "output_type": "display_data"
    },
    {
     "name": "stdout",
     "output_type": "stream",
     "text": [
      "21820138 vs 21820158\n",
      "21820158 vs 22926956\n",
      "22926956 vs 26698498\n",
      "26698498 vs 26698498\n",
      "(26698498)jaccard distance: 0.47257383966244726\n",
      "26698498 vs 26698498\n",
      "(26698498)jaccard distance: 0.4567627494456763\n",
      "26698498 vs 26990036\n",
      "26990036 vs 27362297\n",
      "27362297 vs 35061324\n",
      "35061324 vs 35923560\n",
      "35923560 vs 36092105\n",
      "36092105 vs 37964796\n",
      "37964796 vs 38369411\n",
      "38369411 vs 38476897\n",
      "38476897 vs 38801014\n",
      "38801014 vs 38801014\n",
      "(38801014)jaccard distance: 0.09947643979057591\n",
      "38801014 vs 38801014\n",
      "(38801014)jaccard distance: 0.44787644787644787\n",
      "38801014 vs 39609342\n",
      "39609342 vs 39745040\n",
      "39745040 vs 39745040\n",
      "(39745040)jaccard distance: 0.375\n",
      "39745040 vs 39745040\n",
      "(39745040)jaccard distance: 0.3069306930693069\n",
      "39745040 vs 39745040\n",
      "(39745040)jaccard distance: 0.2192513368983957\n",
      "39745040 vs 40588129\n",
      "40588129 vs 40588129\n",
      "(40588129)jaccard distance: 0.5263157894736842\n",
      "40588129 vs 40588129\n",
      "(40588129)jaccard distance: 0.46994535519125685\n",
      "40588129 vs 40588129\n",
      "(40588129)jaccard distance: 0.20118343195266272\n",
      "40588129 vs 40853448\n",
      "40853448 vs 41090245\n",
      "41090245 vs 41090245\n",
      "(41090245)jaccard distance: 0.06626506024096386\n",
      "41090245 vs 41117287\n",
      "41117287 vs 41117287\n",
      "(41117287)jaccard distance: 0.8567251461988304\n",
      "41117287 vs 42333576\n",
      "42333576 vs 42562243\n",
      "42562243 vs 42562243\n",
      "(42562243)jaccard distance: 0.030534351145038167\n",
      "42562243 vs 42562243\n",
      "(42562243)jaccard distance: 0.0\n",
      "42562243 vs 43879334\n",
      "43879334 vs 43879334\n",
      "(43879334)jaccard distance: 0.02631578947368421\n",
      "43879334 vs 43991469\n",
      "43991469 vs 44082690\n",
      "44082690 vs 44187665\n",
      "44187665 vs 44187665\n",
      "(44187665)jaccard distance: 0.564935064935065\n",
      "44187665 vs 44295857\n",
      "44295857 vs 44295857\n",
      "44295857 vs 44561349\n",
      "44561349 vs 45831168\n",
      "45831168 vs 45831168\n",
      "(45831168)jaccard distance: 0.2839506172839506\n",
      "45831168 vs 45831168\n",
      "(45831168)jaccard distance: 0.6265060240963856\n",
      "45831168 vs 46235424\n",
      "46235424 vs 46235424\n",
      "(46235424)jaccard distance: 1.0\n",
      "46235424 vs 46323021\n",
      "46323021 vs 46717714\n",
      "46717714 vs 46717714\n",
      "(46717714)jaccard distance: 0.6108597285067874\n",
      "46717714 vs 46876978\n",
      "46876978 vs 46876978\n",
      "(46876978)jaccard distance: 0.3888888888888889\n",
      "46876978 vs 46876978\n",
      "(46876978)jaccard distance: 0.7006369426751592\n",
      "46876978 vs 46876978\n",
      "(46876978)jaccard distance: 0.25748502994011974\n",
      "46876978 vs 47021167\n",
      "47021167 vs 47080640\n",
      "47080640 vs 47080640\n",
      "(47080640)jaccard distance: 0.012618296529968454\n",
      "47080640 vs 48193189\n",
      "48193189 vs 48524041\n",
      "48524041 vs 48524041\n",
      "(48524041)jaccard distance: 0.3032258064516129\n",
      "48524041 vs 48572013\n",
      "48572013 vs 48572013\n",
      "(48572013)jaccard distance: 0.1853932584269663\n",
      "48572013 vs 49054890\n",
      "49054890 vs 49279527\n",
      "49279527 vs 49279527\n",
      "49279527 vs 49554012\n",
      "49554012 vs 49554012\n",
      "(49554012)jaccard distance: 0.38333333333333336\n",
      "49554012 vs 49554012\n",
      "(49554012)jaccard distance: 0.32515337423312884\n",
      "49554012 vs 50407308\n",
      "50407308 vs 51261593\n",
      "51261593 vs 51261593\n",
      "(51261593)jaccard distance: 0.4830508474576271\n",
      "51261593 vs 51261593\n",
      "(51261593)jaccard distance: 0.038461538461538464\n",
      "51261593 vs 51388831\n",
      "51388831 vs 51620904\n",
      "51620904 vs 52115642\n",
      "52115642 vs 52146360\n",
      "52146360 vs 52146360\n",
      "(52146360)jaccard distance: 0.11450381679389313\n",
      "52146360 vs 52146360\n",
      "(52146360)jaccard distance: 0.16923076923076924\n",
      "52146360 vs 52583332\n",
      "52583332 vs 53215483\n",
      "53215483 vs 53879115\n",
      "53879115 vs 53879115\n",
      "(53879115)jaccard distance: 0.7507598784194529\n",
      "53879115 vs 53879115\n",
      "(53879115)jaccard distance: 0.2916666666666667\n",
      "53879115 vs 53879115\n",
      "(53879115)jaccard distance: 0.7892976588628763\n",
      "53879115 vs 53879115\n",
      "(53879115)jaccard distance: 0.7270114942528736\n",
      "53879115 vs 54015148\n",
      "54015148 vs 54015148\n",
      "(54015148)jaccard distance: 0.7218934911242604\n",
      "54015148 vs 54256860\n",
      "54256860 vs 54256860\n",
      "(54256860)jaccard distance: 0.041666666666666664\n",
      "54256860 vs 54256860\n",
      "(54256860)jaccard distance: 0.3926174496644295\n",
      "54256860 vs 54780284\n",
      "54780284 vs 54780285\n",
      "54780285 vs 55347427\n",
      "55347427 vs 55347427\n",
      "(55347427)jaccard distance: 0.5821428571428572\n",
      "55347427 vs 55971251\n",
      "55971251 vs 56111472\n",
      "56111472 vs 56111472\n",
      "(56111472)jaccard distance: 0.11278195488721804\n",
      "56111472 vs 56511785\n",
      "56511785 vs 56566007\n",
      "56566007 vs 56566007\n",
      "(56566007)jaccard distance: 0.305\n",
      "56566007 vs 56566007\n",
      "(56566007)jaccard distance: 0.6943765281173594\n",
      "56566007 vs 56566007\n",
      "(56566007)jaccard distance: 0.04455445544554455\n",
      "56566007 vs 56566007\n",
      "(56566007)jaccard distance: 0.773542600896861\n",
      "56566007 vs 56566007\n",
      "(56566007)jaccard distance: 0.038781163434903045\n",
      "56566007 vs 56566007\n",
      "(56566007)jaccard distance: 0.6111111111111112\n",
      "56566007 vs 56566007\n",
      "(56566007)jaccard distance: 0.05555555555555555\n",
      "56566007 vs 56566007\n",
      "(56566007)jaccard distance: 0.5204081632653061\n",
      "56566007 vs 56566007\n",
      "(56566007)jaccard distance: 0.31527093596059114\n",
      "56566007 vs 56911745\n",
      "56911745 vs 56911745\n",
      "56911745 vs 57127010\n",
      "57127010 vs 57545346\n",
      "57545346 vs 57587682\n",
      "57587682 vs 57590514\n",
      "57590514 vs 57737707\n",
      "57737707 vs 57837888\n",
      "57837888 vs 57838431\n",
      "57838431 vs 58046543\n",
      "58046543 vs 58046543\n",
      "(58046543)jaccard distance: 0.3192771084337349\n",
      "58046543 vs 58046543\n",
      "(58046543)jaccard distance: 0.23448275862068965\n",
      "58046543 vs 58046543\n",
      "(58046543)jaccard distance: 0.01652892561983471\n",
      "58046543 vs 58094194\n",
      "58094194 vs 58094194\n",
      "(58094194)jaccard distance: 0.0\n",
      "58094194 vs 58094194\n",
      "(58094194)jaccard distance: 0.03968253968253968\n",
      "58094194 vs 58766244\n",
      "58766244 vs 58766244\n",
      "(58766244)jaccard distance: 0.270935960591133\n",
      "58766244 vs 58856620\n",
      "58856620 vs 59061903\n",
      "59061903 vs 59285199\n",
      "59285199 vs 59285200\n",
      "59285200 vs 59285203\n",
      "59285203 vs 59285203\n",
      "(59285203)jaccard distance: 0.4496124031007752\n",
      "59285203 vs 59315603\n",
      "59315603 vs 59350948\n",
      "59350948 vs 59564245\n",
      "59564245 vs 59678841\n",
      "59678841 vs 60089218\n",
      "60089218 vs 60333671\n",
      "60333671 vs 60643616\n",
      "60643616 vs 60785139\n",
      "60785139 vs 60785139\n",
      "(60785139)jaccard distance: 0.2682926829268293\n",
      "60785139 vs 60786076\n",
      "60786076 vs 60786076\n",
      "(60786076)jaccard distance: 0.023529411764705882\n",
      "60786076 vs 60952570\n",
      "60952570 vs 60952570\n",
      "(60952570)jaccard distance: 0.047244094488188976\n",
      "60952570 vs 61017544\n",
      "61017544 vs 61211311\n",
      "61211311 vs 61604087\n",
      "61604087 vs 61683877\n",
      "61683877 vs 61687337\n",
      "61687337 vs 61687337\n",
      "(61687337)jaccard distance: 0.0\n",
      "61687337 vs 61688091\n",
      "61688091 vs 62023464\n",
      "62023464 vs 62023464\n",
      "(62023464)jaccard distance: 0.2192513368983957\n",
      "62023464 vs 62109777\n",
      "62109777 vs 62109777\n",
      "62109777 vs 62109777\n",
      "62109777 vs 62109777\n",
      "(62109777)jaccard distance: 1.0\n",
      "62109777 vs 62109777\n",
      "(62109777)jaccard distance: 0.014084507042253521\n",
      "62109777 vs 62455195\n",
      "62455195 vs 62455195\n",
      "(62455195)jaccard distance: 0.2545454545454545\n",
      "62455195 vs 62455195\n",
      "(62455195)jaccard distance: 0.15555555555555556\n",
      "62455195 vs 62487953\n",
      "62487953 vs 62487953\n",
      "(62487953)jaccard distance: 0.3028169014084507\n",
      "62487953 vs 62489394\n",
      "62489394 vs 62492311\n",
      "62492311 vs 62492311\n",
      "(62492311)jaccard distance: 0.0\n",
      "62492311 vs 62495616\n",
      "62495616 vs 62495616\n",
      "(62495616)jaccard distance: 0.11585365853658537\n",
      "62495616 vs 62495617\n",
      "62495617 vs 62495617\n",
      "(62495617)jaccard distance: 0.06976744186046512\n",
      "62495617 vs 62654894\n",
      "62654894 vs 63040956\n",
      "63040956 vs 63105282\n",
      "63105282 vs 63144669\n",
      "63144669 vs 63144669\n",
      "(63144669)jaccard distance: 0.6996904024767802\n",
      "63144669 vs 63259904\n",
      "63259904 vs 63259904\n",
      "63259904 vs 63369970\n",
      "63369970 vs 63448327\n",
      "63448327 vs 63448327\n",
      "(63448327)jaccard distance: 0.08791208791208792\n",
      "63448327 vs 63691264\n",
      "63691264 vs 63691264\n",
      "63691264 vs 63794460\n",
      "63794460 vs 63798904\n",
      "63798904 vs 63798904\n",
      "(63798904)jaccard distance: 0.053811659192825115\n",
      "63798904 vs 63832171\n",
      "63832171 vs 63832171\n",
      "(63832171)jaccard distance: 0.18181818181818182\n",
      "63832171 vs 64083148\n",
      "64083148 vs 64104701\n",
      "64104701 vs 64693361\n",
      "64693361 vs 64736257\n",
      "64736257 vs 64736257\n",
      "(64736257)jaccard distance: 0.343042071197411\n",
      "64736257 vs 64744567\n",
      "64744567 vs 64901980\n",
      "64901980 vs 64999954\n",
      "64999954 vs 64999954\n",
      "(64999954)jaccard distance: 0.8140350877192982\n",
      "64999954 vs 65363360\n",
      "65363360 vs 65363360\n",
      "(65363360)jaccard distance: 0.0\n",
      "65363360 vs 65409127\n",
      "65409127 vs 65409127\n",
      "(65409127)jaccard distance: 0.0\n",
      "65409127 vs 65409566\n",
      "65409566 vs 65409566\n",
      "65409566 vs 65409566\n",
      "(65409566)jaccard distance: 1.0\n",
      "65409566 vs 65409566\n",
      "(65409566)jaccard distance: 0.1885245901639344\n",
      "65409566 vs 65409566\n",
      "(65409566)jaccard distance: 0.5\n",
      "65409566 vs 65433726\n",
      "65433726 vs 65433729\n",
      "65433729 vs 65433729\n",
      "65433729 vs 65433729\n",
      "(65433729)jaccard distance: 1.0\n",
      "65433729 vs 65628547\n",
      "65628547 vs 65628547\n",
      "(65628547)jaccard distance: 0.5611111111111111\n",
      "65628547 vs 65719180\n",
      "65719180 vs 65719180\n",
      "(65719180)jaccard distance: 0.0\n",
      "65719180 vs 65806738\n",
      "65806738 vs 65818494\n",
      "65818494 vs 65818494\n",
      "(65818494)jaccard distance: 0.03225806451612903\n",
      "65818494 vs 65818495\n",
      "65818495 vs 65994747\n",
      "65994747 vs 66010095\n",
      "66010095 vs 66170703\n",
      "66170703 vs 66247744\n",
      "66247744 vs 66247744\n",
      "66247744 vs 66247744\n",
      "(66247744)jaccard distance: 1.0\n",
      "66247744 vs 66247744\n",
      "(66247744)jaccard distance: 0.4099099099099099\n",
      "66247744 vs 66429148\n",
      "66429148 vs 66429148\n",
      "(66429148)jaccard distance: 0.017241379310344827\n",
      "66429148 vs 66770570\n",
      "66770570 vs 66826022\n",
      "66826022 vs 66949107\n",
      "66949107 vs 67010363\n",
      "67010363 vs 67067062\n",
      "67067062 vs 67139842\n",
      "67139842 vs 67139842\n",
      "(67139842)jaccard distance: 0.0\n",
      "67139842 vs 67139854\n",
      "67139854 vs 67139882\n",
      "67139882 vs 67139882\n",
      "(67139882)jaccard distance: 0.0\n",
      "67139882 vs 67140830\n",
      "67140830 vs 67185459\n",
      "67185459 vs 67478230\n",
      "67478230 vs 67480134\n",
      "67480134 vs 67483109\n",
      "67483109 vs 67521212\n",
      "67521212 vs 67543860\n",
      "67543860 vs 67621415\n",
      "67621415 vs 67808813\n",
      "67808813 vs 67950209\n",
      "67950209 vs 68061961\n",
      "68061961 vs 68073240\n",
      "68073240 vs 68171809\n",
      "68171809 vs 68171809\n",
      "68171809 vs 68237036\n",
      "68237036 vs 68237036\n",
      "(68237036)jaccard distance: 0.05319148936170213\n",
      "68237036 vs 68280952\n",
      "68280952 vs 68387379\n",
      "68387379 vs 68424854\n",
      "68424854 vs 68424854\n",
      "(68424854)jaccard distance: 0.336734693877551\n",
      "68424854 vs 68534608\n",
      "68534608 vs 68581538\n",
      "68581538 vs 68581538\n",
      "(68581538)jaccard distance: 0.0\n",
      "68581538 vs 68633581\n",
      "68633581 vs 68633581\n",
      "68633581 vs 69110394\n",
      "69110394 vs 69167926\n",
      "69167926 vs 69167926\n",
      "(69167926)jaccard distance: 0.3176470588235294\n",
      "69167926 vs 69219073\n",
      "69219073 vs 69227386\n",
      "69227386 vs 69386054\n",
      "69386054 vs 69802934\n",
      "69802934 vs 69815786\n",
      "69815786 vs 69998431\n",
      "69998431 vs 70240706\n",
      "70240706 vs 70476188\n",
      "70476188 vs 70476188\n",
      "(70476188)jaccard distance: 0.2786885245901639\n",
      "70476188 vs 70496384\n",
      "70496384 vs 70612167\n",
      "70612167 vs 70612167\n",
      "(70612167)jaccard distance: 0.0\n",
      "70612167 vs 70614682\n",
      "70614682 vs 70614683\n",
      "70614683 vs 70614683\n",
      "(70614683)jaccard distance: 0.2097902097902098\n",
      "70614683 vs 70617180\n",
      "70617180 vs 70617180\n",
      "(70617180)jaccard distance: 0.0\n",
      "70617180 vs 70726432\n",
      "70726432 vs 70726432\n",
      "(70726432)jaccard distance: 0.291358024691358\n",
      "70726432 vs 70974262\n",
      "70974262 vs 70978287\n",
      "70978287 vs 71122356\n",
      "71122356 vs 71207178\n",
      "71207178 vs 71409168\n",
      "71409168 vs 71517654\n",
      "71517654 vs 72140701\n",
      "72140701 vs 72142514\n",
      "72142514 vs 72513923\n",
      "72513923 vs 72666201\n",
      "72666201 vs 72806582\n",
      "72806582 vs 73016577\n",
      "73016577 vs 73016577\n",
      "(73016577)jaccard distance: 0.5\n",
      "73016577 vs 73289163\n",
      "73289163 vs 73289329\n",
      "73289329 vs 73289353\n",
      "73289353 vs 73550514\n",
      "73550514 vs 73650683\n",
      "73650683 vs 73650683\n",
      "(73650683)jaccard distance: 0.030303030303030304\n",
      "73650683 vs 74039135\n",
      "74039135 vs 74043320\n",
      "74043320 vs 74044172\n",
      "74044172 vs 74066188\n",
      "74066188 vs 74191038\n"
     ]
    }
   ],
   "source": [
    "columns = df.columns.to_list()\n",
    "tokeep = [True for _ in range(len(df))]\n",
    "\n",
    "df = df.sort_values(by=[\"docdb_family_id\", \"claims\"])\n",
    "\n",
    "dists = [0.0]\n",
    "\n",
    "pbar = tqdm(zip(df.values[:-1], df.values[1:]), total=len(df)-1)\n",
    "\n",
    "for i, (row1, row2) in enumerate(pbar):\n",
    "    pbar.set_description(f'{row1[columns.index(\"docdb_family_id\")]} vs {row2[columns.index(\"docdb_family_id\")]}')\n",
    "    \n",
    "    print(f'{row1[columns.index(\"docdb_family_id\")]} vs {row2[columns.index(\"docdb_family_id\")]}')\n",
    "    \n",
    "    if row1[columns.index(\"docdb_family_id\")] != row2[columns.index(\"docdb_family_id\")]:\n",
    "        #pass\n",
    "        dists.append(None)\n",
    "        continue\n",
    "    \n",
    "    #dist = nltk.edit_distance(row1[columns.index(\"claims\")], row2[columns.index(\"claims\")])\n",
    "    try:\n",
    "        dist = nltk.jaccard_distance(set(nltk.word_tokenize(row1[columns.index(\"claims\")])), \n",
    "                                     set(nltk.word_tokenize(row2[columns.index(\"claims\")])))\n",
    "    except:\n",
    "        dists.append(None)\n",
    "        tokeep[i] &= False\n",
    "        continue\n",
    "        \n",
    "    dists.append(dist)\n",
    "    print(f'({row1[columns.index(\"docdb_family_id\")]})jaccard distance: {dist}')\n",
    "    if dist < .8:\n",
    "        tokeep[i] &= False"
   ]
  },
  {
   "cell_type": "code",
   "execution_count": 73,
   "id": "66cb7250",
   "metadata": {},
   "outputs": [],
   "source": [
    "df[\"to_keep\"] = tokeep\n",
    "df[\"dist\"] = dists"
   ]
  },
  {
   "cell_type": "code",
   "execution_count": 74,
   "id": "31963cb6",
   "metadata": {},
   "outputs": [
    {
     "data": {
      "application/vnd.plotly.v1+json": {
       "config": {
        "plotlyServerURL": "https://plot.ly"
       },
       "data": [
        {
         "hovertemplate": "x=%{x}<br>dist=%{y}<extra></extra>",
         "legendgroup": "",
         "line": {
          "color": "#636efa",
          "dash": "solid"
         },
         "marker": {
          "symbol": "circle"
         },
         "mode": "lines",
         "name": "",
         "orientation": "v",
         "showlegend": false,
         "type": "scatter",
         "x": [
          0,
          1,
          2,
          3,
          4,
          5,
          6,
          7,
          8,
          9,
          10,
          11,
          12,
          13,
          14,
          15,
          16,
          17,
          18,
          19,
          20,
          21,
          22,
          23,
          24,
          25,
          26,
          27,
          28,
          29,
          30,
          31,
          32,
          33,
          34,
          35,
          36,
          37,
          38,
          39,
          40,
          41,
          42,
          43,
          44,
          45,
          46,
          47,
          48,
          49,
          50,
          51,
          52,
          53,
          54,
          55,
          56,
          57,
          58,
          59,
          60,
          61,
          62,
          63,
          64,
          65,
          66,
          67,
          68,
          69,
          70,
          71,
          72,
          73,
          74,
          75,
          76,
          77,
          78,
          79,
          80,
          81,
          82,
          83,
          84,
          85,
          86,
          87,
          88,
          89,
          90,
          91,
          92,
          93,
          94,
          95,
          96,
          97,
          98,
          99,
          100,
          101,
          102,
          103,
          104,
          105,
          106,
          107,
          108,
          109,
          110,
          111,
          112,
          113,
          114,
          115,
          116,
          117,
          118,
          119,
          120,
          121,
          122,
          123,
          124,
          125,
          126,
          127,
          128,
          129,
          130,
          131,
          132,
          133,
          134,
          135,
          136,
          137,
          138,
          139,
          140,
          141,
          142,
          143,
          144,
          145,
          146,
          147,
          148,
          149,
          150,
          151,
          152,
          153,
          154,
          155,
          156,
          157,
          158,
          159,
          160,
          161,
          162,
          163,
          164,
          165,
          166,
          167,
          168,
          169,
          170,
          171,
          172,
          173,
          174,
          175,
          176,
          177,
          178,
          179,
          180,
          181,
          182,
          183,
          184,
          185,
          186,
          187,
          188,
          189,
          190,
          191,
          192,
          193,
          194,
          195,
          196,
          197,
          198,
          199,
          200,
          201,
          202,
          203,
          204,
          205,
          206,
          207,
          208,
          209,
          210,
          211,
          212,
          213,
          214,
          215,
          216,
          217,
          218,
          219,
          220,
          221,
          222,
          223,
          224,
          225,
          226,
          227,
          228,
          229,
          230,
          231,
          232,
          233,
          234,
          235,
          236,
          237,
          238,
          239,
          240,
          241,
          242,
          243,
          244,
          245,
          246,
          247,
          248,
          249,
          250,
          251,
          252,
          253,
          254,
          255,
          256,
          257,
          258,
          259,
          260,
          261,
          262,
          263,
          264,
          265,
          266,
          267,
          268,
          269,
          270,
          271,
          272,
          273,
          274,
          275,
          276,
          277,
          278,
          279,
          280,
          281,
          282,
          283,
          284,
          285,
          286,
          287,
          288,
          289,
          290,
          291,
          292,
          293,
          294,
          295,
          296,
          297,
          298,
          299,
          300,
          301,
          302,
          303,
          304,
          305,
          306,
          307,
          308,
          309
         ],
         "xaxis": "x",
         "y": [
          0,
          0,
          0,
          0,
          0,
          0,
          0,
          0,
          0,
          0,
          0,
          0,
          0,
          0.012618296529968454,
          0.014084507042253521,
          0.01652892561983471,
          0.017241379310344827,
          0.023529411764705882,
          0.02631578947368421,
          0.030303030303030304,
          0.030534351145038167,
          0.03225806451612903,
          0.038461538461538464,
          0.038781163434903045,
          0.03968253968253968,
          0.041666666666666664,
          0.04455445544554455,
          0.047244094488188976,
          0.05319148936170213,
          0.053811659192825115,
          0.05555555555555555,
          0.06626506024096386,
          0.06976744186046512,
          0.08791208791208792,
          0.09947643979057591,
          0.11278195488721804,
          0.11450381679389313,
          0.11585365853658537,
          0.15555555555555556,
          0.16923076923076924,
          0.18181818181818182,
          0.1853932584269663,
          0.1885245901639344,
          0.20118343195266272,
          0.2097902097902098,
          0.2192513368983957,
          0.2192513368983957,
          0.23448275862068965,
          0.2545454545454545,
          0.25748502994011974,
          0.2682926829268293,
          0.270935960591133,
          0.2786885245901639,
          0.2839506172839506,
          0.291358024691358,
          0.2916666666666667,
          0.3028169014084507,
          0.3032258064516129,
          0.305,
          0.3069306930693069,
          0.31527093596059114,
          0.3176470588235294,
          0.3192771084337349,
          0.32515337423312884,
          0.336734693877551,
          0.343042071197411,
          0.375,
          0.38333333333333336,
          0.3888888888888889,
          0.3926174496644295,
          0.4099099099099099,
          0.44787644787644787,
          0.4496124031007752,
          0.4567627494456763,
          0.46994535519125685,
          0.47257383966244726,
          0.4830508474576271,
          0.5,
          0.5,
          0.5204081632653061,
          0.5263157894736842,
          0.5611111111111111,
          0.564935064935065,
          0.5821428571428572,
          0.6108597285067874,
          0.6111111111111112,
          0.6265060240963856,
          0.6943765281173594,
          0.6996904024767802,
          0.7006369426751592,
          0.7218934911242604,
          0.7270114942528736,
          0.7507598784194529,
          0.773542600896861,
          0.7892976588628763,
          0.8140350877192982,
          0.8567251461988304,
          1,
          1,
          1,
          1,
          1,
          null,
          null,
          null,
          null,
          null,
          null,
          null,
          null,
          null,
          null,
          null,
          null,
          null,
          null,
          null,
          null,
          null,
          null,
          null,
          null,
          null,
          null,
          null,
          null,
          null,
          null,
          null,
          null,
          null,
          null,
          null,
          null,
          null,
          null,
          null,
          null,
          null,
          null,
          null,
          null,
          null,
          null,
          null,
          null,
          null,
          null,
          null,
          null,
          null,
          null,
          null,
          null,
          null,
          null,
          null,
          null,
          null,
          null,
          null,
          null,
          null,
          null,
          null,
          null,
          null,
          null,
          null,
          null,
          null,
          null,
          null,
          null,
          null,
          null,
          null,
          null,
          null,
          null,
          null,
          null,
          null,
          null,
          null,
          null,
          null,
          null,
          null,
          null,
          null,
          null,
          null,
          null,
          null,
          null,
          null,
          null,
          null,
          null,
          null,
          null,
          null,
          null,
          null,
          null,
          null,
          null,
          null,
          null,
          null,
          null,
          null,
          null,
          null,
          null,
          null,
          null,
          null,
          null,
          null,
          null,
          null,
          null,
          null,
          null,
          null,
          null,
          null,
          null,
          null,
          null,
          null,
          null,
          null,
          null,
          null,
          null,
          null,
          null,
          null,
          null,
          null,
          null,
          null,
          null,
          null,
          null,
          null,
          null,
          null,
          null,
          null,
          null,
          null,
          null,
          null,
          null,
          null,
          null,
          null,
          null,
          null,
          null,
          null,
          null,
          null,
          null,
          null,
          null,
          null,
          null,
          null,
          null,
          null,
          null,
          null,
          null,
          null,
          null,
          null,
          null,
          null,
          null,
          null,
          null,
          null,
          null,
          null,
          null,
          null,
          null,
          null,
          null,
          null,
          null,
          null,
          null,
          null,
          null,
          null,
          null,
          null,
          null,
          null,
          null,
          null,
          null,
          null,
          null
         ],
         "yaxis": "y"
        }
       ],
       "layout": {
        "legend": {
         "tracegroupgap": 0
        },
        "margin": {
         "t": 60
        },
        "template": {
         "data": {
          "bar": [
           {
            "error_x": {
             "color": "#2a3f5f"
            },
            "error_y": {
             "color": "#2a3f5f"
            },
            "marker": {
             "line": {
              "color": "#E5ECF6",
              "width": 0.5
             },
             "pattern": {
              "fillmode": "overlay",
              "size": 10,
              "solidity": 0.2
             }
            },
            "type": "bar"
           }
          ],
          "barpolar": [
           {
            "marker": {
             "line": {
              "color": "#E5ECF6",
              "width": 0.5
             },
             "pattern": {
              "fillmode": "overlay",
              "size": 10,
              "solidity": 0.2
             }
            },
            "type": "barpolar"
           }
          ],
          "carpet": [
           {
            "aaxis": {
             "endlinecolor": "#2a3f5f",
             "gridcolor": "white",
             "linecolor": "white",
             "minorgridcolor": "white",
             "startlinecolor": "#2a3f5f"
            },
            "baxis": {
             "endlinecolor": "#2a3f5f",
             "gridcolor": "white",
             "linecolor": "white",
             "minorgridcolor": "white",
             "startlinecolor": "#2a3f5f"
            },
            "type": "carpet"
           }
          ],
          "choropleth": [
           {
            "colorbar": {
             "outlinewidth": 0,
             "ticks": ""
            },
            "type": "choropleth"
           }
          ],
          "contour": [
           {
            "colorbar": {
             "outlinewidth": 0,
             "ticks": ""
            },
            "colorscale": [
             [
              0,
              "#0d0887"
             ],
             [
              0.1111111111111111,
              "#46039f"
             ],
             [
              0.2222222222222222,
              "#7201a8"
             ],
             [
              0.3333333333333333,
              "#9c179e"
             ],
             [
              0.4444444444444444,
              "#bd3786"
             ],
             [
              0.5555555555555556,
              "#d8576b"
             ],
             [
              0.6666666666666666,
              "#ed7953"
             ],
             [
              0.7777777777777778,
              "#fb9f3a"
             ],
             [
              0.8888888888888888,
              "#fdca26"
             ],
             [
              1,
              "#f0f921"
             ]
            ],
            "type": "contour"
           }
          ],
          "contourcarpet": [
           {
            "colorbar": {
             "outlinewidth": 0,
             "ticks": ""
            },
            "type": "contourcarpet"
           }
          ],
          "heatmap": [
           {
            "colorbar": {
             "outlinewidth": 0,
             "ticks": ""
            },
            "colorscale": [
             [
              0,
              "#0d0887"
             ],
             [
              0.1111111111111111,
              "#46039f"
             ],
             [
              0.2222222222222222,
              "#7201a8"
             ],
             [
              0.3333333333333333,
              "#9c179e"
             ],
             [
              0.4444444444444444,
              "#bd3786"
             ],
             [
              0.5555555555555556,
              "#d8576b"
             ],
             [
              0.6666666666666666,
              "#ed7953"
             ],
             [
              0.7777777777777778,
              "#fb9f3a"
             ],
             [
              0.8888888888888888,
              "#fdca26"
             ],
             [
              1,
              "#f0f921"
             ]
            ],
            "type": "heatmap"
           }
          ],
          "heatmapgl": [
           {
            "colorbar": {
             "outlinewidth": 0,
             "ticks": ""
            },
            "colorscale": [
             [
              0,
              "#0d0887"
             ],
             [
              0.1111111111111111,
              "#46039f"
             ],
             [
              0.2222222222222222,
              "#7201a8"
             ],
             [
              0.3333333333333333,
              "#9c179e"
             ],
             [
              0.4444444444444444,
              "#bd3786"
             ],
             [
              0.5555555555555556,
              "#d8576b"
             ],
             [
              0.6666666666666666,
              "#ed7953"
             ],
             [
              0.7777777777777778,
              "#fb9f3a"
             ],
             [
              0.8888888888888888,
              "#fdca26"
             ],
             [
              1,
              "#f0f921"
             ]
            ],
            "type": "heatmapgl"
           }
          ],
          "histogram": [
           {
            "marker": {
             "pattern": {
              "fillmode": "overlay",
              "size": 10,
              "solidity": 0.2
             }
            },
            "type": "histogram"
           }
          ],
          "histogram2d": [
           {
            "colorbar": {
             "outlinewidth": 0,
             "ticks": ""
            },
            "colorscale": [
             [
              0,
              "#0d0887"
             ],
             [
              0.1111111111111111,
              "#46039f"
             ],
             [
              0.2222222222222222,
              "#7201a8"
             ],
             [
              0.3333333333333333,
              "#9c179e"
             ],
             [
              0.4444444444444444,
              "#bd3786"
             ],
             [
              0.5555555555555556,
              "#d8576b"
             ],
             [
              0.6666666666666666,
              "#ed7953"
             ],
             [
              0.7777777777777778,
              "#fb9f3a"
             ],
             [
              0.8888888888888888,
              "#fdca26"
             ],
             [
              1,
              "#f0f921"
             ]
            ],
            "type": "histogram2d"
           }
          ],
          "histogram2dcontour": [
           {
            "colorbar": {
             "outlinewidth": 0,
             "ticks": ""
            },
            "colorscale": [
             [
              0,
              "#0d0887"
             ],
             [
              0.1111111111111111,
              "#46039f"
             ],
             [
              0.2222222222222222,
              "#7201a8"
             ],
             [
              0.3333333333333333,
              "#9c179e"
             ],
             [
              0.4444444444444444,
              "#bd3786"
             ],
             [
              0.5555555555555556,
              "#d8576b"
             ],
             [
              0.6666666666666666,
              "#ed7953"
             ],
             [
              0.7777777777777778,
              "#fb9f3a"
             ],
             [
              0.8888888888888888,
              "#fdca26"
             ],
             [
              1,
              "#f0f921"
             ]
            ],
            "type": "histogram2dcontour"
           }
          ],
          "mesh3d": [
           {
            "colorbar": {
             "outlinewidth": 0,
             "ticks": ""
            },
            "type": "mesh3d"
           }
          ],
          "parcoords": [
           {
            "line": {
             "colorbar": {
              "outlinewidth": 0,
              "ticks": ""
             }
            },
            "type": "parcoords"
           }
          ],
          "pie": [
           {
            "automargin": true,
            "type": "pie"
           }
          ],
          "scatter": [
           {
            "marker": {
             "colorbar": {
              "outlinewidth": 0,
              "ticks": ""
             }
            },
            "type": "scatter"
           }
          ],
          "scatter3d": [
           {
            "line": {
             "colorbar": {
              "outlinewidth": 0,
              "ticks": ""
             }
            },
            "marker": {
             "colorbar": {
              "outlinewidth": 0,
              "ticks": ""
             }
            },
            "type": "scatter3d"
           }
          ],
          "scattercarpet": [
           {
            "marker": {
             "colorbar": {
              "outlinewidth": 0,
              "ticks": ""
             }
            },
            "type": "scattercarpet"
           }
          ],
          "scattergeo": [
           {
            "marker": {
             "colorbar": {
              "outlinewidth": 0,
              "ticks": ""
             }
            },
            "type": "scattergeo"
           }
          ],
          "scattergl": [
           {
            "marker": {
             "colorbar": {
              "outlinewidth": 0,
              "ticks": ""
             }
            },
            "type": "scattergl"
           }
          ],
          "scattermapbox": [
           {
            "marker": {
             "colorbar": {
              "outlinewidth": 0,
              "ticks": ""
             }
            },
            "type": "scattermapbox"
           }
          ],
          "scatterpolar": [
           {
            "marker": {
             "colorbar": {
              "outlinewidth": 0,
              "ticks": ""
             }
            },
            "type": "scatterpolar"
           }
          ],
          "scatterpolargl": [
           {
            "marker": {
             "colorbar": {
              "outlinewidth": 0,
              "ticks": ""
             }
            },
            "type": "scatterpolargl"
           }
          ],
          "scatterternary": [
           {
            "marker": {
             "colorbar": {
              "outlinewidth": 0,
              "ticks": ""
             }
            },
            "type": "scatterternary"
           }
          ],
          "surface": [
           {
            "colorbar": {
             "outlinewidth": 0,
             "ticks": ""
            },
            "colorscale": [
             [
              0,
              "#0d0887"
             ],
             [
              0.1111111111111111,
              "#46039f"
             ],
             [
              0.2222222222222222,
              "#7201a8"
             ],
             [
              0.3333333333333333,
              "#9c179e"
             ],
             [
              0.4444444444444444,
              "#bd3786"
             ],
             [
              0.5555555555555556,
              "#d8576b"
             ],
             [
              0.6666666666666666,
              "#ed7953"
             ],
             [
              0.7777777777777778,
              "#fb9f3a"
             ],
             [
              0.8888888888888888,
              "#fdca26"
             ],
             [
              1,
              "#f0f921"
             ]
            ],
            "type": "surface"
           }
          ],
          "table": [
           {
            "cells": {
             "fill": {
              "color": "#EBF0F8"
             },
             "line": {
              "color": "white"
             }
            },
            "header": {
             "fill": {
              "color": "#C8D4E3"
             },
             "line": {
              "color": "white"
             }
            },
            "type": "table"
           }
          ]
         },
         "layout": {
          "annotationdefaults": {
           "arrowcolor": "#2a3f5f",
           "arrowhead": 0,
           "arrowwidth": 1
          },
          "autotypenumbers": "strict",
          "coloraxis": {
           "colorbar": {
            "outlinewidth": 0,
            "ticks": ""
           }
          },
          "colorscale": {
           "diverging": [
            [
             0,
             "#8e0152"
            ],
            [
             0.1,
             "#c51b7d"
            ],
            [
             0.2,
             "#de77ae"
            ],
            [
             0.3,
             "#f1b6da"
            ],
            [
             0.4,
             "#fde0ef"
            ],
            [
             0.5,
             "#f7f7f7"
            ],
            [
             0.6,
             "#e6f5d0"
            ],
            [
             0.7,
             "#b8e186"
            ],
            [
             0.8,
             "#7fbc41"
            ],
            [
             0.9,
             "#4d9221"
            ],
            [
             1,
             "#276419"
            ]
           ],
           "sequential": [
            [
             0,
             "#0d0887"
            ],
            [
             0.1111111111111111,
             "#46039f"
            ],
            [
             0.2222222222222222,
             "#7201a8"
            ],
            [
             0.3333333333333333,
             "#9c179e"
            ],
            [
             0.4444444444444444,
             "#bd3786"
            ],
            [
             0.5555555555555556,
             "#d8576b"
            ],
            [
             0.6666666666666666,
             "#ed7953"
            ],
            [
             0.7777777777777778,
             "#fb9f3a"
            ],
            [
             0.8888888888888888,
             "#fdca26"
            ],
            [
             1,
             "#f0f921"
            ]
           ],
           "sequentialminus": [
            [
             0,
             "#0d0887"
            ],
            [
             0.1111111111111111,
             "#46039f"
            ],
            [
             0.2222222222222222,
             "#7201a8"
            ],
            [
             0.3333333333333333,
             "#9c179e"
            ],
            [
             0.4444444444444444,
             "#bd3786"
            ],
            [
             0.5555555555555556,
             "#d8576b"
            ],
            [
             0.6666666666666666,
             "#ed7953"
            ],
            [
             0.7777777777777778,
             "#fb9f3a"
            ],
            [
             0.8888888888888888,
             "#fdca26"
            ],
            [
             1,
             "#f0f921"
            ]
           ]
          },
          "colorway": [
           "#636efa",
           "#EF553B",
           "#00cc96",
           "#ab63fa",
           "#FFA15A",
           "#19d3f3",
           "#FF6692",
           "#B6E880",
           "#FF97FF",
           "#FECB52"
          ],
          "font": {
           "color": "#2a3f5f"
          },
          "geo": {
           "bgcolor": "white",
           "lakecolor": "white",
           "landcolor": "#E5ECF6",
           "showlakes": true,
           "showland": true,
           "subunitcolor": "white"
          },
          "hoverlabel": {
           "align": "left"
          },
          "hovermode": "closest",
          "mapbox": {
           "style": "light"
          },
          "paper_bgcolor": "white",
          "plot_bgcolor": "#E5ECF6",
          "polar": {
           "angularaxis": {
            "gridcolor": "white",
            "linecolor": "white",
            "ticks": ""
           },
           "bgcolor": "#E5ECF6",
           "radialaxis": {
            "gridcolor": "white",
            "linecolor": "white",
            "ticks": ""
           }
          },
          "scene": {
           "xaxis": {
            "backgroundcolor": "#E5ECF6",
            "gridcolor": "white",
            "gridwidth": 2,
            "linecolor": "white",
            "showbackground": true,
            "ticks": "",
            "zerolinecolor": "white"
           },
           "yaxis": {
            "backgroundcolor": "#E5ECF6",
            "gridcolor": "white",
            "gridwidth": 2,
            "linecolor": "white",
            "showbackground": true,
            "ticks": "",
            "zerolinecolor": "white"
           },
           "zaxis": {
            "backgroundcolor": "#E5ECF6",
            "gridcolor": "white",
            "gridwidth": 2,
            "linecolor": "white",
            "showbackground": true,
            "ticks": "",
            "zerolinecolor": "white"
           }
          },
          "shapedefaults": {
           "line": {
            "color": "#2a3f5f"
           }
          },
          "ternary": {
           "aaxis": {
            "gridcolor": "white",
            "linecolor": "white",
            "ticks": ""
           },
           "baxis": {
            "gridcolor": "white",
            "linecolor": "white",
            "ticks": ""
           },
           "bgcolor": "#E5ECF6",
           "caxis": {
            "gridcolor": "white",
            "linecolor": "white",
            "ticks": ""
           }
          },
          "title": {
           "x": 0.05
          },
          "xaxis": {
           "automargin": true,
           "gridcolor": "white",
           "linecolor": "white",
           "ticks": "",
           "title": {
            "standoff": 15
           },
           "zerolinecolor": "white",
           "zerolinewidth": 2
          },
          "yaxis": {
           "automargin": true,
           "gridcolor": "white",
           "linecolor": "white",
           "ticks": "",
           "title": {
            "standoff": 15
           },
           "zerolinecolor": "white",
           "zerolinewidth": 2
          }
         }
        },
        "xaxis": {
         "anchor": "y",
         "domain": [
          0,
          1
         ],
         "title": {
          "text": "x"
         }
        },
        "yaxis": {
         "anchor": "x",
         "domain": [
          0,
          1
         ],
         "title": {
          "text": "dist"
         }
        }
       }
      },
      "text/html": [
       "<div>                            <div id=\"f3abcc78-897b-445c-8716-c1e52a8f8065\" class=\"plotly-graph-div\" style=\"height:525px; width:100%;\"></div>            <script type=\"text/javascript\">                require([\"plotly\"], function(Plotly) {                    window.PLOTLYENV=window.PLOTLYENV || {};                                    if (document.getElementById(\"f3abcc78-897b-445c-8716-c1e52a8f8065\")) {                    Plotly.newPlot(                        \"f3abcc78-897b-445c-8716-c1e52a8f8065\",                        [{\"hovertemplate\":\"x=%{x}<br>dist=%{y}<extra></extra>\",\"legendgroup\":\"\",\"line\":{\"color\":\"#636efa\",\"dash\":\"solid\"},\"marker\":{\"symbol\":\"circle\"},\"mode\":\"lines\",\"name\":\"\",\"orientation\":\"v\",\"showlegend\":false,\"x\":[0,1,2,3,4,5,6,7,8,9,10,11,12,13,14,15,16,17,18,19,20,21,22,23,24,25,26,27,28,29,30,31,32,33,34,35,36,37,38,39,40,41,42,43,44,45,46,47,48,49,50,51,52,53,54,55,56,57,58,59,60,61,62,63,64,65,66,67,68,69,70,71,72,73,74,75,76,77,78,79,80,81,82,83,84,85,86,87,88,89,90,91,92,93,94,95,96,97,98,99,100,101,102,103,104,105,106,107,108,109,110,111,112,113,114,115,116,117,118,119,120,121,122,123,124,125,126,127,128,129,130,131,132,133,134,135,136,137,138,139,140,141,142,143,144,145,146,147,148,149,150,151,152,153,154,155,156,157,158,159,160,161,162,163,164,165,166,167,168,169,170,171,172,173,174,175,176,177,178,179,180,181,182,183,184,185,186,187,188,189,190,191,192,193,194,195,196,197,198,199,200,201,202,203,204,205,206,207,208,209,210,211,212,213,214,215,216,217,218,219,220,221,222,223,224,225,226,227,228,229,230,231,232,233,234,235,236,237,238,239,240,241,242,243,244,245,246,247,248,249,250,251,252,253,254,255,256,257,258,259,260,261,262,263,264,265,266,267,268,269,270,271,272,273,274,275,276,277,278,279,280,281,282,283,284,285,286,287,288,289,290,291,292,293,294,295,296,297,298,299,300,301,302,303,304,305,306,307,308,309],\"xaxis\":\"x\",\"y\":[0.0,0.0,0.0,0.0,0.0,0.0,0.0,0.0,0.0,0.0,0.0,0.0,0.0,0.012618296529968454,0.014084507042253521,0.01652892561983471,0.017241379310344827,0.023529411764705882,0.02631578947368421,0.030303030303030304,0.030534351145038167,0.03225806451612903,0.038461538461538464,0.038781163434903045,0.03968253968253968,0.041666666666666664,0.04455445544554455,0.047244094488188976,0.05319148936170213,0.053811659192825115,0.05555555555555555,0.06626506024096386,0.06976744186046512,0.08791208791208792,0.09947643979057591,0.11278195488721804,0.11450381679389313,0.11585365853658537,0.15555555555555556,0.16923076923076924,0.18181818181818182,0.1853932584269663,0.1885245901639344,0.20118343195266272,0.2097902097902098,0.2192513368983957,0.2192513368983957,0.23448275862068965,0.2545454545454545,0.25748502994011974,0.2682926829268293,0.270935960591133,0.2786885245901639,0.2839506172839506,0.291358024691358,0.2916666666666667,0.3028169014084507,0.3032258064516129,0.305,0.3069306930693069,0.31527093596059114,0.3176470588235294,0.3192771084337349,0.32515337423312884,0.336734693877551,0.343042071197411,0.375,0.38333333333333336,0.3888888888888889,0.3926174496644295,0.4099099099099099,0.44787644787644787,0.4496124031007752,0.4567627494456763,0.46994535519125685,0.47257383966244726,0.4830508474576271,0.5,0.5,0.5204081632653061,0.5263157894736842,0.5611111111111111,0.564935064935065,0.5821428571428572,0.6108597285067874,0.6111111111111112,0.6265060240963856,0.6943765281173594,0.6996904024767802,0.7006369426751592,0.7218934911242604,0.7270114942528736,0.7507598784194529,0.773542600896861,0.7892976588628763,0.8140350877192982,0.8567251461988304,1.0,1.0,1.0,1.0,1.0,null,null,null,null,null,null,null,null,null,null,null,null,null,null,null,null,null,null,null,null,null,null,null,null,null,null,null,null,null,null,null,null,null,null,null,null,null,null,null,null,null,null,null,null,null,null,null,null,null,null,null,null,null,null,null,null,null,null,null,null,null,null,null,null,null,null,null,null,null,null,null,null,null,null,null,null,null,null,null,null,null,null,null,null,null,null,null,null,null,null,null,null,null,null,null,null,null,null,null,null,null,null,null,null,null,null,null,null,null,null,null,null,null,null,null,null,null,null,null,null,null,null,null,null,null,null,null,null,null,null,null,null,null,null,null,null,null,null,null,null,null,null,null,null,null,null,null,null,null,null,null,null,null,null,null,null,null,null,null,null,null,null,null,null,null,null,null,null,null,null,null,null,null,null,null,null,null,null,null,null,null,null,null,null,null,null,null,null,null,null,null,null,null,null,null,null,null,null,null,null,null,null,null,null,null,null,null,null],\"yaxis\":\"y\",\"type\":\"scatter\"}],                        {\"template\":{\"data\":{\"bar\":[{\"error_x\":{\"color\":\"#2a3f5f\"},\"error_y\":{\"color\":\"#2a3f5f\"},\"marker\":{\"line\":{\"color\":\"#E5ECF6\",\"width\":0.5},\"pattern\":{\"fillmode\":\"overlay\",\"size\":10,\"solidity\":0.2}},\"type\":\"bar\"}],\"barpolar\":[{\"marker\":{\"line\":{\"color\":\"#E5ECF6\",\"width\":0.5},\"pattern\":{\"fillmode\":\"overlay\",\"size\":10,\"solidity\":0.2}},\"type\":\"barpolar\"}],\"carpet\":[{\"aaxis\":{\"endlinecolor\":\"#2a3f5f\",\"gridcolor\":\"white\",\"linecolor\":\"white\",\"minorgridcolor\":\"white\",\"startlinecolor\":\"#2a3f5f\"},\"baxis\":{\"endlinecolor\":\"#2a3f5f\",\"gridcolor\":\"white\",\"linecolor\":\"white\",\"minorgridcolor\":\"white\",\"startlinecolor\":\"#2a3f5f\"},\"type\":\"carpet\"}],\"choropleth\":[{\"colorbar\":{\"outlinewidth\":0,\"ticks\":\"\"},\"type\":\"choropleth\"}],\"contour\":[{\"colorbar\":{\"outlinewidth\":0,\"ticks\":\"\"},\"colorscale\":[[0.0,\"#0d0887\"],[0.1111111111111111,\"#46039f\"],[0.2222222222222222,\"#7201a8\"],[0.3333333333333333,\"#9c179e\"],[0.4444444444444444,\"#bd3786\"],[0.5555555555555556,\"#d8576b\"],[0.6666666666666666,\"#ed7953\"],[0.7777777777777778,\"#fb9f3a\"],[0.8888888888888888,\"#fdca26\"],[1.0,\"#f0f921\"]],\"type\":\"contour\"}],\"contourcarpet\":[{\"colorbar\":{\"outlinewidth\":0,\"ticks\":\"\"},\"type\":\"contourcarpet\"}],\"heatmap\":[{\"colorbar\":{\"outlinewidth\":0,\"ticks\":\"\"},\"colorscale\":[[0.0,\"#0d0887\"],[0.1111111111111111,\"#46039f\"],[0.2222222222222222,\"#7201a8\"],[0.3333333333333333,\"#9c179e\"],[0.4444444444444444,\"#bd3786\"],[0.5555555555555556,\"#d8576b\"],[0.6666666666666666,\"#ed7953\"],[0.7777777777777778,\"#fb9f3a\"],[0.8888888888888888,\"#fdca26\"],[1.0,\"#f0f921\"]],\"type\":\"heatmap\"}],\"heatmapgl\":[{\"colorbar\":{\"outlinewidth\":0,\"ticks\":\"\"},\"colorscale\":[[0.0,\"#0d0887\"],[0.1111111111111111,\"#46039f\"],[0.2222222222222222,\"#7201a8\"],[0.3333333333333333,\"#9c179e\"],[0.4444444444444444,\"#bd3786\"],[0.5555555555555556,\"#d8576b\"],[0.6666666666666666,\"#ed7953\"],[0.7777777777777778,\"#fb9f3a\"],[0.8888888888888888,\"#fdca26\"],[1.0,\"#f0f921\"]],\"type\":\"heatmapgl\"}],\"histogram\":[{\"marker\":{\"pattern\":{\"fillmode\":\"overlay\",\"size\":10,\"solidity\":0.2}},\"type\":\"histogram\"}],\"histogram2d\":[{\"colorbar\":{\"outlinewidth\":0,\"ticks\":\"\"},\"colorscale\":[[0.0,\"#0d0887\"],[0.1111111111111111,\"#46039f\"],[0.2222222222222222,\"#7201a8\"],[0.3333333333333333,\"#9c179e\"],[0.4444444444444444,\"#bd3786\"],[0.5555555555555556,\"#d8576b\"],[0.6666666666666666,\"#ed7953\"],[0.7777777777777778,\"#fb9f3a\"],[0.8888888888888888,\"#fdca26\"],[1.0,\"#f0f921\"]],\"type\":\"histogram2d\"}],\"histogram2dcontour\":[{\"colorbar\":{\"outlinewidth\":0,\"ticks\":\"\"},\"colorscale\":[[0.0,\"#0d0887\"],[0.1111111111111111,\"#46039f\"],[0.2222222222222222,\"#7201a8\"],[0.3333333333333333,\"#9c179e\"],[0.4444444444444444,\"#bd3786\"],[0.5555555555555556,\"#d8576b\"],[0.6666666666666666,\"#ed7953\"],[0.7777777777777778,\"#fb9f3a\"],[0.8888888888888888,\"#fdca26\"],[1.0,\"#f0f921\"]],\"type\":\"histogram2dcontour\"}],\"mesh3d\":[{\"colorbar\":{\"outlinewidth\":0,\"ticks\":\"\"},\"type\":\"mesh3d\"}],\"parcoords\":[{\"line\":{\"colorbar\":{\"outlinewidth\":0,\"ticks\":\"\"}},\"type\":\"parcoords\"}],\"pie\":[{\"automargin\":true,\"type\":\"pie\"}],\"scatter\":[{\"marker\":{\"colorbar\":{\"outlinewidth\":0,\"ticks\":\"\"}},\"type\":\"scatter\"}],\"scatter3d\":[{\"line\":{\"colorbar\":{\"outlinewidth\":0,\"ticks\":\"\"}},\"marker\":{\"colorbar\":{\"outlinewidth\":0,\"ticks\":\"\"}},\"type\":\"scatter3d\"}],\"scattercarpet\":[{\"marker\":{\"colorbar\":{\"outlinewidth\":0,\"ticks\":\"\"}},\"type\":\"scattercarpet\"}],\"scattergeo\":[{\"marker\":{\"colorbar\":{\"outlinewidth\":0,\"ticks\":\"\"}},\"type\":\"scattergeo\"}],\"scattergl\":[{\"marker\":{\"colorbar\":{\"outlinewidth\":0,\"ticks\":\"\"}},\"type\":\"scattergl\"}],\"scattermapbox\":[{\"marker\":{\"colorbar\":{\"outlinewidth\":0,\"ticks\":\"\"}},\"type\":\"scattermapbox\"}],\"scatterpolar\":[{\"marker\":{\"colorbar\":{\"outlinewidth\":0,\"ticks\":\"\"}},\"type\":\"scatterpolar\"}],\"scatterpolargl\":[{\"marker\":{\"colorbar\":{\"outlinewidth\":0,\"ticks\":\"\"}},\"type\":\"scatterpolargl\"}],\"scatterternary\":[{\"marker\":{\"colorbar\":{\"outlinewidth\":0,\"ticks\":\"\"}},\"type\":\"scatterternary\"}],\"surface\":[{\"colorbar\":{\"outlinewidth\":0,\"ticks\":\"\"},\"colorscale\":[[0.0,\"#0d0887\"],[0.1111111111111111,\"#46039f\"],[0.2222222222222222,\"#7201a8\"],[0.3333333333333333,\"#9c179e\"],[0.4444444444444444,\"#bd3786\"],[0.5555555555555556,\"#d8576b\"],[0.6666666666666666,\"#ed7953\"],[0.7777777777777778,\"#fb9f3a\"],[0.8888888888888888,\"#fdca26\"],[1.0,\"#f0f921\"]],\"type\":\"surface\"}],\"table\":[{\"cells\":{\"fill\":{\"color\":\"#EBF0F8\"},\"line\":{\"color\":\"white\"}},\"header\":{\"fill\":{\"color\":\"#C8D4E3\"},\"line\":{\"color\":\"white\"}},\"type\":\"table\"}]},\"layout\":{\"annotationdefaults\":{\"arrowcolor\":\"#2a3f5f\",\"arrowhead\":0,\"arrowwidth\":1},\"autotypenumbers\":\"strict\",\"coloraxis\":{\"colorbar\":{\"outlinewidth\":0,\"ticks\":\"\"}},\"colorscale\":{\"diverging\":[[0,\"#8e0152\"],[0.1,\"#c51b7d\"],[0.2,\"#de77ae\"],[0.3,\"#f1b6da\"],[0.4,\"#fde0ef\"],[0.5,\"#f7f7f7\"],[0.6,\"#e6f5d0\"],[0.7,\"#b8e186\"],[0.8,\"#7fbc41\"],[0.9,\"#4d9221\"],[1,\"#276419\"]],\"sequential\":[[0.0,\"#0d0887\"],[0.1111111111111111,\"#46039f\"],[0.2222222222222222,\"#7201a8\"],[0.3333333333333333,\"#9c179e\"],[0.4444444444444444,\"#bd3786\"],[0.5555555555555556,\"#d8576b\"],[0.6666666666666666,\"#ed7953\"],[0.7777777777777778,\"#fb9f3a\"],[0.8888888888888888,\"#fdca26\"],[1.0,\"#f0f921\"]],\"sequentialminus\":[[0.0,\"#0d0887\"],[0.1111111111111111,\"#46039f\"],[0.2222222222222222,\"#7201a8\"],[0.3333333333333333,\"#9c179e\"],[0.4444444444444444,\"#bd3786\"],[0.5555555555555556,\"#d8576b\"],[0.6666666666666666,\"#ed7953\"],[0.7777777777777778,\"#fb9f3a\"],[0.8888888888888888,\"#fdca26\"],[1.0,\"#f0f921\"]]},\"colorway\":[\"#636efa\",\"#EF553B\",\"#00cc96\",\"#ab63fa\",\"#FFA15A\",\"#19d3f3\",\"#FF6692\",\"#B6E880\",\"#FF97FF\",\"#FECB52\"],\"font\":{\"color\":\"#2a3f5f\"},\"geo\":{\"bgcolor\":\"white\",\"lakecolor\":\"white\",\"landcolor\":\"#E5ECF6\",\"showlakes\":true,\"showland\":true,\"subunitcolor\":\"white\"},\"hoverlabel\":{\"align\":\"left\"},\"hovermode\":\"closest\",\"mapbox\":{\"style\":\"light\"},\"paper_bgcolor\":\"white\",\"plot_bgcolor\":\"#E5ECF6\",\"polar\":{\"angularaxis\":{\"gridcolor\":\"white\",\"linecolor\":\"white\",\"ticks\":\"\"},\"bgcolor\":\"#E5ECF6\",\"radialaxis\":{\"gridcolor\":\"white\",\"linecolor\":\"white\",\"ticks\":\"\"}},\"scene\":{\"xaxis\":{\"backgroundcolor\":\"#E5ECF6\",\"gridcolor\":\"white\",\"gridwidth\":2,\"linecolor\":\"white\",\"showbackground\":true,\"ticks\":\"\",\"zerolinecolor\":\"white\"},\"yaxis\":{\"backgroundcolor\":\"#E5ECF6\",\"gridcolor\":\"white\",\"gridwidth\":2,\"linecolor\":\"white\",\"showbackground\":true,\"ticks\":\"\",\"zerolinecolor\":\"white\"},\"zaxis\":{\"backgroundcolor\":\"#E5ECF6\",\"gridcolor\":\"white\",\"gridwidth\":2,\"linecolor\":\"white\",\"showbackground\":true,\"ticks\":\"\",\"zerolinecolor\":\"white\"}},\"shapedefaults\":{\"line\":{\"color\":\"#2a3f5f\"}},\"ternary\":{\"aaxis\":{\"gridcolor\":\"white\",\"linecolor\":\"white\",\"ticks\":\"\"},\"baxis\":{\"gridcolor\":\"white\",\"linecolor\":\"white\",\"ticks\":\"\"},\"bgcolor\":\"#E5ECF6\",\"caxis\":{\"gridcolor\":\"white\",\"linecolor\":\"white\",\"ticks\":\"\"}},\"title\":{\"x\":0.05},\"xaxis\":{\"automargin\":true,\"gridcolor\":\"white\",\"linecolor\":\"white\",\"ticks\":\"\",\"title\":{\"standoff\":15},\"zerolinecolor\":\"white\",\"zerolinewidth\":2},\"yaxis\":{\"automargin\":true,\"gridcolor\":\"white\",\"linecolor\":\"white\",\"ticks\":\"\",\"title\":{\"standoff\":15},\"zerolinecolor\":\"white\",\"zerolinewidth\":2}}},\"xaxis\":{\"anchor\":\"y\",\"domain\":[0.0,1.0],\"title\":{\"text\":\"x\"}},\"yaxis\":{\"anchor\":\"x\",\"domain\":[0.0,1.0],\"title\":{\"text\":\"dist\"}},\"legend\":{\"tracegroupgap\":0},\"margin\":{\"t\":60}},                        {\"responsive\": true}                    ).then(function(){\n",
       "                            \n",
       "var gd = document.getElementById('f3abcc78-897b-445c-8716-c1e52a8f8065');\n",
       "var x = new MutationObserver(function (mutations, observer) {{\n",
       "        var display = window.getComputedStyle(gd).display;\n",
       "        if (!display || display === 'none') {{\n",
       "            console.log([gd, 'removed!']);\n",
       "            Plotly.purge(gd);\n",
       "            observer.disconnect();\n",
       "        }}\n",
       "}});\n",
       "\n",
       "// Listen for the removal of the full notebook cells\n",
       "var notebookContainer = gd.closest('#notebook-container');\n",
       "if (notebookContainer) {{\n",
       "    x.observe(notebookContainer, {childList: true});\n",
       "}}\n",
       "\n",
       "// Listen for the clearing of the current output cell\n",
       "var outputEl = gd.closest('.output');\n",
       "if (outputEl) {{\n",
       "    x.observe(outputEl, {childList: true});\n",
       "}}\n",
       "\n",
       "                        })                };                });            </script>        </div>"
      ]
     },
     "metadata": {},
     "output_type": "display_data"
    }
   ],
   "source": [
    "import plotly.express as px\n",
    "\n",
    "px.line(df.sort_values(by=\"dist\"), x=range(len(df)), y=\"dist\").show()"
   ]
  },
  {
   "cell_type": "code",
   "execution_count": 75,
   "id": "6ce2424e",
   "metadata": {},
   "outputs": [
    {
     "data": {
      "application/vnd.plotly.v1+json": {
       "config": {
        "plotlyServerURL": "https://plot.ly"
       },
       "data": [
        {
         "hovertemplate": "dist=%{x}<br>index=%{y}<extra></extra>",
         "legendgroup": "",
         "line": {
          "color": "#636efa",
          "dash": "solid"
         },
         "marker": {
          "symbol": "circle"
         },
         "mode": "lines",
         "name": "",
         "orientation": "v",
         "showlegend": false,
         "type": "scatter",
         "x": [
          0,
          0,
          0,
          0,
          0,
          0,
          0,
          0,
          0,
          0,
          0,
          0,
          0,
          0.012618296529968454,
          0.014084507042253521,
          0.01652892561983471,
          0.017241379310344827,
          0.023529411764705882,
          0.02631578947368421,
          0.030303030303030304,
          0.030534351145038167,
          0.03225806451612903,
          0.038461538461538464,
          0.038781163434903045,
          0.03968253968253968,
          0.041666666666666664,
          0.04455445544554455,
          0.047244094488188976,
          0.05319148936170213,
          0.053811659192825115,
          0.05555555555555555,
          0.06626506024096386,
          0.06976744186046512,
          0.08791208791208792,
          0.09947643979057591,
          0.11278195488721804,
          0.11450381679389313,
          0.11585365853658537,
          0.15555555555555556,
          0.16923076923076924,
          0.18181818181818182,
          0.1853932584269663,
          0.1885245901639344,
          0.20118343195266272,
          0.2097902097902098,
          0.2192513368983957,
          0.2192513368983957,
          0.23448275862068965,
          0.2545454545454545,
          0.25748502994011974,
          0.2682926829268293,
          0.270935960591133,
          0.2786885245901639,
          0.2839506172839506,
          0.291358024691358,
          0.2916666666666667,
          0.3028169014084507,
          0.3032258064516129,
          0.305,
          0.3069306930693069,
          0.31527093596059114,
          0.3176470588235294,
          0.3192771084337349,
          0.32515337423312884,
          0.336734693877551,
          0.343042071197411,
          0.375,
          0.38333333333333336,
          0.3888888888888889,
          0.3926174496644295,
          0.4099099099099099,
          0.44787644787644787,
          0.4496124031007752,
          0.4567627494456763,
          0.46994535519125685,
          0.47257383966244726,
          0.4830508474576271,
          0.5,
          0.5,
          0.5204081632653061,
          0.5263157894736842,
          0.5611111111111111,
          0.564935064935065,
          0.5821428571428572,
          0.6108597285067874,
          0.6111111111111112,
          0.6265060240963856,
          0.6943765281173594,
          0.6996904024767802,
          0.7006369426751592,
          0.7218934911242604,
          0.7270114942528736,
          0.7507598784194529,
          0.773542600896861,
          0.7892976588628763,
          0.8140350877192982,
          0.8567251461988304,
          1,
          1,
          1,
          1,
          1,
          null,
          null,
          null,
          null,
          null,
          null,
          null,
          null,
          null,
          null,
          null,
          null,
          null,
          null,
          null,
          null,
          null,
          null,
          null,
          null,
          null,
          null,
          null,
          null,
          null,
          null,
          null,
          null,
          null,
          null,
          null,
          null,
          null,
          null,
          null,
          null,
          null,
          null,
          null,
          null,
          null,
          null,
          null,
          null,
          null,
          null,
          null,
          null,
          null,
          null,
          null,
          null,
          null,
          null,
          null,
          null,
          null,
          null,
          null,
          null,
          null,
          null,
          null,
          null,
          null,
          null,
          null,
          null,
          null,
          null,
          null,
          null,
          null,
          null,
          null,
          null,
          null,
          null,
          null,
          null,
          null,
          null,
          null,
          null,
          null,
          null,
          null,
          null,
          null,
          null,
          null,
          null,
          null,
          null,
          null,
          null,
          null,
          null,
          null,
          null,
          null,
          null,
          null,
          null,
          null,
          null,
          null,
          null,
          null,
          null,
          null,
          null,
          null,
          null,
          null,
          null,
          null,
          null,
          null,
          null,
          null,
          null,
          null,
          null,
          null,
          null,
          null,
          null,
          null,
          null,
          null,
          null,
          null,
          null,
          null,
          null,
          null,
          null,
          null,
          null,
          null,
          null,
          null,
          null,
          null,
          null,
          null,
          null,
          null,
          null,
          null,
          null,
          null,
          null,
          null,
          null,
          null,
          null,
          null,
          null,
          null,
          null,
          null,
          null,
          null,
          null,
          null,
          null,
          null,
          null,
          null,
          null,
          null,
          null,
          null,
          null,
          null,
          null,
          null,
          null,
          null,
          null,
          null,
          null,
          null,
          null,
          null,
          null,
          null,
          null,
          null,
          null,
          null,
          null,
          null,
          null,
          null,
          null,
          null,
          null,
          null,
          null,
          null,
          null,
          null,
          null,
          null,
          null
         ],
         "xaxis": "x",
         "y": [
          0,
          1,
          2,
          3,
          4,
          5,
          6,
          7,
          8,
          9,
          10,
          11,
          12,
          13,
          14,
          15,
          16,
          17,
          18,
          19,
          20,
          21,
          22,
          23,
          24,
          25,
          26,
          27,
          28,
          29,
          30,
          31,
          32,
          33,
          34,
          35,
          36,
          37,
          38,
          39,
          40,
          41,
          42,
          43,
          44,
          45,
          46,
          47,
          48,
          49,
          50,
          51,
          52,
          53,
          54,
          55,
          56,
          57,
          58,
          59,
          60,
          61,
          62,
          63,
          64,
          65,
          66,
          67,
          68,
          69,
          70,
          71,
          72,
          73,
          74,
          75,
          76,
          77,
          78,
          79,
          80,
          81,
          82,
          83,
          84,
          85,
          86,
          87,
          88,
          89,
          90,
          91,
          92,
          93,
          94,
          95,
          96,
          97,
          98,
          99,
          100,
          101,
          102,
          103,
          104,
          105,
          106,
          107,
          108,
          109,
          110,
          111,
          112,
          113,
          114,
          115,
          116,
          117,
          118,
          119,
          120,
          121,
          122,
          123,
          124,
          125,
          126,
          127,
          128,
          129,
          130,
          131,
          132,
          133,
          134,
          135,
          136,
          137,
          138,
          139,
          140,
          141,
          142,
          143,
          144,
          145,
          146,
          147,
          148,
          149,
          150,
          151,
          152,
          153,
          154,
          155,
          156,
          157,
          158,
          159,
          160,
          161,
          162,
          163,
          164,
          165,
          166,
          167,
          168,
          169,
          170,
          171,
          172,
          173,
          174,
          175,
          176,
          177,
          178,
          179,
          180,
          181,
          182,
          183,
          184,
          185,
          186,
          187,
          188,
          189,
          190,
          191,
          192,
          193,
          194,
          195,
          196,
          197,
          198,
          199,
          200,
          201,
          202,
          203,
          204,
          205,
          206,
          207,
          208,
          209,
          210,
          211,
          212,
          213,
          214,
          215,
          216,
          217,
          218,
          219,
          220,
          221,
          222,
          223,
          224,
          225,
          226,
          227,
          228,
          229,
          230,
          231,
          232,
          233,
          234,
          235,
          236,
          237,
          238,
          239,
          240,
          241,
          242,
          243,
          244,
          245,
          246,
          247,
          248,
          249,
          250,
          251,
          252,
          253,
          254,
          255,
          256,
          257,
          258,
          259,
          260,
          261,
          262,
          263,
          264,
          265,
          266,
          267,
          268,
          269,
          270,
          271,
          272,
          273,
          274,
          275,
          276,
          277,
          278,
          279,
          280,
          281,
          282,
          283,
          284,
          285,
          286,
          287,
          288,
          289,
          290,
          291,
          292,
          293,
          294,
          295,
          296,
          297,
          298,
          299,
          300,
          301,
          302,
          303,
          304,
          305,
          306,
          307,
          308,
          309
         ],
         "yaxis": "y"
        }
       ],
       "layout": {
        "legend": {
         "tracegroupgap": 0
        },
        "margin": {
         "t": 60
        },
        "template": {
         "data": {
          "bar": [
           {
            "error_x": {
             "color": "#2a3f5f"
            },
            "error_y": {
             "color": "#2a3f5f"
            },
            "marker": {
             "line": {
              "color": "#E5ECF6",
              "width": 0.5
             },
             "pattern": {
              "fillmode": "overlay",
              "size": 10,
              "solidity": 0.2
             }
            },
            "type": "bar"
           }
          ],
          "barpolar": [
           {
            "marker": {
             "line": {
              "color": "#E5ECF6",
              "width": 0.5
             },
             "pattern": {
              "fillmode": "overlay",
              "size": 10,
              "solidity": 0.2
             }
            },
            "type": "barpolar"
           }
          ],
          "carpet": [
           {
            "aaxis": {
             "endlinecolor": "#2a3f5f",
             "gridcolor": "white",
             "linecolor": "white",
             "minorgridcolor": "white",
             "startlinecolor": "#2a3f5f"
            },
            "baxis": {
             "endlinecolor": "#2a3f5f",
             "gridcolor": "white",
             "linecolor": "white",
             "minorgridcolor": "white",
             "startlinecolor": "#2a3f5f"
            },
            "type": "carpet"
           }
          ],
          "choropleth": [
           {
            "colorbar": {
             "outlinewidth": 0,
             "ticks": ""
            },
            "type": "choropleth"
           }
          ],
          "contour": [
           {
            "colorbar": {
             "outlinewidth": 0,
             "ticks": ""
            },
            "colorscale": [
             [
              0,
              "#0d0887"
             ],
             [
              0.1111111111111111,
              "#46039f"
             ],
             [
              0.2222222222222222,
              "#7201a8"
             ],
             [
              0.3333333333333333,
              "#9c179e"
             ],
             [
              0.4444444444444444,
              "#bd3786"
             ],
             [
              0.5555555555555556,
              "#d8576b"
             ],
             [
              0.6666666666666666,
              "#ed7953"
             ],
             [
              0.7777777777777778,
              "#fb9f3a"
             ],
             [
              0.8888888888888888,
              "#fdca26"
             ],
             [
              1,
              "#f0f921"
             ]
            ],
            "type": "contour"
           }
          ],
          "contourcarpet": [
           {
            "colorbar": {
             "outlinewidth": 0,
             "ticks": ""
            },
            "type": "contourcarpet"
           }
          ],
          "heatmap": [
           {
            "colorbar": {
             "outlinewidth": 0,
             "ticks": ""
            },
            "colorscale": [
             [
              0,
              "#0d0887"
             ],
             [
              0.1111111111111111,
              "#46039f"
             ],
             [
              0.2222222222222222,
              "#7201a8"
             ],
             [
              0.3333333333333333,
              "#9c179e"
             ],
             [
              0.4444444444444444,
              "#bd3786"
             ],
             [
              0.5555555555555556,
              "#d8576b"
             ],
             [
              0.6666666666666666,
              "#ed7953"
             ],
             [
              0.7777777777777778,
              "#fb9f3a"
             ],
             [
              0.8888888888888888,
              "#fdca26"
             ],
             [
              1,
              "#f0f921"
             ]
            ],
            "type": "heatmap"
           }
          ],
          "heatmapgl": [
           {
            "colorbar": {
             "outlinewidth": 0,
             "ticks": ""
            },
            "colorscale": [
             [
              0,
              "#0d0887"
             ],
             [
              0.1111111111111111,
              "#46039f"
             ],
             [
              0.2222222222222222,
              "#7201a8"
             ],
             [
              0.3333333333333333,
              "#9c179e"
             ],
             [
              0.4444444444444444,
              "#bd3786"
             ],
             [
              0.5555555555555556,
              "#d8576b"
             ],
             [
              0.6666666666666666,
              "#ed7953"
             ],
             [
              0.7777777777777778,
              "#fb9f3a"
             ],
             [
              0.8888888888888888,
              "#fdca26"
             ],
             [
              1,
              "#f0f921"
             ]
            ],
            "type": "heatmapgl"
           }
          ],
          "histogram": [
           {
            "marker": {
             "pattern": {
              "fillmode": "overlay",
              "size": 10,
              "solidity": 0.2
             }
            },
            "type": "histogram"
           }
          ],
          "histogram2d": [
           {
            "colorbar": {
             "outlinewidth": 0,
             "ticks": ""
            },
            "colorscale": [
             [
              0,
              "#0d0887"
             ],
             [
              0.1111111111111111,
              "#46039f"
             ],
             [
              0.2222222222222222,
              "#7201a8"
             ],
             [
              0.3333333333333333,
              "#9c179e"
             ],
             [
              0.4444444444444444,
              "#bd3786"
             ],
             [
              0.5555555555555556,
              "#d8576b"
             ],
             [
              0.6666666666666666,
              "#ed7953"
             ],
             [
              0.7777777777777778,
              "#fb9f3a"
             ],
             [
              0.8888888888888888,
              "#fdca26"
             ],
             [
              1,
              "#f0f921"
             ]
            ],
            "type": "histogram2d"
           }
          ],
          "histogram2dcontour": [
           {
            "colorbar": {
             "outlinewidth": 0,
             "ticks": ""
            },
            "colorscale": [
             [
              0,
              "#0d0887"
             ],
             [
              0.1111111111111111,
              "#46039f"
             ],
             [
              0.2222222222222222,
              "#7201a8"
             ],
             [
              0.3333333333333333,
              "#9c179e"
             ],
             [
              0.4444444444444444,
              "#bd3786"
             ],
             [
              0.5555555555555556,
              "#d8576b"
             ],
             [
              0.6666666666666666,
              "#ed7953"
             ],
             [
              0.7777777777777778,
              "#fb9f3a"
             ],
             [
              0.8888888888888888,
              "#fdca26"
             ],
             [
              1,
              "#f0f921"
             ]
            ],
            "type": "histogram2dcontour"
           }
          ],
          "mesh3d": [
           {
            "colorbar": {
             "outlinewidth": 0,
             "ticks": ""
            },
            "type": "mesh3d"
           }
          ],
          "parcoords": [
           {
            "line": {
             "colorbar": {
              "outlinewidth": 0,
              "ticks": ""
             }
            },
            "type": "parcoords"
           }
          ],
          "pie": [
           {
            "automargin": true,
            "type": "pie"
           }
          ],
          "scatter": [
           {
            "marker": {
             "colorbar": {
              "outlinewidth": 0,
              "ticks": ""
             }
            },
            "type": "scatter"
           }
          ],
          "scatter3d": [
           {
            "line": {
             "colorbar": {
              "outlinewidth": 0,
              "ticks": ""
             }
            },
            "marker": {
             "colorbar": {
              "outlinewidth": 0,
              "ticks": ""
             }
            },
            "type": "scatter3d"
           }
          ],
          "scattercarpet": [
           {
            "marker": {
             "colorbar": {
              "outlinewidth": 0,
              "ticks": ""
             }
            },
            "type": "scattercarpet"
           }
          ],
          "scattergeo": [
           {
            "marker": {
             "colorbar": {
              "outlinewidth": 0,
              "ticks": ""
             }
            },
            "type": "scattergeo"
           }
          ],
          "scattergl": [
           {
            "marker": {
             "colorbar": {
              "outlinewidth": 0,
              "ticks": ""
             }
            },
            "type": "scattergl"
           }
          ],
          "scattermapbox": [
           {
            "marker": {
             "colorbar": {
              "outlinewidth": 0,
              "ticks": ""
             }
            },
            "type": "scattermapbox"
           }
          ],
          "scatterpolar": [
           {
            "marker": {
             "colorbar": {
              "outlinewidth": 0,
              "ticks": ""
             }
            },
            "type": "scatterpolar"
           }
          ],
          "scatterpolargl": [
           {
            "marker": {
             "colorbar": {
              "outlinewidth": 0,
              "ticks": ""
             }
            },
            "type": "scatterpolargl"
           }
          ],
          "scatterternary": [
           {
            "marker": {
             "colorbar": {
              "outlinewidth": 0,
              "ticks": ""
             }
            },
            "type": "scatterternary"
           }
          ],
          "surface": [
           {
            "colorbar": {
             "outlinewidth": 0,
             "ticks": ""
            },
            "colorscale": [
             [
              0,
              "#0d0887"
             ],
             [
              0.1111111111111111,
              "#46039f"
             ],
             [
              0.2222222222222222,
              "#7201a8"
             ],
             [
              0.3333333333333333,
              "#9c179e"
             ],
             [
              0.4444444444444444,
              "#bd3786"
             ],
             [
              0.5555555555555556,
              "#d8576b"
             ],
             [
              0.6666666666666666,
              "#ed7953"
             ],
             [
              0.7777777777777778,
              "#fb9f3a"
             ],
             [
              0.8888888888888888,
              "#fdca26"
             ],
             [
              1,
              "#f0f921"
             ]
            ],
            "type": "surface"
           }
          ],
          "table": [
           {
            "cells": {
             "fill": {
              "color": "#EBF0F8"
             },
             "line": {
              "color": "white"
             }
            },
            "header": {
             "fill": {
              "color": "#C8D4E3"
             },
             "line": {
              "color": "white"
             }
            },
            "type": "table"
           }
          ]
         },
         "layout": {
          "annotationdefaults": {
           "arrowcolor": "#2a3f5f",
           "arrowhead": 0,
           "arrowwidth": 1
          },
          "autotypenumbers": "strict",
          "coloraxis": {
           "colorbar": {
            "outlinewidth": 0,
            "ticks": ""
           }
          },
          "colorscale": {
           "diverging": [
            [
             0,
             "#8e0152"
            ],
            [
             0.1,
             "#c51b7d"
            ],
            [
             0.2,
             "#de77ae"
            ],
            [
             0.3,
             "#f1b6da"
            ],
            [
             0.4,
             "#fde0ef"
            ],
            [
             0.5,
             "#f7f7f7"
            ],
            [
             0.6,
             "#e6f5d0"
            ],
            [
             0.7,
             "#b8e186"
            ],
            [
             0.8,
             "#7fbc41"
            ],
            [
             0.9,
             "#4d9221"
            ],
            [
             1,
             "#276419"
            ]
           ],
           "sequential": [
            [
             0,
             "#0d0887"
            ],
            [
             0.1111111111111111,
             "#46039f"
            ],
            [
             0.2222222222222222,
             "#7201a8"
            ],
            [
             0.3333333333333333,
             "#9c179e"
            ],
            [
             0.4444444444444444,
             "#bd3786"
            ],
            [
             0.5555555555555556,
             "#d8576b"
            ],
            [
             0.6666666666666666,
             "#ed7953"
            ],
            [
             0.7777777777777778,
             "#fb9f3a"
            ],
            [
             0.8888888888888888,
             "#fdca26"
            ],
            [
             1,
             "#f0f921"
            ]
           ],
           "sequentialminus": [
            [
             0,
             "#0d0887"
            ],
            [
             0.1111111111111111,
             "#46039f"
            ],
            [
             0.2222222222222222,
             "#7201a8"
            ],
            [
             0.3333333333333333,
             "#9c179e"
            ],
            [
             0.4444444444444444,
             "#bd3786"
            ],
            [
             0.5555555555555556,
             "#d8576b"
            ],
            [
             0.6666666666666666,
             "#ed7953"
            ],
            [
             0.7777777777777778,
             "#fb9f3a"
            ],
            [
             0.8888888888888888,
             "#fdca26"
            ],
            [
             1,
             "#f0f921"
            ]
           ]
          },
          "colorway": [
           "#636efa",
           "#EF553B",
           "#00cc96",
           "#ab63fa",
           "#FFA15A",
           "#19d3f3",
           "#FF6692",
           "#B6E880",
           "#FF97FF",
           "#FECB52"
          ],
          "font": {
           "color": "#2a3f5f"
          },
          "geo": {
           "bgcolor": "white",
           "lakecolor": "white",
           "landcolor": "#E5ECF6",
           "showlakes": true,
           "showland": true,
           "subunitcolor": "white"
          },
          "hoverlabel": {
           "align": "left"
          },
          "hovermode": "closest",
          "mapbox": {
           "style": "light"
          },
          "paper_bgcolor": "white",
          "plot_bgcolor": "#E5ECF6",
          "polar": {
           "angularaxis": {
            "gridcolor": "white",
            "linecolor": "white",
            "ticks": ""
           },
           "bgcolor": "#E5ECF6",
           "radialaxis": {
            "gridcolor": "white",
            "linecolor": "white",
            "ticks": ""
           }
          },
          "scene": {
           "xaxis": {
            "backgroundcolor": "#E5ECF6",
            "gridcolor": "white",
            "gridwidth": 2,
            "linecolor": "white",
            "showbackground": true,
            "ticks": "",
            "zerolinecolor": "white"
           },
           "yaxis": {
            "backgroundcolor": "#E5ECF6",
            "gridcolor": "white",
            "gridwidth": 2,
            "linecolor": "white",
            "showbackground": true,
            "ticks": "",
            "zerolinecolor": "white"
           },
           "zaxis": {
            "backgroundcolor": "#E5ECF6",
            "gridcolor": "white",
            "gridwidth": 2,
            "linecolor": "white",
            "showbackground": true,
            "ticks": "",
            "zerolinecolor": "white"
           }
          },
          "shapedefaults": {
           "line": {
            "color": "#2a3f5f"
           }
          },
          "ternary": {
           "aaxis": {
            "gridcolor": "white",
            "linecolor": "white",
            "ticks": ""
           },
           "baxis": {
            "gridcolor": "white",
            "linecolor": "white",
            "ticks": ""
           },
           "bgcolor": "#E5ECF6",
           "caxis": {
            "gridcolor": "white",
            "linecolor": "white",
            "ticks": ""
           }
          },
          "title": {
           "x": 0.05
          },
          "xaxis": {
           "automargin": true,
           "gridcolor": "white",
           "linecolor": "white",
           "ticks": "",
           "title": {
            "standoff": 15
           },
           "zerolinecolor": "white",
           "zerolinewidth": 2
          },
          "yaxis": {
           "automargin": true,
           "gridcolor": "white",
           "linecolor": "white",
           "ticks": "",
           "title": {
            "standoff": 15
           },
           "zerolinecolor": "white",
           "zerolinewidth": 2
          }
         }
        },
        "xaxis": {
         "anchor": "y",
         "domain": [
          0,
          1
         ],
         "title": {
          "text": "dist"
         }
        },
        "yaxis": {
         "anchor": "x",
         "domain": [
          0,
          1
         ],
         "title": {
          "text": "index"
         }
        }
       }
      },
      "text/html": [
       "<div>                            <div id=\"cd098ac5-ebb0-49b1-b6e6-3d7e2312f925\" class=\"plotly-graph-div\" style=\"height:525px; width:100%;\"></div>            <script type=\"text/javascript\">                require([\"plotly\"], function(Plotly) {                    window.PLOTLYENV=window.PLOTLYENV || {};                                    if (document.getElementById(\"cd098ac5-ebb0-49b1-b6e6-3d7e2312f925\")) {                    Plotly.newPlot(                        \"cd098ac5-ebb0-49b1-b6e6-3d7e2312f925\",                        [{\"hovertemplate\":\"dist=%{x}<br>index=%{y}<extra></extra>\",\"legendgroup\":\"\",\"line\":{\"color\":\"#636efa\",\"dash\":\"solid\"},\"marker\":{\"symbol\":\"circle\"},\"mode\":\"lines\",\"name\":\"\",\"orientation\":\"v\",\"showlegend\":false,\"x\":[0.0,0.0,0.0,0.0,0.0,0.0,0.0,0.0,0.0,0.0,0.0,0.0,0.0,0.012618296529968454,0.014084507042253521,0.01652892561983471,0.017241379310344827,0.023529411764705882,0.02631578947368421,0.030303030303030304,0.030534351145038167,0.03225806451612903,0.038461538461538464,0.038781163434903045,0.03968253968253968,0.041666666666666664,0.04455445544554455,0.047244094488188976,0.05319148936170213,0.053811659192825115,0.05555555555555555,0.06626506024096386,0.06976744186046512,0.08791208791208792,0.09947643979057591,0.11278195488721804,0.11450381679389313,0.11585365853658537,0.15555555555555556,0.16923076923076924,0.18181818181818182,0.1853932584269663,0.1885245901639344,0.20118343195266272,0.2097902097902098,0.2192513368983957,0.2192513368983957,0.23448275862068965,0.2545454545454545,0.25748502994011974,0.2682926829268293,0.270935960591133,0.2786885245901639,0.2839506172839506,0.291358024691358,0.2916666666666667,0.3028169014084507,0.3032258064516129,0.305,0.3069306930693069,0.31527093596059114,0.3176470588235294,0.3192771084337349,0.32515337423312884,0.336734693877551,0.343042071197411,0.375,0.38333333333333336,0.3888888888888889,0.3926174496644295,0.4099099099099099,0.44787644787644787,0.4496124031007752,0.4567627494456763,0.46994535519125685,0.47257383966244726,0.4830508474576271,0.5,0.5,0.5204081632653061,0.5263157894736842,0.5611111111111111,0.564935064935065,0.5821428571428572,0.6108597285067874,0.6111111111111112,0.6265060240963856,0.6943765281173594,0.6996904024767802,0.7006369426751592,0.7218934911242604,0.7270114942528736,0.7507598784194529,0.773542600896861,0.7892976588628763,0.8140350877192982,0.8567251461988304,1.0,1.0,1.0,1.0,1.0,null,null,null,null,null,null,null,null,null,null,null,null,null,null,null,null,null,null,null,null,null,null,null,null,null,null,null,null,null,null,null,null,null,null,null,null,null,null,null,null,null,null,null,null,null,null,null,null,null,null,null,null,null,null,null,null,null,null,null,null,null,null,null,null,null,null,null,null,null,null,null,null,null,null,null,null,null,null,null,null,null,null,null,null,null,null,null,null,null,null,null,null,null,null,null,null,null,null,null,null,null,null,null,null,null,null,null,null,null,null,null,null,null,null,null,null,null,null,null,null,null,null,null,null,null,null,null,null,null,null,null,null,null,null,null,null,null,null,null,null,null,null,null,null,null,null,null,null,null,null,null,null,null,null,null,null,null,null,null,null,null,null,null,null,null,null,null,null,null,null,null,null,null,null,null,null,null,null,null,null,null,null,null,null,null,null,null,null,null,null,null,null,null,null,null,null,null,null,null,null,null,null,null,null,null,null,null,null],\"xaxis\":\"x\",\"y\":[0,1,2,3,4,5,6,7,8,9,10,11,12,13,14,15,16,17,18,19,20,21,22,23,24,25,26,27,28,29,30,31,32,33,34,35,36,37,38,39,40,41,42,43,44,45,46,47,48,49,50,51,52,53,54,55,56,57,58,59,60,61,62,63,64,65,66,67,68,69,70,71,72,73,74,75,76,77,78,79,80,81,82,83,84,85,86,87,88,89,90,91,92,93,94,95,96,97,98,99,100,101,102,103,104,105,106,107,108,109,110,111,112,113,114,115,116,117,118,119,120,121,122,123,124,125,126,127,128,129,130,131,132,133,134,135,136,137,138,139,140,141,142,143,144,145,146,147,148,149,150,151,152,153,154,155,156,157,158,159,160,161,162,163,164,165,166,167,168,169,170,171,172,173,174,175,176,177,178,179,180,181,182,183,184,185,186,187,188,189,190,191,192,193,194,195,196,197,198,199,200,201,202,203,204,205,206,207,208,209,210,211,212,213,214,215,216,217,218,219,220,221,222,223,224,225,226,227,228,229,230,231,232,233,234,235,236,237,238,239,240,241,242,243,244,245,246,247,248,249,250,251,252,253,254,255,256,257,258,259,260,261,262,263,264,265,266,267,268,269,270,271,272,273,274,275,276,277,278,279,280,281,282,283,284,285,286,287,288,289,290,291,292,293,294,295,296,297,298,299,300,301,302,303,304,305,306,307,308,309],\"yaxis\":\"y\",\"type\":\"scatter\"}],                        {\"template\":{\"data\":{\"bar\":[{\"error_x\":{\"color\":\"#2a3f5f\"},\"error_y\":{\"color\":\"#2a3f5f\"},\"marker\":{\"line\":{\"color\":\"#E5ECF6\",\"width\":0.5},\"pattern\":{\"fillmode\":\"overlay\",\"size\":10,\"solidity\":0.2}},\"type\":\"bar\"}],\"barpolar\":[{\"marker\":{\"line\":{\"color\":\"#E5ECF6\",\"width\":0.5},\"pattern\":{\"fillmode\":\"overlay\",\"size\":10,\"solidity\":0.2}},\"type\":\"barpolar\"}],\"carpet\":[{\"aaxis\":{\"endlinecolor\":\"#2a3f5f\",\"gridcolor\":\"white\",\"linecolor\":\"white\",\"minorgridcolor\":\"white\",\"startlinecolor\":\"#2a3f5f\"},\"baxis\":{\"endlinecolor\":\"#2a3f5f\",\"gridcolor\":\"white\",\"linecolor\":\"white\",\"minorgridcolor\":\"white\",\"startlinecolor\":\"#2a3f5f\"},\"type\":\"carpet\"}],\"choropleth\":[{\"colorbar\":{\"outlinewidth\":0,\"ticks\":\"\"},\"type\":\"choropleth\"}],\"contour\":[{\"colorbar\":{\"outlinewidth\":0,\"ticks\":\"\"},\"colorscale\":[[0.0,\"#0d0887\"],[0.1111111111111111,\"#46039f\"],[0.2222222222222222,\"#7201a8\"],[0.3333333333333333,\"#9c179e\"],[0.4444444444444444,\"#bd3786\"],[0.5555555555555556,\"#d8576b\"],[0.6666666666666666,\"#ed7953\"],[0.7777777777777778,\"#fb9f3a\"],[0.8888888888888888,\"#fdca26\"],[1.0,\"#f0f921\"]],\"type\":\"contour\"}],\"contourcarpet\":[{\"colorbar\":{\"outlinewidth\":0,\"ticks\":\"\"},\"type\":\"contourcarpet\"}],\"heatmap\":[{\"colorbar\":{\"outlinewidth\":0,\"ticks\":\"\"},\"colorscale\":[[0.0,\"#0d0887\"],[0.1111111111111111,\"#46039f\"],[0.2222222222222222,\"#7201a8\"],[0.3333333333333333,\"#9c179e\"],[0.4444444444444444,\"#bd3786\"],[0.5555555555555556,\"#d8576b\"],[0.6666666666666666,\"#ed7953\"],[0.7777777777777778,\"#fb9f3a\"],[0.8888888888888888,\"#fdca26\"],[1.0,\"#f0f921\"]],\"type\":\"heatmap\"}],\"heatmapgl\":[{\"colorbar\":{\"outlinewidth\":0,\"ticks\":\"\"},\"colorscale\":[[0.0,\"#0d0887\"],[0.1111111111111111,\"#46039f\"],[0.2222222222222222,\"#7201a8\"],[0.3333333333333333,\"#9c179e\"],[0.4444444444444444,\"#bd3786\"],[0.5555555555555556,\"#d8576b\"],[0.6666666666666666,\"#ed7953\"],[0.7777777777777778,\"#fb9f3a\"],[0.8888888888888888,\"#fdca26\"],[1.0,\"#f0f921\"]],\"type\":\"heatmapgl\"}],\"histogram\":[{\"marker\":{\"pattern\":{\"fillmode\":\"overlay\",\"size\":10,\"solidity\":0.2}},\"type\":\"histogram\"}],\"histogram2d\":[{\"colorbar\":{\"outlinewidth\":0,\"ticks\":\"\"},\"colorscale\":[[0.0,\"#0d0887\"],[0.1111111111111111,\"#46039f\"],[0.2222222222222222,\"#7201a8\"],[0.3333333333333333,\"#9c179e\"],[0.4444444444444444,\"#bd3786\"],[0.5555555555555556,\"#d8576b\"],[0.6666666666666666,\"#ed7953\"],[0.7777777777777778,\"#fb9f3a\"],[0.8888888888888888,\"#fdca26\"],[1.0,\"#f0f921\"]],\"type\":\"histogram2d\"}],\"histogram2dcontour\":[{\"colorbar\":{\"outlinewidth\":0,\"ticks\":\"\"},\"colorscale\":[[0.0,\"#0d0887\"],[0.1111111111111111,\"#46039f\"],[0.2222222222222222,\"#7201a8\"],[0.3333333333333333,\"#9c179e\"],[0.4444444444444444,\"#bd3786\"],[0.5555555555555556,\"#d8576b\"],[0.6666666666666666,\"#ed7953\"],[0.7777777777777778,\"#fb9f3a\"],[0.8888888888888888,\"#fdca26\"],[1.0,\"#f0f921\"]],\"type\":\"histogram2dcontour\"}],\"mesh3d\":[{\"colorbar\":{\"outlinewidth\":0,\"ticks\":\"\"},\"type\":\"mesh3d\"}],\"parcoords\":[{\"line\":{\"colorbar\":{\"outlinewidth\":0,\"ticks\":\"\"}},\"type\":\"parcoords\"}],\"pie\":[{\"automargin\":true,\"type\":\"pie\"}],\"scatter\":[{\"marker\":{\"colorbar\":{\"outlinewidth\":0,\"ticks\":\"\"}},\"type\":\"scatter\"}],\"scatter3d\":[{\"line\":{\"colorbar\":{\"outlinewidth\":0,\"ticks\":\"\"}},\"marker\":{\"colorbar\":{\"outlinewidth\":0,\"ticks\":\"\"}},\"type\":\"scatter3d\"}],\"scattercarpet\":[{\"marker\":{\"colorbar\":{\"outlinewidth\":0,\"ticks\":\"\"}},\"type\":\"scattercarpet\"}],\"scattergeo\":[{\"marker\":{\"colorbar\":{\"outlinewidth\":0,\"ticks\":\"\"}},\"type\":\"scattergeo\"}],\"scattergl\":[{\"marker\":{\"colorbar\":{\"outlinewidth\":0,\"ticks\":\"\"}},\"type\":\"scattergl\"}],\"scattermapbox\":[{\"marker\":{\"colorbar\":{\"outlinewidth\":0,\"ticks\":\"\"}},\"type\":\"scattermapbox\"}],\"scatterpolar\":[{\"marker\":{\"colorbar\":{\"outlinewidth\":0,\"ticks\":\"\"}},\"type\":\"scatterpolar\"}],\"scatterpolargl\":[{\"marker\":{\"colorbar\":{\"outlinewidth\":0,\"ticks\":\"\"}},\"type\":\"scatterpolargl\"}],\"scatterternary\":[{\"marker\":{\"colorbar\":{\"outlinewidth\":0,\"ticks\":\"\"}},\"type\":\"scatterternary\"}],\"surface\":[{\"colorbar\":{\"outlinewidth\":0,\"ticks\":\"\"},\"colorscale\":[[0.0,\"#0d0887\"],[0.1111111111111111,\"#46039f\"],[0.2222222222222222,\"#7201a8\"],[0.3333333333333333,\"#9c179e\"],[0.4444444444444444,\"#bd3786\"],[0.5555555555555556,\"#d8576b\"],[0.6666666666666666,\"#ed7953\"],[0.7777777777777778,\"#fb9f3a\"],[0.8888888888888888,\"#fdca26\"],[1.0,\"#f0f921\"]],\"type\":\"surface\"}],\"table\":[{\"cells\":{\"fill\":{\"color\":\"#EBF0F8\"},\"line\":{\"color\":\"white\"}},\"header\":{\"fill\":{\"color\":\"#C8D4E3\"},\"line\":{\"color\":\"white\"}},\"type\":\"table\"}]},\"layout\":{\"annotationdefaults\":{\"arrowcolor\":\"#2a3f5f\",\"arrowhead\":0,\"arrowwidth\":1},\"autotypenumbers\":\"strict\",\"coloraxis\":{\"colorbar\":{\"outlinewidth\":0,\"ticks\":\"\"}},\"colorscale\":{\"diverging\":[[0,\"#8e0152\"],[0.1,\"#c51b7d\"],[0.2,\"#de77ae\"],[0.3,\"#f1b6da\"],[0.4,\"#fde0ef\"],[0.5,\"#f7f7f7\"],[0.6,\"#e6f5d0\"],[0.7,\"#b8e186\"],[0.8,\"#7fbc41\"],[0.9,\"#4d9221\"],[1,\"#276419\"]],\"sequential\":[[0.0,\"#0d0887\"],[0.1111111111111111,\"#46039f\"],[0.2222222222222222,\"#7201a8\"],[0.3333333333333333,\"#9c179e\"],[0.4444444444444444,\"#bd3786\"],[0.5555555555555556,\"#d8576b\"],[0.6666666666666666,\"#ed7953\"],[0.7777777777777778,\"#fb9f3a\"],[0.8888888888888888,\"#fdca26\"],[1.0,\"#f0f921\"]],\"sequentialminus\":[[0.0,\"#0d0887\"],[0.1111111111111111,\"#46039f\"],[0.2222222222222222,\"#7201a8\"],[0.3333333333333333,\"#9c179e\"],[0.4444444444444444,\"#bd3786\"],[0.5555555555555556,\"#d8576b\"],[0.6666666666666666,\"#ed7953\"],[0.7777777777777778,\"#fb9f3a\"],[0.8888888888888888,\"#fdca26\"],[1.0,\"#f0f921\"]]},\"colorway\":[\"#636efa\",\"#EF553B\",\"#00cc96\",\"#ab63fa\",\"#FFA15A\",\"#19d3f3\",\"#FF6692\",\"#B6E880\",\"#FF97FF\",\"#FECB52\"],\"font\":{\"color\":\"#2a3f5f\"},\"geo\":{\"bgcolor\":\"white\",\"lakecolor\":\"white\",\"landcolor\":\"#E5ECF6\",\"showlakes\":true,\"showland\":true,\"subunitcolor\":\"white\"},\"hoverlabel\":{\"align\":\"left\"},\"hovermode\":\"closest\",\"mapbox\":{\"style\":\"light\"},\"paper_bgcolor\":\"white\",\"plot_bgcolor\":\"#E5ECF6\",\"polar\":{\"angularaxis\":{\"gridcolor\":\"white\",\"linecolor\":\"white\",\"ticks\":\"\"},\"bgcolor\":\"#E5ECF6\",\"radialaxis\":{\"gridcolor\":\"white\",\"linecolor\":\"white\",\"ticks\":\"\"}},\"scene\":{\"xaxis\":{\"backgroundcolor\":\"#E5ECF6\",\"gridcolor\":\"white\",\"gridwidth\":2,\"linecolor\":\"white\",\"showbackground\":true,\"ticks\":\"\",\"zerolinecolor\":\"white\"},\"yaxis\":{\"backgroundcolor\":\"#E5ECF6\",\"gridcolor\":\"white\",\"gridwidth\":2,\"linecolor\":\"white\",\"showbackground\":true,\"ticks\":\"\",\"zerolinecolor\":\"white\"},\"zaxis\":{\"backgroundcolor\":\"#E5ECF6\",\"gridcolor\":\"white\",\"gridwidth\":2,\"linecolor\":\"white\",\"showbackground\":true,\"ticks\":\"\",\"zerolinecolor\":\"white\"}},\"shapedefaults\":{\"line\":{\"color\":\"#2a3f5f\"}},\"ternary\":{\"aaxis\":{\"gridcolor\":\"white\",\"linecolor\":\"white\",\"ticks\":\"\"},\"baxis\":{\"gridcolor\":\"white\",\"linecolor\":\"white\",\"ticks\":\"\"},\"bgcolor\":\"#E5ECF6\",\"caxis\":{\"gridcolor\":\"white\",\"linecolor\":\"white\",\"ticks\":\"\"}},\"title\":{\"x\":0.05},\"xaxis\":{\"automargin\":true,\"gridcolor\":\"white\",\"linecolor\":\"white\",\"ticks\":\"\",\"title\":{\"standoff\":15},\"zerolinecolor\":\"white\",\"zerolinewidth\":2},\"yaxis\":{\"automargin\":true,\"gridcolor\":\"white\",\"linecolor\":\"white\",\"ticks\":\"\",\"title\":{\"standoff\":15},\"zerolinecolor\":\"white\",\"zerolinewidth\":2}}},\"xaxis\":{\"anchor\":\"y\",\"domain\":[0.0,1.0],\"title\":{\"text\":\"dist\"}},\"yaxis\":{\"anchor\":\"x\",\"domain\":[0.0,1.0],\"title\":{\"text\":\"index\"}},\"legend\":{\"tracegroupgap\":0},\"margin\":{\"t\":60}},                        {\"responsive\": true}                    ).then(function(){\n",
       "                            \n",
       "var gd = document.getElementById('cd098ac5-ebb0-49b1-b6e6-3d7e2312f925');\n",
       "var x = new MutationObserver(function (mutations, observer) {{\n",
       "        var display = window.getComputedStyle(gd).display;\n",
       "        if (!display || display === 'none') {{\n",
       "            console.log([gd, 'removed!']);\n",
       "            Plotly.purge(gd);\n",
       "            observer.disconnect();\n",
       "        }}\n",
       "}});\n",
       "\n",
       "// Listen for the removal of the full notebook cells\n",
       "var notebookContainer = gd.closest('#notebook-container');\n",
       "if (notebookContainer) {{\n",
       "    x.observe(notebookContainer, {childList: true});\n",
       "}}\n",
       "\n",
       "// Listen for the clearing of the current output cell\n",
       "var outputEl = gd.closest('.output');\n",
       "if (outputEl) {{\n",
       "    x.observe(outputEl, {childList: true});\n",
       "}}\n",
       "\n",
       "                        })                };                });            </script>        </div>"
      ]
     },
     "metadata": {},
     "output_type": "display_data"
    }
   ],
   "source": [
    "import plotly.express as px\n",
    "df_sorted = df.sort_values(by=\"dist\")\n",
    "px.line(df_sorted.reset_index(drop=True).reset_index(), x=\"dist\", y=\"index\").show()"
   ]
  },
  {
   "cell_type": "code",
   "execution_count": 76,
   "id": "44a8e649",
   "metadata": {},
   "outputs": [
    {
     "data": {
      "text/html": [
       "<div>\n",
       "<style scoped>\n",
       "    .dataframe tbody tr th:only-of-type {\n",
       "        vertical-align: middle;\n",
       "    }\n",
       "\n",
       "    .dataframe tbody tr th {\n",
       "        vertical-align: top;\n",
       "    }\n",
       "\n",
       "    .dataframe thead th {\n",
       "        text-align: right;\n",
       "    }\n",
       "</style>\n",
       "<table border=\"1\" class=\"dataframe\">\n",
       "  <thead>\n",
       "    <tr style=\"text-align: right;\">\n",
       "      <th></th>\n",
       "      <th>filename</th>\n",
       "      <th>filing_date</th>\n",
       "      <th>publication_date</th>\n",
       "      <th>priority_date</th>\n",
       "      <th>ipc_classes</th>\n",
       "      <th>assignee</th>\n",
       "      <th>inventors</th>\n",
       "      <th>docdb_family_id</th>\n",
       "      <th>title</th>\n",
       "      <th>abstract</th>\n",
       "      <th>claims</th>\n",
       "      <th>to_keep</th>\n",
       "      <th>dist</th>\n",
       "    </tr>\n",
       "  </thead>\n",
       "  <tbody>\n",
       "    <tr>\n",
       "      <th>321</th>\n",
       "      <td>US2003120550</td>\n",
       "      <td>2001-12-21</td>\n",
       "      <td>2003-06-26</td>\n",
       "      <td>2001-12-21</td>\n",
       "      <td>G06F17/30,G06Q30/06</td>\n",
       "      <td>L'OREAL</td>\n",
       "      <td>PEYRELEVADE JEROMEPOUTEAU ARNOLDBURGARD DOMINQUE</td>\n",
       "      <td>21820138</td>\n",
       "      <td>shop-in-shop website construction</td>\n",
       "      <td>systems, methods, and products may employ a mo...</td>\n",
       "      <td>1. a method for facilitating modular construct...</td>\n",
       "      <td>True</td>\n",
       "      <td>0.0</td>\n",
       "    </tr>\n",
       "    <tr>\n",
       "      <th>242</th>\n",
       "      <td>US2017251130</td>\n",
       "      <td>2017-02-10</td>\n",
       "      <td>2017-08-31</td>\n",
       "      <td>2016-02-29</td>\n",
       "      <td>A45D40/30,A45D44/00,A61F13/00,A61K8/02,A61Q1/0...</td>\n",
       "      <td>PANASONIC INTELLECTUAL PROPERTY</td>\n",
       "      <td>SHINODA, MASAYO</td>\n",
       "      <td>58094194</td>\n",
       "      <td>image processing apparatus and method to gener...</td>\n",
       "      <td>an image processing apparatus generates image ...</td>\n",
       "      <td>1. an image processing apparatus that generate...</td>\n",
       "      <td>False</td>\n",
       "      <td>0.0</td>\n",
       "    </tr>\n",
       "    <tr>\n",
       "      <th>300</th>\n",
       "      <td>WO2010093503</td>\n",
       "      <td>2010-01-20</td>\n",
       "      <td>2010-08-19</td>\n",
       "      <td>2007-01-05</td>\n",
       "      <td>A61B6/00,G01N21/21</td>\n",
       "      <td>MYSKINMEHENDALE, RAHULMARINKOVICH, SAVAKORUGA,...</td>\n",
       "      <td>MEHENDALE, RAHULMARINKOVICH, SAVAKORUGA, DJURO...</td>\n",
       "      <td>42562243</td>\n",
       "      <td>skin analysis methods</td>\n",
       "      <td>the present invention generally relates to a s...</td>\n",
       "      <td>what is claimed is:1. a skin care device, the ...</td>\n",
       "      <td>True</td>\n",
       "      <td>0.0</td>\n",
       "    </tr>\n",
       "    <tr>\n",
       "      <th>230</th>\n",
       "      <td>US10249050</td>\n",
       "      <td>2017-09-15</td>\n",
       "      <td>2019-04-02</td>\n",
       "      <td>2016-09-27</td>\n",
       "      <td>G06T7/00,G06T7/11,G06T7/12,G06T7/149,G06T7/174...</td>\n",
       "      <td>CANON</td>\n",
       "      <td>ENDO TAKAAKINAKANO, YUTASATOH, KIYOHIDE</td>\n",
       "      <td>61687337</td>\n",
       "      <td>image processing apparatus and image processin...</td>\n",
       "      <td>an image processing apparatus includes an imag...</td>\n",
       "      <td>1. an image processing apparatus that aligns a...</td>\n",
       "      <td>True</td>\n",
       "      <td>0.0</td>\n",
       "    </tr>\n",
       "    <tr>\n",
       "      <th>216</th>\n",
       "      <td>US10491813</td>\n",
       "      <td>2019-05-15</td>\n",
       "      <td>2019-11-26</td>\n",
       "      <td>2016-12-07</td>\n",
       "      <td>A61B1/00,G06K9/32,G06T7/11,H04N5/232</td>\n",
       "      <td>OLYMPUS CORPORATION</td>\n",
       "      <td>SHIRATANI, FUMIYUKI</td>\n",
       "      <td>62492311</td>\n",
       "      <td>image processing apparatus and image processin...</td>\n",
       "      <td>an image processing apparatus includes an imag...</td>\n",
       "      <td>1. an image processing apparatus comprising a ...</td>\n",
       "      <td>True</td>\n",
       "      <td>0.0</td>\n",
       "    </tr>\n",
       "    <tr>\n",
       "      <th>...</th>\n",
       "      <td>...</td>\n",
       "      <td>...</td>\n",
       "      <td>...</td>\n",
       "      <td>...</td>\n",
       "      <td>...</td>\n",
       "      <td>...</td>\n",
       "      <td>...</td>\n",
       "      <td>...</td>\n",
       "      <td>...</td>\n",
       "      <td>...</td>\n",
       "      <td>...</td>\n",
       "      <td>...</td>\n",
       "      <td>...</td>\n",
       "    </tr>\n",
       "    <tr>\n",
       "      <th>8</th>\n",
       "      <td>US2020399558</td>\n",
       "      <td>2020-06-17</td>\n",
       "      <td>2020-12-24</td>\n",
       "      <td>2019-06-21</td>\n",
       "      <td>A23L27/00,C11B9/00</td>\n",
       "      <td>UNIVERSITY OF CALIFORNIA</td>\n",
       "      <td>RAY, ANANDASANKARKOWALEWSKI, Joel</td>\n",
       "      <td>74039135</td>\n",
       "      <td>methods for identifying, compounds identified ...</td>\n",
       "      <td>provided herein are screening methods for iden...</td>\n",
       "      <td>1. a flavor/fragrance composition, comprising ...</td>\n",
       "      <td>True</td>\n",
       "      <td>NaN</td>\n",
       "    </tr>\n",
       "    <tr>\n",
       "      <th>7</th>\n",
       "      <td>US2020405037</td>\n",
       "      <td>2019-06-26</td>\n",
       "      <td>2020-12-31</td>\n",
       "      <td>2019-06-26</td>\n",
       "      <td>A45D34/04</td>\n",
       "      <td>L'OREAL</td>\n",
       "      <td>BICKFORD, WILLIAMEl-Sayed, RogenaFodor, Nicholas</td>\n",
       "      <td>74043320</td>\n",
       "      <td>cosmetic package including a liquid reservoir</td>\n",
       "      <td>cosmetic formula containers generally include ...</td>\n",
       "      <td>the embodiments of the invention in which an e...</td>\n",
       "      <td>True</td>\n",
       "      <td>NaN</td>\n",
       "    </tr>\n",
       "    <tr>\n",
       "      <th>180</th>\n",
       "      <td>US2020410755</td>\n",
       "      <td>2020-06-15</td>\n",
       "      <td>2020-12-31</td>\n",
       "      <td>2019-06-25</td>\n",
       "      <td>G06K9/00,G06T19/00,G10L15/08</td>\n",
       "      <td>SONY INTERACTIVE ENTERTAINMENT</td>\n",
       "      <td>NAKATA, MASASHI</td>\n",
       "      <td>74044172</td>\n",
       "      <td>image processing apparatus and image processin...</td>\n",
       "      <td>an image processing apparatus includes an imag...</td>\n",
       "      <td>1. an image processing apparatus comprising: a...</td>\n",
       "      <td>True</td>\n",
       "      <td>NaN</td>\n",
       "    </tr>\n",
       "    <tr>\n",
       "      <th>6</th>\n",
       "      <td>US2021000243</td>\n",
       "      <td>2019-07-02</td>\n",
       "      <td>2021-01-07</td>\n",
       "      <td>2019-07-02</td>\n",
       "      <td>A45D44/00,G06F9/54,G06Q10/08</td>\n",
       "      <td>Gemma Labs Inc.</td>\n",
       "      <td>LOVING, ADAM DEANRush, Richard BenjaminHarr, A...</td>\n",
       "      <td>74066188</td>\n",
       "      <td>personal care product recommendation platform</td>\n",
       "      <td>disclosed is a personal care product platform ...</td>\n",
       "      <td>1. a system for recommending personal care pro...</td>\n",
       "      <td>True</td>\n",
       "      <td>NaN</td>\n",
       "    </tr>\n",
       "    <tr>\n",
       "      <th>4</th>\n",
       "      <td>US10897979</td>\n",
       "      <td>2019-09-12</td>\n",
       "      <td>2021-01-26</td>\n",
       "      <td>2019-09-12</td>\n",
       "      <td>A45D44/00,A61Q5/10,G05B17/02,G06K9/46,G06T11/0...</td>\n",
       "      <td>SURETINT TECHNOLOGIES</td>\n",
       "      <td>Byrne, ChristopherNash, Cody Z.Christie, Eliza...</td>\n",
       "      <td>74191038</td>\n",
       "      <td>system and method for hair dye color conversion</td>\n",
       "      <td>a system and method is provided for hair dye c...</td>\n",
       "      <td>1. a method for hair dye color conversion in w...</td>\n",
       "      <td>True</td>\n",
       "      <td>NaN</td>\n",
       "    </tr>\n",
       "  </tbody>\n",
       "</table>\n",
       "<p>310 rows × 13 columns</p>\n",
       "</div>"
      ],
      "text/plain": [
       "         filename filing_date publication_date priority_date  \\\n",
       "321  US2003120550  2001-12-21       2003-06-26    2001-12-21   \n",
       "242  US2017251130  2017-02-10       2017-08-31    2016-02-29   \n",
       "300  WO2010093503  2010-01-20       2010-08-19    2007-01-05   \n",
       "230    US10249050  2017-09-15       2019-04-02    2016-09-27   \n",
       "216    US10491813  2019-05-15       2019-11-26    2016-12-07   \n",
       "..            ...         ...              ...           ...   \n",
       "8    US2020399558  2020-06-17       2020-12-24    2019-06-21   \n",
       "7    US2020405037  2019-06-26       2020-12-31    2019-06-26   \n",
       "180  US2020410755  2020-06-15       2020-12-31    2019-06-25   \n",
       "6    US2021000243  2019-07-02       2021-01-07    2019-07-02   \n",
       "4      US10897979  2019-09-12       2021-01-26    2019-09-12   \n",
       "\n",
       "                                           ipc_classes  \\\n",
       "321                                G06F17/30,G06Q30/06   \n",
       "242  A45D40/30,A45D44/00,A61F13/00,A61K8/02,A61Q1/0...   \n",
       "300                                 A61B6/00,G01N21/21   \n",
       "230  G06T7/00,G06T7/11,G06T7/12,G06T7/149,G06T7/174...   \n",
       "216               A61B1/00,G06K9/32,G06T7/11,H04N5/232   \n",
       "..                                                 ...   \n",
       "8                                   A23L27/00,C11B9/00   \n",
       "7                                            A45D34/04   \n",
       "180                       G06K9/00,G06T19/00,G10L15/08   \n",
       "6                         A45D44/00,G06F9/54,G06Q10/08   \n",
       "4    A45D44/00,A61Q5/10,G05B17/02,G06K9/46,G06T11/0...   \n",
       "\n",
       "                                              assignee  \\\n",
       "321                                            L'OREAL   \n",
       "242                    PANASONIC INTELLECTUAL PROPERTY   \n",
       "300  MYSKINMEHENDALE, RAHULMARINKOVICH, SAVAKORUGA,...   \n",
       "230                                              CANON   \n",
       "216                                OLYMPUS CORPORATION   \n",
       "..                                                 ...   \n",
       "8                             UNIVERSITY OF CALIFORNIA   \n",
       "7                                              L'OREAL   \n",
       "180                     SONY INTERACTIVE ENTERTAINMENT   \n",
       "6                                      Gemma Labs Inc.   \n",
       "4                                SURETINT TECHNOLOGIES   \n",
       "\n",
       "                                             inventors  docdb_family_id  \\\n",
       "321   PEYRELEVADE JEROMEPOUTEAU ARNOLDBURGARD DOMINQUE         21820138   \n",
       "242                                    SHINODA, MASAYO         58094194   \n",
       "300  MEHENDALE, RAHULMARINKOVICH, SAVAKORUGA, DJURO...         42562243   \n",
       "230            ENDO TAKAAKINAKANO, YUTASATOH, KIYOHIDE         61687337   \n",
       "216                                SHIRATANI, FUMIYUKI         62492311   \n",
       "..                                                 ...              ...   \n",
       "8                    RAY, ANANDASANKARKOWALEWSKI, Joel         74039135   \n",
       "7     BICKFORD, WILLIAMEl-Sayed, RogenaFodor, Nicholas         74043320   \n",
       "180                                    NAKATA, MASASHI         74044172   \n",
       "6    LOVING, ADAM DEANRush, Richard BenjaminHarr, A...         74066188   \n",
       "4    Byrne, ChristopherNash, Cody Z.Christie, Eliza...         74191038   \n",
       "\n",
       "                                                 title  \\\n",
       "321                  shop-in-shop website construction   \n",
       "242  image processing apparatus and method to gener...   \n",
       "300                              skin analysis methods   \n",
       "230  image processing apparatus and image processin...   \n",
       "216  image processing apparatus and image processin...   \n",
       "..                                                 ...   \n",
       "8    methods for identifying, compounds identified ...   \n",
       "7        cosmetic package including a liquid reservoir   \n",
       "180  image processing apparatus and image processin...   \n",
       "6        personal care product recommendation platform   \n",
       "4      system and method for hair dye color conversion   \n",
       "\n",
       "                                              abstract  \\\n",
       "321  systems, methods, and products may employ a mo...   \n",
       "242  an image processing apparatus generates image ...   \n",
       "300  the present invention generally relates to a s...   \n",
       "230  an image processing apparatus includes an imag...   \n",
       "216  an image processing apparatus includes an imag...   \n",
       "..                                                 ...   \n",
       "8    provided herein are screening methods for iden...   \n",
       "7    cosmetic formula containers generally include ...   \n",
       "180  an image processing apparatus includes an imag...   \n",
       "6    disclosed is a personal care product platform ...   \n",
       "4    a system and method is provided for hair dye c...   \n",
       "\n",
       "                                                claims  to_keep  dist  \n",
       "321  1. a method for facilitating modular construct...     True   0.0  \n",
       "242  1. an image processing apparatus that generate...    False   0.0  \n",
       "300  what is claimed is:1. a skin care device, the ...     True   0.0  \n",
       "230  1. an image processing apparatus that aligns a...     True   0.0  \n",
       "216  1. an image processing apparatus comprising a ...     True   0.0  \n",
       "..                                                 ...      ...   ...  \n",
       "8    1. a flavor/fragrance composition, comprising ...     True   NaN  \n",
       "7    the embodiments of the invention in which an e...     True   NaN  \n",
       "180  1. an image processing apparatus comprising: a...     True   NaN  \n",
       "6    1. a system for recommending personal care pro...     True   NaN  \n",
       "4    1. a method for hair dye color conversion in w...     True   NaN  \n",
       "\n",
       "[310 rows x 13 columns]"
      ]
     },
     "execution_count": 76,
     "metadata": {},
     "output_type": "execute_result"
    }
   ],
   "source": [
    "df_sorted"
   ]
  },
  {
   "cell_type": "code",
   "execution_count": null,
   "id": "61e831c0",
   "metadata": {},
   "outputs": [],
   "source": []
  },
  {
   "cell_type": "code",
   "execution_count": 80,
   "id": "96c7831e",
   "metadata": {},
   "outputs": [
    {
     "data": {
      "text/plain": [
       "310"
      ]
     },
     "execution_count": 80,
     "metadata": {},
     "output_type": "execute_result"
    }
   ],
   "source": [
    "len(df)"
   ]
  },
  {
   "cell_type": "code",
   "execution_count": 81,
   "id": "ef549f55",
   "metadata": {},
   "outputs": [
    {
     "data": {
      "text/plain": [
       "204"
      ]
     },
     "execution_count": 81,
     "metadata": {},
     "output_type": "execute_result"
    }
   ],
   "source": [
    "len(df[df.to_keep == True])"
   ]
  },
  {
   "cell_type": "code",
   "execution_count": 82,
   "id": "1ebf4585",
   "metadata": {},
   "outputs": [
    {
     "data": {
      "text/html": [
       "<div>\n",
       "<style scoped>\n",
       "    .dataframe tbody tr th:only-of-type {\n",
       "        vertical-align: middle;\n",
       "    }\n",
       "\n",
       "    .dataframe tbody tr th {\n",
       "        vertical-align: top;\n",
       "    }\n",
       "\n",
       "    .dataframe thead th {\n",
       "        text-align: right;\n",
       "    }\n",
       "</style>\n",
       "<table border=\"1\" class=\"dataframe\">\n",
       "  <thead>\n",
       "    <tr style=\"text-align: right;\">\n",
       "      <th></th>\n",
       "      <th>title</th>\n",
       "      <th>docdb_family_id</th>\n",
       "      <th>claims</th>\n",
       "      <th>dist</th>\n",
       "    </tr>\n",
       "  </thead>\n",
       "  <tbody>\n",
       "    <tr>\n",
       "      <th>321</th>\n",
       "      <td>shop-in-shop website construction</td>\n",
       "      <td>21820138</td>\n",
       "      <td>1. a method for facilitating modular construct...</td>\n",
       "      <td>0.000000</td>\n",
       "    </tr>\n",
       "    <tr>\n",
       "      <th>319</th>\n",
       "      <td>cosmetic affinity indexing</td>\n",
       "      <td>21820158</td>\n",
       "      <td>1. a method of helping a consumer make a cosme...</td>\n",
       "      <td>NaN</td>\n",
       "    </tr>\n",
       "    <tr>\n",
       "      <th>322</th>\n",
       "      <td>method of evaluating cosmetic products on a co...</td>\n",
       "      <td>22926956</td>\n",
       "      <td>1. a method for demonstrating effectiveness of...</td>\n",
       "      <td>NaN</td>\n",
       "    </tr>\n",
       "    <tr>\n",
       "      <th>29</th>\n",
       "      <td>body image enhancement</td>\n",
       "      <td>26698498</td>\n",
       "      <td>a method of constructing a body image, the met...</td>\n",
       "      <td>0.456763</td>\n",
       "    </tr>\n",
       "    <tr>\n",
       "      <th>318</th>\n",
       "      <td>complete compact</td>\n",
       "      <td>26990036</td>\n",
       "      <td>i claim:1. a method for determining aroma comp...</td>\n",
       "      <td>NaN</td>\n",
       "    </tr>\n",
       "    <tr>\n",
       "      <th>...</th>\n",
       "      <td>...</td>\n",
       "      <td>...</td>\n",
       "      <td>...</td>\n",
       "      <td>...</td>\n",
       "    </tr>\n",
       "    <tr>\n",
       "      <th>8</th>\n",
       "      <td>methods for identifying, compounds identified ...</td>\n",
       "      <td>74039135</td>\n",
       "      <td>1. a flavor/fragrance composition, comprising ...</td>\n",
       "      <td>NaN</td>\n",
       "    </tr>\n",
       "    <tr>\n",
       "      <th>7</th>\n",
       "      <td>cosmetic package including a liquid reservoir</td>\n",
       "      <td>74043320</td>\n",
       "      <td>the embodiments of the invention in which an e...</td>\n",
       "      <td>NaN</td>\n",
       "    </tr>\n",
       "    <tr>\n",
       "      <th>180</th>\n",
       "      <td>image processing apparatus and image processin...</td>\n",
       "      <td>74044172</td>\n",
       "      <td>1. an image processing apparatus comprising: a...</td>\n",
       "      <td>NaN</td>\n",
       "    </tr>\n",
       "    <tr>\n",
       "      <th>6</th>\n",
       "      <td>personal care product recommendation platform</td>\n",
       "      <td>74066188</td>\n",
       "      <td>1. a system for recommending personal care pro...</td>\n",
       "      <td>NaN</td>\n",
       "    </tr>\n",
       "    <tr>\n",
       "      <th>4</th>\n",
       "      <td>system and method for hair dye color conversion</td>\n",
       "      <td>74191038</td>\n",
       "      <td>1. a method for hair dye color conversion in w...</td>\n",
       "      <td>NaN</td>\n",
       "    </tr>\n",
       "  </tbody>\n",
       "</table>\n",
       "<p>204 rows × 4 columns</p>\n",
       "</div>"
      ],
      "text/plain": [
       "                                                 title  docdb_family_id  \\\n",
       "321                  shop-in-shop website construction         21820138   \n",
       "319                         cosmetic affinity indexing         21820158   \n",
       "322  method of evaluating cosmetic products on a co...         22926956   \n",
       "29                              body image enhancement         26698498   \n",
       "318                                   complete compact         26990036   \n",
       "..                                                 ...              ...   \n",
       "8    methods for identifying, compounds identified ...         74039135   \n",
       "7        cosmetic package including a liquid reservoir         74043320   \n",
       "180  image processing apparatus and image processin...         74044172   \n",
       "6        personal care product recommendation platform         74066188   \n",
       "4      system and method for hair dye color conversion         74191038   \n",
       "\n",
       "                                                claims      dist  \n",
       "321  1. a method for facilitating modular construct...  0.000000  \n",
       "319  1. a method of helping a consumer make a cosme...       NaN  \n",
       "322  1. a method for demonstrating effectiveness of...       NaN  \n",
       "29   a method of constructing a body image, the met...  0.456763  \n",
       "318  i claim:1. a method for determining aroma comp...       NaN  \n",
       "..                                                 ...       ...  \n",
       "8    1. a flavor/fragrance composition, comprising ...       NaN  \n",
       "7    the embodiments of the invention in which an e...       NaN  \n",
       "180  1. an image processing apparatus comprising: a...       NaN  \n",
       "6    1. a system for recommending personal care pro...       NaN  \n",
       "4    1. a method for hair dye color conversion in w...       NaN  \n",
       "\n",
       "[204 rows x 4 columns]"
      ]
     },
     "execution_count": 82,
     "metadata": {},
     "output_type": "execute_result"
    }
   ],
   "source": [
    "df[df.to_keep == True].sort_values(by=\"docdb_family_id\")[['title', 'docdb_family_id', \"claims\", \"dist\"]]"
   ]
  },
  {
   "cell_type": "code",
   "execution_count": 83,
   "id": "745e1471",
   "metadata": {},
   "outputs": [
    {
     "data": {
      "text/html": [
       "<div>\n",
       "<style scoped>\n",
       "    .dataframe tbody tr th:only-of-type {\n",
       "        vertical-align: middle;\n",
       "    }\n",
       "\n",
       "    .dataframe tbody tr th {\n",
       "        vertical-align: top;\n",
       "    }\n",
       "\n",
       "    .dataframe thead th {\n",
       "        text-align: right;\n",
       "    }\n",
       "</style>\n",
       "<table border=\"1\" class=\"dataframe\">\n",
       "  <thead>\n",
       "    <tr style=\"text-align: right;\">\n",
       "      <th></th>\n",
       "      <th>docdb_family_id</th>\n",
       "      <th>filename</th>\n",
       "      <th>title</th>\n",
       "      <th>claims</th>\n",
       "    </tr>\n",
       "  </thead>\n",
       "  <tbody>\n",
       "    <tr>\n",
       "      <th>321</th>\n",
       "      <td>21820138</td>\n",
       "      <td>US2003120550</td>\n",
       "      <td>shop-in-shop website construction</td>\n",
       "      <td>1. a method for facilitating modular construct...</td>\n",
       "    </tr>\n",
       "    <tr>\n",
       "      <th>319</th>\n",
       "      <td>21820158</td>\n",
       "      <td>US2003120534</td>\n",
       "      <td>cosmetic affinity indexing</td>\n",
       "      <td>1. a method of helping a consumer make a cosme...</td>\n",
       "    </tr>\n",
       "    <tr>\n",
       "      <th>322</th>\n",
       "      <td>22926956</td>\n",
       "      <td>US2002054714</td>\n",
       "      <td>method of evaluating cosmetic products on a co...</td>\n",
       "      <td>1. a method for demonstrating effectiveness of...</td>\n",
       "    </tr>\n",
       "    <tr>\n",
       "      <th>29</th>\n",
       "      <td>26698498</td>\n",
       "      <td>EP1298587</td>\n",
       "      <td>body image enhancement</td>\n",
       "      <td>a method of constructing a body image, the met...</td>\n",
       "    </tr>\n",
       "    <tr>\n",
       "      <th>318</th>\n",
       "      <td>26990036</td>\n",
       "      <td>US2003127105</td>\n",
       "      <td>complete compact</td>\n",
       "      <td>i claim:1. a method for determining aroma comp...</td>\n",
       "    </tr>\n",
       "    <tr>\n",
       "      <th>...</th>\n",
       "      <td>...</td>\n",
       "      <td>...</td>\n",
       "      <td>...</td>\n",
       "      <td>...</td>\n",
       "    </tr>\n",
       "    <tr>\n",
       "      <th>8</th>\n",
       "      <td>74039135</td>\n",
       "      <td>US2020399558</td>\n",
       "      <td>methods for identifying, compounds identified ...</td>\n",
       "      <td>1. a flavor/fragrance composition, comprising ...</td>\n",
       "    </tr>\n",
       "    <tr>\n",
       "      <th>7</th>\n",
       "      <td>74043320</td>\n",
       "      <td>US2020405037</td>\n",
       "      <td>cosmetic package including a liquid reservoir</td>\n",
       "      <td>the embodiments of the invention in which an e...</td>\n",
       "    </tr>\n",
       "    <tr>\n",
       "      <th>180</th>\n",
       "      <td>74044172</td>\n",
       "      <td>US2020410755</td>\n",
       "      <td>image processing apparatus and image processin...</td>\n",
       "      <td>1. an image processing apparatus comprising: a...</td>\n",
       "    </tr>\n",
       "    <tr>\n",
       "      <th>6</th>\n",
       "      <td>74066188</td>\n",
       "      <td>US2021000243</td>\n",
       "      <td>personal care product recommendation platform</td>\n",
       "      <td>1. a system for recommending personal care pro...</td>\n",
       "    </tr>\n",
       "    <tr>\n",
       "      <th>4</th>\n",
       "      <td>74191038</td>\n",
       "      <td>US10897979</td>\n",
       "      <td>system and method for hair dye color conversion</td>\n",
       "      <td>1. a method for hair dye color conversion in w...</td>\n",
       "    </tr>\n",
       "  </tbody>\n",
       "</table>\n",
       "<p>204 rows × 4 columns</p>\n",
       "</div>"
      ],
      "text/plain": [
       "     docdb_family_id      filename  \\\n",
       "321         21820138  US2003120550   \n",
       "319         21820158  US2003120534   \n",
       "322         22926956  US2002054714   \n",
       "29          26698498     EP1298587   \n",
       "318         26990036  US2003127105   \n",
       "..               ...           ...   \n",
       "8           74039135  US2020399558   \n",
       "7           74043320  US2020405037   \n",
       "180         74044172  US2020410755   \n",
       "6           74066188  US2021000243   \n",
       "4           74191038    US10897979   \n",
       "\n",
       "                                                 title  \\\n",
       "321                  shop-in-shop website construction   \n",
       "319                         cosmetic affinity indexing   \n",
       "322  method of evaluating cosmetic products on a co...   \n",
       "29                              body image enhancement   \n",
       "318                                   complete compact   \n",
       "..                                                 ...   \n",
       "8    methods for identifying, compounds identified ...   \n",
       "7        cosmetic package including a liquid reservoir   \n",
       "180  image processing apparatus and image processin...   \n",
       "6        personal care product recommendation platform   \n",
       "4      system and method for hair dye color conversion   \n",
       "\n",
       "                                                claims  \n",
       "321  1. a method for facilitating modular construct...  \n",
       "319  1. a method of helping a consumer make a cosme...  \n",
       "322  1. a method for demonstrating effectiveness of...  \n",
       "29   a method of constructing a body image, the met...  \n",
       "318  i claim:1. a method for determining aroma comp...  \n",
       "..                                                 ...  \n",
       "8    1. a flavor/fragrance composition, comprising ...  \n",
       "7    the embodiments of the invention in which an e...  \n",
       "180  1. an image processing apparatus comprising: a...  \n",
       "6    1. a system for recommending personal care pro...  \n",
       "4    1. a method for hair dye color conversion in w...  \n",
       "\n",
       "[204 rows x 4 columns]"
      ]
     },
     "execution_count": 83,
     "metadata": {},
     "output_type": "execute_result"
    }
   ],
   "source": [
    "df_tmp = df[df.to_keep == True][[\"docdb_family_id\", \"filename\", \"title\", \"claims\"]].copy()\n",
    "#df_tmp.filename = df_tmp.filename.apply(lambda x: x[:-7])\n",
    "df_tmp"
   ]
  },
  {
   "cell_type": "code",
   "execution_count": 84,
   "id": "efe3bb75",
   "metadata": {},
   "outputs": [],
   "source": [
    "df_tmp.to_excel(\"selected_patents_noDuplicati.xlsx\", index=False)"
   ]
  },
  {
   "cell_type": "code",
   "execution_count": 69,
   "id": "c622aac9",
   "metadata": {},
   "outputs": [],
   "source": [
    "v1=\"1. an image processing apparatus comprising: target finding acquisition means (1002) for acquiring a target finding that is selected from a plurality of imaging findings and that is included in a medical image; type identification means (1003) for acquiring a type of image feature corresponding to the acquired target finding, from types of image feature; feature quantity calculation means (1004) for calculating an image feature quantity of the acquired type for each of a plurality of cross-sectional images of the medical image; and cross-sectional image identification means (1005) for identifying one of the plurality of cross-sectional images based on the calculated image feature quantity, wherein the imaging findings are associated in advance with the types of image feature, and wherein the imaging findings and the target finding are expressed as words.2. the image processing apparatus according to claim 1, wherein the target finding acquisition means is configured to acquire, as the target finding, an imaging finding input by a user.3. the image processing apparatus according to claim 2, wherein the target finding acquisition means further comprises inference means for inputting a plurality of imaging findings to infer a diagnosis and calculating contribution of each of a plurality of the imaging findings to an inferred diagnosis and is configured to select one of the plurality of imaging findings that backs up diagnosis as the target finding based on the contribution to the inferred diagnosis calculated by the inference means.4. the image processing apparatus according to claim 1, further comprising a display control means (1006) for displaying, on a monitor (104), an interface (if3) for inputting at least one target finding from a pull-down menu.5. the image processing apparatus according to claim 1, further comprising:image acquisition means (1001) for acquiring a medical image for diagnosis, from a picture archiving and communicating system.6. the image processing apparatus according to claim 1, wherein the cross-sectional image identification means is operable to calculate a value for selecting a cross-sectional image, for the acquired target finding.7. the image processing apparatus according to claim 1, wherein the target finding acquisition means is operable to acquire a plurality of target findings, and the cross-sectional image identification means is operable to select cross sectional images each corresponding to different one of the acquired target findings.8. the image processing apparatus according to claim 7, wherein a cross-sectional image is selectable from the selected cross sectional images by a user.9. the image processing apparatus according to claim 1, wherein the cross-sectional image identification means (1005) is configured to identify the one cross-sectional image having the calculated image feature quantity corresponding to a representative characteristic value, with a significant difference from an image feature quantity corresponding to an evaluation value of the target finding, wherein the evaluation value is input by a user.10. the image processing apparatus according to claim 1, further comprising graph generation means (1203) for generating a graph that provides a comparison between the image feature quantities of the plurality of cross-sectional images calculated by the feature quantity calculation means (1004) and the target findings.11. the image processing apparatus according to claim 10, wherein the graph generation means (1203) is configured to generate the graph such that the image feature quantity and the target finding are plotted, for each of a plurality of tomographic images of a three-dimensional image, on coordinates of a first axis representing the image feature quantity and the target finding and a second axis, different from the first axis, representing positions of the plurality of tomographic images.12. an image processing method comprising the steps of: acquiring (s420) a target finding that is selected from a plurality of imaging findings and that is included in a medical image; acquiring (s430) a type of image feature corresponding to the acquired target finding, from types of image feature; calculating (s440) an image feature quantity of the acquired type for each of a plurality of cross-sectional images of the medical image; and identifying (s450) one of the plurality of cross-sectional images based on the calculated image feature quantity, wherein the imaging findings are associated in advance with the types of image feature, and wherein the imaging findings and the target finding are expressed as words.13. a computer program comprising instructions which, when the program is executed by a computer, cause the computer to carry out the method according to claim 12.14. a computer-readable storage medium comprising instructions which, when executed by a computer, cause the computer to carry out the method according to claim 12.\""
   ]
  },
  {
   "cell_type": "code",
   "execution_count": 70,
   "id": "465659de",
   "metadata": {},
   "outputs": [],
   "source": [
    "v2=\"an image processing apparatus comprising: target finding acquisition means for acquiring a target finding of a medical image; feature quantity calculation means for calculating an image feature quantity of a type associated in advance with the target finding acquired by the target finding acquisition means, for each of a plurality of cross-sectional images of the medical image; and cross-sectional image identification means for identifying one of the plurality of cross-sectional images based on the image feature quantity calculated by the feature quantity calculation means.the image processing apparatus according to claim 1, wherein the target finding acquisition means is configured to automatically select the target finding based on the image feature quantity.the image processing apparatus according to claim 1, wherein the target finding acquisition means is configured to acquire, as the target finding, an imaging finding input by a user.the image processing apparatus according to claim 1, wherein the target finding acquisition means further comprises inference means for inputting a plurality of target findings to infer a diagnosis and is configured to select one of the plurality of target findings based on contribution to the inference by the inference means.an image processing method comprising the steps of: acquiring a target finding of a medical image; calculating an image feature quantity of a type associated in advance with the acquired target finding, for each of a plurality of cross-sectional images of the medical image; and identifying one of the plurality of cross-sectional images based on the calculated image feature quantity.a diagnostic imaging support apparatus comprising: imaging finding acquisition means for acquiring, from a user, a type and an evaluation value of an imaging finding related to a predetermined three-dimensional region of a three-dimensional image to be diagnosed; characteristic value calculation means for calculating a characteristic value that can be compared with the evaluation value of the imaging finding based on an image feature, from each of a plurality of cross-sectional images included in the predetermined three-dimensional region; representative characteristic value calculation means for calculating a representative characteristic value that represents the predetermined three-dimensional region from a plurality of characteristic values calculated from the plurality of cross-sectional images; representative cross-sectional image acquisition means for acquiring a cross-sectional image, in which the  representative characteristic value is calculated, as a representative cross-sectional image from the plurality of cross-sectional images; comparison means for comparing the evaluation value of the imaging finding and the representative characteristic value; and display means for displaying the representative cross-sectional image only if a comparison result of the comparison unit indicates a significant difference.the diagnostic imaging support apparatus according to claim 6, further comprising: approximate characteristic value selection means for selecting an approximate characteristic value closest to the evaluation value of the imaging finding from the plurality of characteristic values calculated from the plurality of cross-sectional images; and approximate cross-sectional image acquisition means for acquiring a cross-sectional image, in which the approximate characteristic value is calculated, as an approximate cross-sectional image from the plurality of cross-sectional images, wherein the display means is configured to display both the approximate cross-sectional image and the representative cross-sectional image only if the comparison result of the comparison means indicates a significant difference.the diagnostic imaging support apparatus according to claim 6 or 7, wherein  the plurality of cross-sectional images comprises a plurality of cross-sectional images in each of a plurality of predetermined directions, and the representative cross-sectional image acquisition means and/or the approximate cross-sectional image acquisition means can acquire the representative cross-sectional image and/or the approximate cross-sectional image from cross-sectional images in an arbitrary direction.a diagnostic imaging support method comprising the steps of: acquiring, from a user, a type and an evaluation value of an imaging finding related to a predetermined three-dimensional region of a three-dimensional image to be diagnosed; calculating a characteristic value that can be compared with the evaluation value of the imaging finding based on an image feature, from each of a plurality of cross-sectional images included in the predetermined three-dimensional region; calculating a representative characteristic value that represents the predetermined three-dimensional region from a plurality of characteristic values calculated from the plurality of cross-sectional images; acquiring a cross-sectional image, in which the representative characteristic value is calculated, as a representative cross-sectional image from the plurality of cross-sectional images;  comparing the evaluation value of the imaging finding and the representative characteristic value; and displaying the representative cross-sectional image only if a comparison result in the comparing step indicates a significant difference.a diagnostic imaging support apparatus comprising: information acquisition means for acquiring information including a target finding item and a value of finding of the target finding item from a plurality of finding items in relation to a three-dimensional image to be diagnosed; feature quantity calculation means for calculating a feature quantity corresponding to the target finding item from each of a plurality of cross-sectional images that form the three-dimensional image; and graph generation means for generating a graph based on the feature quantity calculated by the feature quantity calculation means and the value of finding.the diagnostic imaging support apparatus according to claim 10, wherein the graph generation means is configured to display the value of finding in a band shape.a diagnostic imaging support method comprising the steps of: acquiring information including a target finding item and a value of finding of the target finding item from a  plurality of finding items in relation to a three-dimensional image to be diagnosed; calculating a feature quantity corresponding to the target finding item from each of a plurality of cross-sectional images that form the three-dimensional image; and generating a graph based on the calculated feature quantity and the value of finding.the diagnostic imaging support method according to claim 12, wherein the generating step is configured to display the value of finding in a band shape.a computer program comprising processor implementable steps for performing a method according to any one of claims 5, 9, 12 and 13.a computer software product storing a computer program according to claim 14.\""
   ]
  },
  {
   "cell_type": "code",
   "execution_count": 71,
   "id": "db81ae8e",
   "metadata": {},
   "outputs": [
    {
     "data": {
      "text/plain": [
       "0.6108597285067874"
      ]
     },
     "execution_count": 71,
     "metadata": {},
     "output_type": "execute_result"
    }
   ],
   "source": [
    "nltk.jaccard_distance(set(nltk.word_tokenize(v1)), set(nltk.word_tokenize(v2)))"
   ]
  },
  {
   "cell_type": "code",
   "execution_count": 68,
   "id": "863849b5",
   "metadata": {},
   "outputs": [
    {
     "data": {
      "text/plain": [
       "1.0"
      ]
     },
     "execution_count": 68,
     "metadata": {},
     "output_type": "execute_result"
    }
   ],
   "source": [
    "nltk.jaccard_distance({\"ciao\"}, {\"mamma\"})"
   ]
  },
  {
   "cell_type": "code",
   "execution_count": 83,
   "id": "e36cb4e5",
   "metadata": {},
   "outputs": [
    {
     "data": {
      "text/plain": [
       "266    systems, methods, and products may employ a mo...\n",
       "264    methods and systems are disclosed for helping ...\n",
       "267    a method kit is provided for demonstrating the...\n",
       "29     systems, methods, and apparatus consistent wit...\n",
       "28     systems, methods, and apparatus consistent wit...\n",
       "                             ...                        \n",
       "7      provided herein are screening methods for iden...\n",
       "6      cosmetic formula containers generally include ...\n",
       "142    an image processing apparatus includes an imag...\n",
       "5      disclosed is a personal care product platform ...\n",
       "3      a system and method is provided for hair dye c...\n",
       "Name: abstract, Length: 225, dtype: object"
      ]
     },
     "execution_count": 83,
     "metadata": {},
     "output_type": "execute_result"
    }
   ],
   "source": [
    "df[df.to_keep == True][\"abstract\"]"
   ]
  }
 ],
 "metadata": {
  "kernelspec": {
   "display_name": "Python 3",
   "language": "python",
   "name": "python3"
  },
  "language_info": {
   "codemirror_mode": {
    "name": "ipython",
    "version": 3
   },
   "file_extension": ".py",
   "mimetype": "text/x-python",
   "name": "python",
   "nbconvert_exporter": "python",
   "pygments_lexer": "ipython3",
   "version": "3.8.8"
  }
 },
 "nbformat": 4,
 "nbformat_minor": 5
}
