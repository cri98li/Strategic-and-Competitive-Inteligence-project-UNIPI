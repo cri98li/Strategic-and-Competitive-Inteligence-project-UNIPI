{
 "cells": [
  {
   "cell_type": "code",
   "execution_count": 38,
   "id": "24857247",
   "metadata": {},
   "outputs": [
    {
     "name": "stderr",
     "output_type": "stream",
     "text": [
      "[nltk_data] Downloading package punkt to\n",
      "[nltk_data]     C:\\Users\\cri98\\AppData\\Roaming\\nltk_data...\n",
      "[nltk_data]   Unzipping tokenizers\\punkt.zip.\n"
     ]
    },
    {
     "data": {
      "text/plain": [
       "True"
      ]
     },
     "execution_count": 38,
     "metadata": {},
     "output_type": "execute_result"
    }
   ],
   "source": [
    "import pandas as pd\n",
    "from tqdm.auto import tqdm\n",
    "import nltk\n",
    "nltk.download('punkt')"
   ]
  },
  {
   "cell_type": "code",
   "execution_count": 10,
   "id": "f7e44e3d",
   "metadata": {},
   "outputs": [
    {
     "data": {
      "text/html": [
       "<div>\n",
       "<style scoped>\n",
       "    .dataframe tbody tr th:only-of-type {\n",
       "        vertical-align: middle;\n",
       "    }\n",
       "\n",
       "    .dataframe tbody tr th {\n",
       "        vertical-align: top;\n",
       "    }\n",
       "\n",
       "    .dataframe thead th {\n",
       "        text-align: right;\n",
       "    }\n",
       "</style>\n",
       "<table border=\"1\" class=\"dataframe\">\n",
       "  <thead>\n",
       "    <tr style=\"text-align: right;\">\n",
       "      <th></th>\n",
       "      <th>filename</th>\n",
       "      <th>filing_date</th>\n",
       "      <th>publication_date</th>\n",
       "      <th>priority_date</th>\n",
       "      <th>ipc_classes</th>\n",
       "      <th>assignee</th>\n",
       "      <th>inventors</th>\n",
       "      <th>docdb_family_id</th>\n",
       "      <th>title</th>\n",
       "      <th>abstract</th>\n",
       "      <th>claims</th>\n",
       "    </tr>\n",
       "  </thead>\n",
       "  <tbody>\n",
       "    <tr>\n",
       "      <th>0</th>\n",
       "      <td>US10849406_B2.txt</td>\n",
       "      <td>2015-12-01</td>\n",
       "      <td>2020-12-01</td>\n",
       "      <td>2014-12-02</td>\n",
       "      <td>A45D40/00, A45D40/26, A45D44/00, B01F13/10, B0...</td>\n",
       "      <td>L'OREAL</td>\n",
       "      <td>GIRON, FRANCKSAMAIN, HENRI</td>\n",
       "      <td>54780284</td>\n",
       "      <td>system for dispensing at least one makeup prod...</td>\n",
       "      <td>a system for dispensing at least one makeup pr...</td>\n",
       "      <td>1. a system for dispensing at least one makeup...</td>\n",
       "    </tr>\n",
       "    <tr>\n",
       "      <th>1</th>\n",
       "      <td>WO2020176430_A1.txt</td>\n",
       "      <td>2020-02-24</td>\n",
       "      <td>2020-09-03</td>\n",
       "      <td>2019-02-26</td>\n",
       "      <td>A45D29/00, A45D29/11, A45D29/12, A45D29/14, A4...</td>\n",
       "      <td>ELEMENTREE</td>\n",
       "      <td>SUNDEN, ERIKAPTE, RENUKAFELDSTEIN, AARON</td>\n",
       "      <td>72142514</td>\n",
       "      <td>automatic nail polish application system and m...</td>\n",
       "      <td>the present disclosure relates to a robotic ap...</td>\n",
       "      <td>1. a system for automatically polishing a nail...</td>\n",
       "    </tr>\n",
       "    <tr>\n",
       "      <th>2</th>\n",
       "      <td>WO2019122838_A1.txt</td>\n",
       "      <td>2018-12-18</td>\n",
       "      <td>2019-06-27</td>\n",
       "      <td>2017-12-22</td>\n",
       "      <td>A45D1/00, G09B19/00, G09B19/24, G09B5/04</td>\n",
       "      <td>JEMELLA</td>\n",
       "      <td>JAMES, MATTMOORE, TIMOTHYRAMOS, DANIEL</td>\n",
       "      <td>61131465</td>\n",
       "      <td>training system and device</td>\n",
       "      <td>a beauty product device is disclosed which inc...</td>\n",
       "      <td>1. a beauty product system for performing a tr...</td>\n",
       "    </tr>\n",
       "    <tr>\n",
       "      <th>3</th>\n",
       "      <td>US7458944_B2.txt</td>\n",
       "      <td>2004-04-05</td>\n",
       "      <td>2008-12-02</td>\n",
       "      <td>2001-10-04</td>\n",
       "      <td>A45D34/04, A61H15/02, A61H7/00, A61K8/00, A61K...</td>\n",
       "      <td>BEIERSDORF</td>\n",
       "      <td>LISTE, KATHRINRHODE, OLAFTREU, JENS</td>\n",
       "      <td>7701353</td>\n",
       "      <td>cosmetic cleaning product</td>\n",
       "      <td>the invention is a cosmetic cleaning product, ...</td>\n",
       "      <td>1. a cosmetic cleaning product, comprising: a ...</td>\n",
       "    </tr>\n",
       "    <tr>\n",
       "      <th>4</th>\n",
       "      <td>US10820678_B2.txt</td>\n",
       "      <td>2017-03-27</td>\n",
       "      <td>2020-11-03</td>\n",
       "      <td>2016-03-25</td>\n",
       "      <td>A45D20/12, A45D20/14, F16M11/00, F16M13/02</td>\n",
       "      <td>KARAMBATSOS, NATASA</td>\n",
       "      <td>KARAMBATSOS, NATASA</td>\n",
       "      <td>59896261</td>\n",
       "      <td>portable apparatus for supporting a hand held ...</td>\n",
       "      <td>a portable hair dryer support apparatus compri...</td>\n",
       "      <td>1. a portable hair dryer support apparatus, co...</td>\n",
       "    </tr>\n",
       "  </tbody>\n",
       "</table>\n",
       "</div>"
      ],
      "text/plain": [
       "              filename filing_date publication_date priority_date  \\\n",
       "0    US10849406_B2.txt  2015-12-01       2020-12-01    2014-12-02   \n",
       "1  WO2020176430_A1.txt  2020-02-24       2020-09-03    2019-02-26   \n",
       "2  WO2019122838_A1.txt  2018-12-18       2019-06-27    2017-12-22   \n",
       "3     US7458944_B2.txt  2004-04-05       2008-12-02    2001-10-04   \n",
       "4    US10820678_B2.txt  2017-03-27       2020-11-03    2016-03-25   \n",
       "\n",
       "                                         ipc_classes             assignee  \\\n",
       "0  A45D40/00, A45D40/26, A45D44/00, B01F13/10, B0...              L'OREAL   \n",
       "1  A45D29/00, A45D29/11, A45D29/12, A45D29/14, A4...           ELEMENTREE   \n",
       "2           A45D1/00, G09B19/00, G09B19/24, G09B5/04              JEMELLA   \n",
       "3  A45D34/04, A61H15/02, A61H7/00, A61K8/00, A61K...           BEIERSDORF   \n",
       "4         A45D20/12, A45D20/14, F16M11/00, F16M13/02  KARAMBATSOS, NATASA   \n",
       "\n",
       "                                  inventors  docdb_family_id  \\\n",
       "0                GIRON, FRANCKSAMAIN, HENRI         54780284   \n",
       "1  SUNDEN, ERIKAPTE, RENUKAFELDSTEIN, AARON         72142514   \n",
       "2    JAMES, MATTMOORE, TIMOTHYRAMOS, DANIEL         61131465   \n",
       "3       LISTE, KATHRINRHODE, OLAFTREU, JENS          7701353   \n",
       "4                       KARAMBATSOS, NATASA         59896261   \n",
       "\n",
       "                                               title  \\\n",
       "0  system for dispensing at least one makeup prod...   \n",
       "1  automatic nail polish application system and m...   \n",
       "2                         training system and device   \n",
       "3                          cosmetic cleaning product   \n",
       "4  portable apparatus for supporting a hand held ...   \n",
       "\n",
       "                                            abstract  \\\n",
       "0  a system for dispensing at least one makeup pr...   \n",
       "1  the present disclosure relates to a robotic ap...   \n",
       "2  a beauty product device is disclosed which inc...   \n",
       "3  the invention is a cosmetic cleaning product, ...   \n",
       "4  a portable hair dryer support apparatus compri...   \n",
       "\n",
       "                                              claims  \n",
       "0  1. a system for dispensing at least one makeup...  \n",
       "1  1. a system for automatically polishing a nail...  \n",
       "2  1. a beauty product system for performing a tr...  \n",
       "3  1. a cosmetic cleaning product, comprising: a ...  \n",
       "4  1. a portable hair dryer support apparatus, co...  "
      ]
     },
     "execution_count": 10,
     "metadata": {},
     "output_type": "execute_result"
    }
   ],
   "source": [
    "df = pd.read_csv(\"selected_patents.csv\").drop_duplicates()\n",
    "\n",
    "df.head()"
   ]
  },
  {
   "cell_type": "code",
   "execution_count": 31,
   "id": "69142cd6",
   "metadata": {},
   "outputs": [
    {
     "data": {
      "application/vnd.jupyter.widget-view+json": {
       "model_id": "709f223415fd480fb023e17cd1d43943",
       "version_major": 2,
       "version_minor": 0
      },
      "text/plain": [
       "  0%|          | 0/38 [00:00<?, ?it/s]"
      ]
     },
     "metadata": {},
     "output_type": "display_data"
    },
    {
     "name": "stdout",
     "output_type": "stream",
     "text": [
      "7701353()edit distance: 924\n",
      "35580235()edit distance: 3781\n",
      "35580235()edit distance: 4759\n",
      "35580235()edit distance: 6091\n",
      "59896261()edit distance: 4175\n",
      "62838170()edit distance: 6410\n",
      "63798904()edit distance: 83\n",
      "65279789()edit distance: 1364\n",
      "67067677()edit distance: 315\n"
     ]
    }
   ],
   "source": [
    "columns = df.columns.to_list()\n",
    "tokeep = [True for _ in range(len(df))]\n",
    "\n",
    "df_sorted = df.sort_values(by=[\"docdb_family_id\", \"claims\"])\n",
    "\n",
    "pbar = tqdm(zip(df_sorted.values[1:], df_sorted.values[:-1]), total=len(df)-1)\n",
    "\n",
    "for i, (row1, row2) in enumerate(pbar):\n",
    "    pbar.set_description(f'{row1[columns.index(\"docdb_family_id\")]} vs {row2[columns.index(\"docdb_family_id\")]}')\n",
    "    \n",
    "    if row1[columns.index(\"docdb_family_id\")] != row2[columns.index(\"docdb_family_id\")]:\n",
    "        continue\n",
    "    \n",
    "    #dist = nltk.edit_distance(row1[columns.index(\"claims\")], row2[columns.index(\"claims\")])\n",
    "    dist = nltk.jaccard_distance(row1[columns.index(\"claims\")], row2[columns.index(\"claims\")])\n",
    "    print(f'({row1[columns.index(\"docdb_family_id\")]})edit distance: {dist}')\n",
    "    if dist > 100:\n",
    "        tokeep[i] &= False"
   ]
  },
  {
   "cell_type": "code",
   "execution_count": 40,
   "id": "dca1dd69",
   "metadata": {},
   "outputs": [
    {
     "data": {
      "application/vnd.jupyter.widget-view+json": {
       "model_id": "0602935bceb84a0699b2e43b6c415a08",
       "version_major": 2,
       "version_minor": 0
      },
      "text/plain": [
       "  0%|          | 0/38 [00:00<?, ?it/s]"
      ]
     },
     "metadata": {},
     "output_type": "display_data"
    },
    {
     "name": "stdout",
     "output_type": "stream",
     "text": [
      "(7701353)jaccard distance: 0.10795454545454546\n",
      "(35580235)jaccard distance: 0.24363636363636362\n",
      "(35580235)jaccard distance: 0.35962145110410093\n",
      "(35580235)jaccard distance: 0.5133333333333333\n",
      "(59896261)jaccard distance: 0.4147727272727273\n",
      "(62838170)jaccard distance: 0.478494623655914\n",
      "(63798904)jaccard distance: 0.053811659192825115\n",
      "(65279789)jaccard distance: 0.3918918918918919\n",
      "(67067677)jaccard distance: 0.0137524557956778\n"
     ]
    }
   ],
   "source": [
    "columns = df.columns.to_list()\n",
    "tokeep = [True for _ in range(len(df))]\n",
    "\n",
    "df_sorted = df.sort_values(by=[\"docdb_family_id\", \"claims\"])\n",
    "\n",
    "pbar = tqdm(zip(df_sorted.values[1:], df_sorted.values[:-1]), total=len(df)-1)\n",
    "\n",
    "for i, (row1, row2) in enumerate(pbar):\n",
    "    pbar.set_description(f'{row1[columns.index(\"docdb_family_id\")]} vs {row2[columns.index(\"docdb_family_id\")]}')\n",
    "    \n",
    "    if row1[columns.index(\"docdb_family_id\")] != row2[columns.index(\"docdb_family_id\")]:\n",
    "        continue\n",
    "    \n",
    "    #dist = nltk.edit_distance(row1[columns.index(\"claims\")], row2[columns.index(\"claims\")])\n",
    "    dist = nltk.jaccard_distance(set(nltk.word_tokenize(row1[columns.index(\"claims\")])), \n",
    "                                 set(nltk.word_tokenize(row2[columns.index(\"claims\")])))\n",
    "    print(f'({row1[columns.index(\"docdb_family_id\")]})jaccard distance: {dist}')\n",
    "    if dist > .1:\n",
    "        tokeep[i] &= False"
   ]
  },
  {
   "cell_type": "code",
   "execution_count": 19,
   "id": "8bb2e9ae",
   "metadata": {},
   "outputs": [
    {
     "data": {
      "text/plain": [
       "7"
      ]
     },
     "execution_count": 19,
     "metadata": {},
     "output_type": "execute_result"
    }
   ],
   "source": [
    "columns.to_list().index(\"docdb_family_id\")"
   ]
  },
  {
   "cell_type": "code",
   "execution_count": null,
   "id": "c3b33caa",
   "metadata": {},
   "outputs": [],
   "source": []
  },
  {
   "cell_type": "code",
   "execution_count": null,
   "id": "f1a51971",
   "metadata": {},
   "outputs": [],
   "source": []
  },
  {
   "cell_type": "code",
   "execution_count": null,
   "id": "4394aebd",
   "metadata": {},
   "outputs": [],
   "source": []
  }
 ],
 "metadata": {
  "kernelspec": {
   "display_name": "Python 3",
   "language": "python",
   "name": "python3"
  },
  "language_info": {
   "codemirror_mode": {
    "name": "ipython",
    "version": 3
   },
   "file_extension": ".py",
   "mimetype": "text/x-python",
   "name": "python",
   "nbconvert_exporter": "python",
   "pygments_lexer": "ipython3",
   "version": "3.8.8"
  }
 },
 "nbformat": 4,
 "nbformat_minor": 5
}
