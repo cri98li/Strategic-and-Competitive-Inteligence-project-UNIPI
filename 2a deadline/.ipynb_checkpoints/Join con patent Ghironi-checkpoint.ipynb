{
 "cells": [
  {
   "cell_type": "code",
   "execution_count": 105,
   "id": "b4dfde2d",
   "metadata": {},
   "outputs": [],
   "source": [
    "import pandas as pd\n",
  },
  {
   "cell_type": "code",
   "execution_count": 106,
   "id": "af8ab43f",
   "metadata": {},
   "outputs": [],
   "source": [
    "df_ghironi = pd.read_excel(\"169 documenti da trovare.xlsx\")\n",
    "df_mainSubset = pd.read_csv(\"../data/data_subset1.csv\")\n",
    "df_originalDataset = pd.read_csv(\"../data/data_prepared_python.csv\")"
   ]
  },
  {
   "cell_type": "code",
   "execution_count": 107,
   "id": "99998a22",
   "metadata": {},
   "outputs": [],
   "source": [
    "df_ghironi.Title = df_ghironi.Title.apply(lambda x: x.replace(\"\\n\", \" \"))\n",
    "df_ghironi.Abstract = df_ghironi.Abstract.apply(lambda x: x.replace(\"\\n\", \" \"))\n",
    "df_ghironi[\"English claims\"] = df_ghironi[\"English claims\"].apply(lambda x: x.replace(\"\\n\", \" \"))\n",
    "df_ghironi.columns = [x.lower() for x in df_ghironi.columns]"
   ]
  },
  {
   "cell_type": "code",
   "execution_count": 108,
   "id": "4a33a815",
   "metadata": {},
   "outputs": [
    {
     "data": {
      "text/html": [
       "<div>\n",
       "<style scoped>\n",
       "    .dataframe tbody tr th:only-of-type {\n",
       "        vertical-align: middle;\n",
       "    }\n",
       "\n",
       "    .dataframe tbody tr th {\n",
       "        vertical-align: top;\n",
       "    }\n",
       "\n",
       "    .dataframe thead th {\n",
       "        text-align: right;\n",
       "    }\n",
       "</style>\n",
       "<table border=\"1\" class=\"dataframe\">\n",
       "  <thead>\n",
       "    <tr style=\"text-align: right;\">\n",
       "      <th></th>\n",
       "      <th>title</th>\n",
       "      <th>abstract</th>\n",
       "      <th>english claims</th>\n",
       "    </tr>\n",
       "  </thead>\n",
       "  <tbody>\n",
       "    <tr>\n",
       "      <th>0</th>\n",
       "      <td>(US20210353215) Systems and methods for hair a...</td>\n",
       "      <td>(US20210353215) Disclosed are hair analysis sy...</td>\n",
       "      <td>(US20210353215) What is claimed is: 1. A hair ...</td>\n",
       "    </tr>\n",
       "    <tr>\n",
       "      <th>1</th>\n",
       "      <td>(US11227147) Face image processing methods and...</td>\n",
       "      <td>(US20190325200) A face image processing method...</td>\n",
       "      <td>(US20190325200) 1. A face image processing met...</td>\n",
       "    </tr>\n",
       "    <tr>\n",
       "      <th>2</th>\n",
       "      <td>(KR20210001172U) Hand care device</td>\n",
       "      <td>(KR20-2021-0001172) An object of the present i...</td>\n",
       "      <td>(KR20-2021-0001172) 1. A portable electronic d...</td>\n",
       "    </tr>\n",
       "    <tr>\n",
       "      <th>3</th>\n",
       "      <td>(EP3769852) Pump- actuated dispenser with inte...</td>\n",
       "      <td>(EP3769852) The invention refers to a pump-act...</td>\n",
       "      <td>(EP3769852) 1. A pump-actuated dispenser (1) c...</td>\n",
       "    </tr>\n",
       "    <tr>\n",
       "      <th>4</th>\n",
       "      <td>(US20210106122) System and method for hair dye...</td>\n",
       "      <td>(US20210106122) A system and method is provide...</td>\n",
       "      <td>(US20210106122) 1. A method for hair dye color...</td>\n",
       "    </tr>\n",
       "    <tr>\n",
       "      <th>...</th>\n",
       "      <td>...</td>\n",
       "      <td>...</td>\n",
       "      <td>...</td>\n",
       "    </tr>\n",
       "    <tr>\n",
       "      <th>164</th>\n",
       "      <td>(US20030127105) Complete compact</td>\n",
       "      <td>(US20030127105) A sensor and display means use...</td>\n",
       "      <td>(US20030127105) I claim: 1. A method for deter...</td>\n",
       "    </tr>\n",
       "    <tr>\n",
       "      <th>165</th>\n",
       "      <td>(US20030120534) Cosmetic affinity indexing</td>\n",
       "      <td>(US20030120534) Methods and systems are disclo...</td>\n",
       "      <td>(US20030120534) What is claimed is: 1. A metho...</td>\n",
       "    </tr>\n",
       "    <tr>\n",
       "      <th>166</th>\n",
       "      <td>(US20030013994) Methods and systems for genera...</td>\n",
       "      <td>(US20030013994) A method enables determination...</td>\n",
       "      <td>(US20030013994) What is claimed is: 1. A metho...</td>\n",
       "    </tr>\n",
       "    <tr>\n",
       "      <th>167</th>\n",
       "      <td>(US20030120550) Shop-in-shop website construction</td>\n",
       "      <td>(US20030120550) Systems, methods, and products...</td>\n",
       "      <td>(US20030120550) What is claimed is: 1. A metho...</td>\n",
       "    </tr>\n",
       "    <tr>\n",
       "      <th>168</th>\n",
       "      <td>(US6959119) Method of evaluating cosmetic prod...</td>\n",
       "      <td>(US20020054714) A method kit is provided for d...</td>\n",
       "      <td>(US20020054714) What is claimed is: 1. A metho...</td>\n",
       "    </tr>\n",
       "  </tbody>\n",
       "</table>\n",
       "<p>169 rows × 3 columns</p>\n",
       "</div>"
      ],
      "text/plain": [
       "                                                 title  \\\n",
       "0    (US20210353215) Systems and methods for hair a...   \n",
       "1    (US11227147) Face image processing methods and...   \n",
       "2                    (KR20210001172U) Hand care device   \n",
       "3    (EP3769852) Pump- actuated dispenser with inte...   \n",
       "4    (US20210106122) System and method for hair dye...   \n",
       "..                                                 ...   \n",
       "164                   (US20030127105) Complete compact   \n",
       "165         (US20030120534) Cosmetic affinity indexing   \n",
       "166  (US20030013994) Methods and systems for genera...   \n",
       "167  (US20030120550) Shop-in-shop website construction   \n",
       "168  (US6959119) Method of evaluating cosmetic prod...   \n",
       "\n",
       "                                              abstract  \\\n",
       "0    (US20210353215) Disclosed are hair analysis sy...   \n",
       "1    (US20190325200) A face image processing method...   \n",
       "2    (KR20-2021-0001172) An object of the present i...   \n",
       "3    (EP3769852) The invention refers to a pump-act...   \n",
       "4    (US20210106122) A system and method is provide...   \n",
       "..                                                 ...   \n",
       "164  (US20030127105) A sensor and display means use...   \n",
       "165  (US20030120534) Methods and systems are disclo...   \n",
       "166  (US20030013994) A method enables determination...   \n",
       "167  (US20030120550) Systems, methods, and products...   \n",
       "168  (US20020054714) A method kit is provided for d...   \n",
       "\n",
       "                                        english claims  \n",
       "0    (US20210353215) What is claimed is: 1. A hair ...  \n",
       "1    (US20190325200) 1. A face image processing met...  \n",
       "2    (KR20-2021-0001172) 1. A portable electronic d...  \n",
       "3    (EP3769852) 1. A pump-actuated dispenser (1) c...  \n",
       "4    (US20210106122) 1. A method for hair dye color...  \n",
       "..                                                 ...  \n",
       "164  (US20030127105) I claim: 1. A method for deter...  \n",
       "165  (US20030120534) What is claimed is: 1. A metho...  \n",
       "166  (US20030013994) What is claimed is: 1. A metho...  \n",
       "167  (US20030120550) What is claimed is: 1. A metho...  \n",
       "168  (US20020054714) What is claimed is: 1. A metho...  \n",
       "\n",
       "[169 rows x 3 columns]"
      ]
     },
     "execution_count": 108,
     "metadata": {},
     "output_type": "execute_result"
    }
   ],
   "source": [
    "df_ghironi"
   ]
  },
  {
   "cell_type": "code",
   "execution_count": 109,
   "id": "69319065",
   "metadata": {},
   "outputs": [],
   "source": [
    "df_ghironi[\"filename\"] = df_ghironi.title.apply(lambda x: str(re.search(\"\\(.*\\)\", x).group(0)[1:-1]))"
   ]
  },
  {
   "cell_type": "code",
   "execution_count": 110,
   "id": "03cc71c2",
   "metadata": {},
   "outputs": [],
   "source": [
    "df_ghironi.title = df_ghironi.title.apply(lambda x: str(re.search(\"\\).*\", x).group(0)[2:].strip()))\n",
    "df_ghironi.abstract = df_ghironi.abstract.apply(lambda x: str(re.search(\"\\).*\", x).group(0)[2:].strip()))\n",
    "df_ghironi[\"english claims\"] = df_ghironi[\"english claims\"].apply(lambda x: str(re.search(\"\\).*\", x).group(0)[2:].strip()))"
   ]
  },
  {
   "cell_type": "code",
   "execution_count": 111,
   "id": "0f07bf65",
   "metadata": {},
   "outputs": [],
   "source": [
    "df_mainSubset.filename = df_mainSubset.filename.apply(lambda x: str(x[:-7]))\n",
    "df_originalDataset.filename = df_originalDataset.filename.apply(lambda x: str(x[:-7]))"
   ]
  },
  {
   "cell_type": "code",
   "execution_count": 112,
   "id": "259ab847",
   "metadata": {},
   "outputs": [],
   "source": [
    "df_mainSubset.abstract = df_mainSubset.abstract.apply(lambda x: x.lower() if type(x) == str else x)\n",
    "df_originalDataset.abstract = df_originalDataset.abstract.apply(lambda x: x.lower() if type(x) == str else x)\n",
    "df_ghironi.abstract = df_ghironi.abstract.apply(lambda x: x.lower() if type(x) == str else x)\n",
    "\n",
    "df_mainSubset.title = df_mainSubset.title.apply(lambda x: x.lower() if type(x) == str else x)\n",
    "df_originalDataset.title = df_originalDataset.title.apply(lambda x: x.lower() if type(x) == str else x)\n",
    "df_ghironi.title = df_ghironi.title.apply(lambda x: x.lower() if type(x) == str else x)\n",
    "\n",
    "df_mainSubset.claims = df_mainSubset.claims.apply(lambda x: x.lower() if type(x) == str else x)\n",
    "df_originalDataset.claims = df_originalDataset.claims.apply(lambda x: x.lower() if type(x) == str else x)\n",
    "df_ghironi[\"english claims\"] = df_ghironi[\"english claims\"].apply(lambda x: x.lower() if type(x) == str else x)"
   ]
  },
  {
   "cell_type": "code",
   "execution_count": null,
   "id": "eaf1d14a",
   "metadata": {},
   "outputs": [],
   "source": []
  },
  {
   "cell_type": "code",
   "execution_count": 122,
   "id": "45d43a4e",
   "metadata": {},
   "outputs": [
    {
     "data": {
      "text/plain": [
       "268"
      ]
     },
     "execution_count": 122,
     "metadata": {},
     "output_type": "execute_result"
    }
   ],
   "source": [
    "merged = pd.merge(df_ghironi, df_mainSubset, left_on=\"title\", right_on=\"title\", suffixes=(\"_ghi\", \"_main\"))#, how=\"outer\"\n",
    "len(merged.reindex(sorted(merged.columns.str.lower()), axis=1))"
   ]
  },
  {
   "cell_type": "code",
   "execution_count": 123,
   "id": "b330e12b",
   "metadata": {},
   "outputs": [
    {
     "data": {
      "text/plain": [
       "title               0\n",
       "abstract_ghi        0\n",
       "english claims      0\n",
       "filename_ghi        0\n",
       "filename_main       0\n",
       "filing_date         0\n",
       "publication_date    0\n",
       "priority_date       0\n",
       "ipc_classes         0\n",
       "assignee            3\n",
       "inventors           0\n",
       "docdb_family_id     0\n",
       "abstract_main       0\n",
       "claims              0\n",
       "dtype: int64"
      ]
     },
     "execution_count": 123,
     "metadata": {},
     "output_type": "execute_result"
    }
   ],
   "source": [
    "merged.reindex(sorted(merged.columns.str.lower()), axis=1).sort_values(by=\"title\")\n",
    "\n",
    "merged.isna().sum()"
   ]
  },
  {
   "cell_type": "code",
   "execution_count": 124,
   "id": "33c05078",
   "metadata": {},
   "outputs": [
    {
     "data": {
      "text/plain": [
       "265"
      ]
     },
     "execution_count": 124,
     "metadata": {},
     "output_type": "execute_result"
    }
   ],
   "source": [
    "len(merged.dropna())"
   ]
  },
  {
   "cell_type": "code",
   "execution_count": 127,
   "id": "4025bd52",
   "metadata": {},
   "outputs": [
    {
     "data": {
      "text/plain": [
       "323"
      ]
     },
     "execution_count": 127,
     "metadata": {},
     "output_type": "execute_result"
    }
   ],
   "source": [
    "merged = pd.merge(df_ghironi, df_originalDataset, left_on=\"title\", right_on=\"title\", suffixes=(\"_ghi\", \"_original\"))\n",
    "len(merged.reindex(sorted(merged.columns.str.lower()), axis=1))"
   ]
  },
  {
   "cell_type": "code",
   "execution_count": 128,
   "id": "0e9f850b",
   "metadata": {},
   "outputs": [
    {
     "data": {
      "text/plain": [
       "title                 0\n",
       "abstract_ghi          0\n",
       "english claims        0\n",
       "filename_ghi          0\n",
       "filename_original     0\n",
       "filing_date           0\n",
       "publication_date      0\n",
       "priority_date         0\n",
       "ipc_classes           0\n",
       "assignee              3\n",
       "inventors             0\n",
       "docdb_family_id       0\n",
       "abstract_original     0\n",
       "claims               55\n",
       "dtype: int64"
      ]
     },
     "execution_count": 128,
     "metadata": {},
     "output_type": "execute_result"
    }
   ],
   "source": [
    "merged.isna().sum()"
   ]
  },
  {
   "cell_type": "code",
   "execution_count": 129,
   "id": "0d8d7e7d",
   "metadata": {},
   "outputs": [
    {
     "data": {
      "text/html": [
       "<div>\n",
       "<style scoped>\n",
       "    .dataframe tbody tr th:only-of-type {\n",
       "        vertical-align: middle;\n",
       "    }\n",
       "\n",
       "    .dataframe tbody tr th {\n",
       "        vertical-align: top;\n",
       "    }\n",
       "\n",
       "    .dataframe thead th {\n",
       "        text-align: right;\n",
       "    }\n",
       "</style>\n",
       "<table border=\"1\" class=\"dataframe\">\n",
       "  <thead>\n",
       "    <tr style=\"text-align: right;\">\n",
       "      <th></th>\n",
       "      <th>title</th>\n",
       "      <th>abstract_ghi</th>\n",
       "      <th>english claims</th>\n",
       "      <th>filename_ghi</th>\n",
       "      <th>filename_original</th>\n",
       "      <th>filing_date</th>\n",
       "      <th>publication_date</th>\n",
       "      <th>priority_date</th>\n",
       "      <th>ipc_classes</th>\n",
       "      <th>assignee</th>\n",
       "      <th>inventors</th>\n",
       "      <th>docdb_family_id</th>\n",
       "      <th>abstract_original</th>\n",
       "      <th>claims</th>\n",
       "    </tr>\n",
       "  </thead>\n",
       "  <tbody>\n",
       "    <tr>\n",
       "      <th>0</th>\n",
       "      <td>systems and methods for hair analysis</td>\n",
       "      <td>disclosed are hair analysis systems and method...</td>\n",
       "      <td>what is claimed is: 1. a hair analysis system ...</td>\n",
       "      <td>US20210353215</td>\n",
       "      <td>US2019350514</td>\n",
       "      <td>2019-06-14</td>\n",
       "      <td>2019-11-21</td>\n",
       "      <td>2018-05-17</td>\n",
       "      <td>A45D44/00,A61B5/00,G06N3/02,G06Q30/06</td>\n",
       "      <td>P&amp;G (PROCTER &amp; GAMBLE COMPANY)</td>\n",
       "      <td>KAINKARYAM, RAGHUNANDAN MELKOTEPURWAR, ANKURSH...</td>\n",
       "      <td>68534608</td>\n",
       "      <td>disclosed are hair analysis systems and method...</td>\n",
       "      <td>1. a hair analysis system comprising: (a) an i...</td>\n",
       "    </tr>\n",
       "    <tr>\n",
       "      <th>1</th>\n",
       "      <td>systems and methods for hair analysis</td>\n",
       "      <td>disclosed are hair analysis systems and method...</td>\n",
       "      <td>what is claimed is: 1. a hair analysis system ...</td>\n",
       "      <td>US20210353215</td>\n",
       "      <td>WO2019222327</td>\n",
       "      <td>2019-05-15</td>\n",
       "      <td>2019-11-21</td>\n",
       "      <td>2018-05-17</td>\n",
       "      <td>G06Q30/06</td>\n",
       "      <td>P&amp;G (PROCTER &amp; GAMBLE COMPANY)</td>\n",
       "      <td>SHERMAN, FAIZPURWAR, ANKURKAINKARYAM, RAGHUNANDAN</td>\n",
       "      <td>66770570</td>\n",
       "      <td>disclosed are hair analysis systems and method...</td>\n",
       "      <td>NaN</td>\n",
       "    </tr>\n",
       "  </tbody>\n",
       "</table>\n",
       "</div>"
      ],
      "text/plain": [
       "                                   title  \\\n",
       "0  systems and methods for hair analysis   \n",
       "1  systems and methods for hair analysis   \n",
       "\n",
       "                                        abstract_ghi  \\\n",
       "0  disclosed are hair analysis systems and method...   \n",
       "1  disclosed are hair analysis systems and method...   \n",
       "\n",
       "                                      english claims   filename_ghi  \\\n",
       "0  what is claimed is: 1. a hair analysis system ...  US20210353215   \n",
       "1  what is claimed is: 1. a hair analysis system ...  US20210353215   \n",
       "\n",
       "  filename_original filing_date publication_date priority_date  \\\n",
       "0      US2019350514  2019-06-14       2019-11-21    2018-05-17   \n",
       "1      WO2019222327  2019-05-15       2019-11-21    2018-05-17   \n",
       "\n",
       "                             ipc_classes                        assignee  \\\n",
       "0  A45D44/00,A61B5/00,G06N3/02,G06Q30/06  P&G (PROCTER & GAMBLE COMPANY)   \n",
       "1                              G06Q30/06  P&G (PROCTER & GAMBLE COMPANY)   \n",
       "\n",
       "                                           inventors  docdb_family_id  \\\n",
       "0  KAINKARYAM, RAGHUNANDAN MELKOTEPURWAR, ANKURSH...         68534608   \n",
       "1  SHERMAN, FAIZPURWAR, ANKURKAINKARYAM, RAGHUNANDAN         66770570   \n",
       "\n",
       "                                   abstract_original  \\\n",
       "0  disclosed are hair analysis systems and method...   \n",
       "1  disclosed are hair analysis systems and method...   \n",
       "\n",
       "                                              claims  \n",
       "0  1. a hair analysis system comprising: (a) an i...  \n",
       "1                                                NaN  "
      ]
     },
     "execution_count": 129,
     "metadata": {},
     "output_type": "execute_result"
    }
   ],
   "source": [
    "merged.head(2)"
   ]
  },
  {
   "cell_type": "code",
   "execution_count": null,
   "id": "60cc130a",
   "metadata": {},
   "outputs": [],
   "source": []
  },
  {
   "cell_type": "code",
   "execution_count": null,
   "id": "e2de83a5",
   "metadata": {},
   "outputs": [],
   "source": []
  },
  {
   "cell_type": "code",
   "execution_count": null,
   "id": "9f102aa5",
   "metadata": {},
   "outputs": [],
   "source": []
  },
  {
   "cell_type": "code",
   "execution_count": null,
   "id": "00657237",
   "metadata": {},
   "outputs": [],
   "source": []
  },
  {
   "cell_type": "code",
   "execution_count": 49,
   "id": "4d24429a",
   "metadata": {},
   "outputs": [
    {
     "data": {
      "text/plain": [
       "34"
      ]
     },
     "execution_count": 49,
     "metadata": {},
     "output_type": "execute_result"
    }
   ],
   "source": [
    "merged = pd.merge(df_ghironi, df_mainSubset, left_on=\"filename\", right_on=\"filename\", suffixes=(\"_ghi\", \"_main\"))\n",
    "len(merged.reindex(sorted(merged.columns.str.lower()), axis=1))"
   ]
  },
  {
   "cell_type": "code",
   "execution_count": 50,
   "id": "285c8fb9",
   "metadata": {},
   "outputs": [
    {
     "data": {
      "text/plain": [
       "38"
      ]
     },
     "execution_count": 50,
     "metadata": {},
     "output_type": "execute_result"
    }
   ],
   "source": [
    "merged = pd.merge(df_ghironi, df_originalDataset, left_on=\"filename\", right_on=\"filename\", suffixes=(\"_ghi\", \"_original\"))\n",
    "len(merged.reindex(sorted(merged.columns.str.lower()), axis=1))"
   ]
  },
  {
   "cell_type": "code",
   "execution_count": null,
   "id": "cf44e893",
   "metadata": {},
   "outputs": [],
   "source": []
  },
  {
   "cell_type": "code",
   "execution_count": null,
   "id": "ef2ac0a0",
   "metadata": {},
   "outputs": [],
   "source": []
  },
  {
   "cell_type": "code",
   "execution_count": null,
   "id": "85c25465",
   "metadata": {},
   "outputs": [],
   "source": []
  },
  {
   "cell_type": "code",
   "execution_count": 98,
   "id": "1f655018",
   "metadata": {},
   "outputs": [
    {
     "data": {
      "text/plain": [
       "185"
      ]
     },
     "execution_count": 98,
     "metadata": {},
     "output_type": "execute_result"
    }
   ],
   "source": [
    "merged = pd.merge(df_ghironi.dropna(subset=[\"abstract\"]), df_mainSubset.dropna(subset=[\"abstract\"]), \n",
    "                  left_on=\"abstract\", right_on=\"abstract\", suffixes=(\"_ghi\", \"_main\"), how=\"outer\")\n",
    "len(merged.reindex(sorted(merged.columns.str.lower()), axis=1).dropna())"
   ]
  },
  {
   "cell_type": "code",
   "execution_count": 99,
   "id": "3b41b61d",
   "metadata": {},
   "outputs": [
    {
     "data": {
      "text/plain": [
       "title_ghi           214690\n",
       "abstract                 0\n",
       "english claims      214690\n",
       "filename_ghi        214690\n",
       "filename_main           52\n",
       "filing_date             52\n",
       "publication_date        52\n",
       "priority_date           52\n",
       "ipc_classes            663\n",
       "assignee              1641\n",
       "inventors              220\n",
       "docdb_family_id         52\n",
       "title_main              52\n",
       "claims                  52\n",
       "dtype: int64"
      ]
     },
     "execution_count": 99,
     "metadata": {},
     "output_type": "execute_result"
    }
   ],
   "source": [
    "merged.isna().sum()"
   ]
  },
  {
   "cell_type": "code",
   "execution_count": 100,
   "id": "4cc264a8",
   "metadata": {},
   "outputs": [
    {
     "data": {
      "text/plain": [
       "185"
      ]
     },
     "execution_count": 100,
     "metadata": {},
     "output_type": "execute_result"
    }
   ],
   "source": [
    "merged = pd.merge(df_ghironi, df_originalDataset, left_on=\"abstract\", \n",
    "                  right_on=\"abstract\", suffixes=(\"_ghi\", \"_original\"), how=\"outer\")\n",
    "len(merged.reindex(sorted(merged.columns.str.lower()), axis=1).dropna())"
   ]
  },
  {
   "cell_type": "code",
   "execution_count": 101,
   "id": "912202f9",
   "metadata": {},
   "outputs": [
    {
     "data": {
      "text/plain": [
       "title_ghi            299210\n",
       "abstract               3092\n",
       "english claims       299210\n",
       "filename_ghi         299210\n",
       "filename_original        24\n",
       "filing_date              24\n",
       "publication_date         24\n",
       "priority_date            24\n",
       "ipc_classes             949\n",
       "assignee               1757\n",
       "inventors               554\n",
       "docdb_family_id          24\n",
       "title_original           24\n",
       "claims                82469\n",
       "dtype: int64"
      ]
     },
     "execution_count": 101,
     "metadata": {},
     "output_type": "execute_result"
    }
   ],
   "source": [
    "merged.isna().sum()"
   ]
  },
  {
   "cell_type": "code",
   "execution_count": null,
   "id": "0ac91868",
   "metadata": {},
   "outputs": [],
   "source": []
  },
  {
   "cell_type": "code",
   "execution_count": 103,
   "id": "325d2710",
   "metadata": {},
   "outputs": [
    {
     "data": {
      "text/plain": [
       "0"
      ]
     },
     "execution_count": 103,
     "metadata": {},
     "output_type": "execute_result"
    }
   ],
   "source": [
    "merged = pd.merge(df_ghironi.dropna(subset=[\"english claims\"]), df_mainSubset.dropna(subset=[\"claims\"]), \n",
    "                  left_on=\"english claims\", right_on=\"claims\", suffixes=(\"_ghi\", \"_main\"), how=\"outer\")\n",
    "len(merged.reindex(sorted(merged.columns.str.lower()), axis=1).dropna())"
   ]
  },
  {
   "cell_type": "code",
   "execution_count": 104,
   "id": "9a54960c",
   "metadata": {},
   "outputs": [
    {
     "data": {
      "text/plain": [
       "title_ghi           216986\n",
       "abstract_ghi        216986\n",
       "english claims      216986\n",
       "filename_ghi        216986\n",
       "filename_main          169\n",
       "filing_date            169\n",
       "publication_date       169\n",
       "priority_date          169\n",
       "ipc_classes            783\n",
       "assignee              1758\n",
       "inventors              337\n",
       "docdb_family_id        169\n",
       "title_main             169\n",
       "abstract_main         2285\n",
       "claims                 169\n",
       "dtype: int64"
      ]
     },
     "execution_count": 104,
     "metadata": {},
     "output_type": "execute_result"
    }
   ],
   "source": [
    "merged.isna().sum()"
   ]
  },
  {
   "cell_type": "code",
   "execution_count": null,
   "id": "a7f2d77c",
   "metadata": {},
   "outputs": [],
   "source": [
    "merged = pd.merge(df_ghironi, df_originalDataset, left_on=\"abstract\", \n",
    "                  right_on=\"abstract\", suffixes=(\"_ghi\", \"_original\"), how=\"outer\")\n",
    "len(merged.reindex(sorted(merged.columns.str.lower()), axis=1).dropna())"
   ]
  },
  {
   "cell_type": "code",
   "execution_count": null,
   "id": "22fcf885",
   "metadata": {},
   "outputs": [],
   "source": [
    "merged.isna().sum()"
   ]
  },
  {
   "cell_type": "code",
   "execution_count": null,
   "id": "d3c87eb8",
   "metadata": {},
   "outputs": [],
   "source": []
  },
  {
   "cell_type": "code",
   "execution_count": null,
   "id": "cfc93cd5",
   "metadata": {},
   "outputs": [],
   "source": []
  },
  {
   "cell_type": "code",
   "execution_count": 130,
   "id": "06598213",
   "metadata": {},
   "outputs": [
    {
     "data": {
      "text/plain": [
       "Index(['title', 'abstract_ghi', 'english claims', 'filename_ghi',\n",
       "       'filename_original', 'filing_date', 'publication_date', 'priority_date',\n",
       "       'ipc_classes', 'assignee', 'inventors', 'docdb_family_id',\n",
       "       'abstract_original', 'claims'],\n",
       "      dtype='object')"
      ]
     },
     "execution_count": 130,
     "metadata": {},
     "output_type": "execute_result"
    }
   ],
   "source": [
    "merged.columns"
   ]
  },
  {
   "cell_type": "code",
   "execution_count": 131,
   "id": "55588cce",
   "metadata": {},
   "outputs": [],
   "source": [
    "merged[['filename', 'filing_date', 'publication_date', 'priority_date', 'ipc_classes', 'assignee', \n",
    "        'inventors', 'docdb_family_id', 'title', 'abstract', 'claims']] = merged[['filename_original', 'filing_date', \n",
    "                                                                                  'publication_date', 'priority_date', \n",
    "                                                                                  'ipc_classes', 'assignee', 'inventors', \n",
    "                                                                                  'docdb_family_id', 'title', 'abstract_ghi', \n",
    "                                                                                  'claims']]"
   ]
  },
  {
   "cell_type": "code",
   "execution_count": 132,
   "id": "c46e9845",
   "metadata": {},
   "outputs": [],
   "source": [
    "merged[df_mainSubset.columns].to_csv(\"../data/selected_patent_final.csv\", index=None)"
   ]
  },
  {
   "cell_type": "code",
   "execution_count": null,
   "id": "f7bbfcdc",
   "metadata": {},
   "outputs": [],
   "source": []
  }
 ],
 "metadata": {
  "kernelspec": {
   "display_name": "Python 3",
   "language": "python",
   "name": "python3"
  },
  "language_info": {
   "codemirror_mode": {
    "name": "ipython",
    "version": 3
   },
   "file_extension": ".py",
   "mimetype": "text/x-python",
   "name": "python",
   "nbconvert_exporter": "python",
   "pygments_lexer": "ipython3",
   "version": "3.8.8"
  }
 },
 "nbformat": 4,
 "nbformat_minor": 5
}
