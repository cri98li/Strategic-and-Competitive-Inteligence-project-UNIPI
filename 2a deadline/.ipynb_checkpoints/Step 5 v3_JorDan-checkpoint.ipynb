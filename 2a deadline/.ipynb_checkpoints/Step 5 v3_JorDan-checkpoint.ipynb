{
 "cells": [
  {
   "cell_type": "code",
   "execution_count": 1,
   "id": "22129e12",
   "metadata": {},
   "outputs": [],
   "source": [
    "import pandas as pd\n",
    "from tqdm.auto import tqdm\n",
    "import numpy as np\n",
    "\n",
    "pd.set_option('display.max_columns', 500)\n",
    "pd.set_option('display.max_colwidth', 300)\n",
    "pd.set_option('display.max_rows', 300)"
   ]
  },
  {
   "cell_type": "code",
   "execution_count": 2,
   "id": "9bc7d3d9",
   "metadata": {},
   "outputs": [],
   "source": [
    "import json\n",
    "\n",
    "with open(\"../data/fix_ipc_class_dict.json\") as json_file:\n",
    "    ipc_class_dict = json.load(json_file)"
   ]
  },
  {
   "cell_type": "code",
   "execution_count": 3,
   "id": "46c8eafd",
   "metadata": {},
   "outputs": [],
   "source": [
    "#df = pd.read_csv(\"../data/subest1_filtrato.csv\")\n",
    "df = pd.read_csv(\"../data/data_subset1.csv\")"
   ]
  },
  {
   "cell_type": "code",
   "execution_count": 4,
   "id": "df2405e4",
   "metadata": {},
   "outputs": [],
   "source": [
    "df.title = df.title.str.lower()\n",
    "df.abstract = df.abstract.str.lower()\n",
    "df.claims = df.claims.str.lower()\n",
    "df.ipc_classes = df.ipc_classes.apply(lambda x: x.replace(\",\", \", \") if type(x)==str else \"\")"
   ]
  },
  {
   "cell_type": "code",
   "execution_count": 5,
   "id": "ba1ca4ab",
   "metadata": {},
   "outputs": [
    {
     "data": {
      "text/html": [
       "<div>\n",
       "<style scoped>\n",
       "    .dataframe tbody tr th:only-of-type {\n",
       "        vertical-align: middle;\n",
       "    }\n",
       "\n",
       "    .dataframe tbody tr th {\n",
       "        vertical-align: top;\n",
       "    }\n",
       "\n",
       "    .dataframe thead th {\n",
       "        text-align: right;\n",
       "    }\n",
       "</style>\n",
       "<table border=\"1\" class=\"dataframe\">\n",
       "  <thead>\n",
       "    <tr style=\"text-align: right;\">\n",
       "      <th></th>\n",
       "      <th>filename</th>\n",
       "      <th>filing_date</th>\n",
       "      <th>publication_date</th>\n",
       "      <th>priority_date</th>\n",
       "      <th>ipc_classes</th>\n",
       "      <th>assignee</th>\n",
       "      <th>inventors</th>\n",
       "      <th>docdb_family_id</th>\n",
       "      <th>title</th>\n",
       "      <th>abstract</th>\n",
       "      <th>claims</th>\n",
       "    </tr>\n",
       "  </thead>\n",
       "  <tbody>\n",
       "    <tr>\n",
       "      <th>0</th>\n",
       "      <td>US2009216698_A1.txt</td>\n",
       "      <td>2008-02-22</td>\n",
       "      <td>2009-08-27</td>\n",
       "      <td>2008-02-22</td>\n",
       "      <td>G06F15/18, G06N5/02</td>\n",
       "      <td>XEROX CORPORATIONANDREOLI, JEAN-MARCBOUCHARD, GUILLAUME</td>\n",
       "      <td>ANDREOLI, JEAN-MARCBOUCHARD, GUILLAUME</td>\n",
       "      <td>40999265</td>\n",
       "      <td>temporal events analysis employing tree induction</td>\n",
       "      <td>an events analysis method comprises: optimizing respective to a set of training data a set of branching transition likelihood parameters associating parent events of type k with child events of type k' in branching processes; inferring a most probable branching process for a set of input data co...</td>\n",
       "      <td>1. an events analyzer comprising: a probabilistic branching process learning engine configured to optimize respective to a set of training data a set of branching transition likelihood parameters associating parent events of type k with child events of type k′ in branching processes; and a proba...</td>\n",
       "    </tr>\n",
       "    <tr>\n",
       "      <th>1</th>\n",
       "      <td>US2020018760_A1.txt</td>\n",
       "      <td>2019-09-23</td>\n",
       "      <td>2020-01-16</td>\n",
       "      <td>2007-03-27</td>\n",
       "      <td>G01N33/574</td>\n",
       "      <td>IMMUNOVIA</td>\n",
       "      <td>BORREBAECK, CARL, ARNE, KRISTERWINGREN, LARS, BERTIL, CHRISTER</td>\n",
       "      <td>39493874</td>\n",
       "      <td>protein signature/markers for the detection of adenocarcinoma</td>\n",
       "      <td>the present invention provides a method for determining the presence of pancreatic adenocarcinoma in an individual and/or for determining the survival time of an individual afflicted with pancreatic adenocarcinoma comprising the steps of: (a) providing a serum or plasma sample to be tested; and ...</td>\n",
       "      <td>1. a method for determining the presence of pancreatic adenocarcinoma in an individual comprising the steps of: a) providing a serum or plasma sample to be tested; b) determining a protein signature of the test sample by measuring the presence and/or amount in the test sample of one or more prot...</td>\n",
       "    </tr>\n",
       "    <tr>\n",
       "      <th>2</th>\n",
       "      <td>EP3340117_A1.txt</td>\n",
       "      <td>2017-11-15</td>\n",
       "      <td>2018-06-27</td>\n",
       "      <td>2016-12-20</td>\n",
       "      <td>G06N3/04, G06N3/063</td>\n",
       "      <td>INTEL CORPORATION</td>\n",
       "      <td>LIN, TSUNG-HAN</td>\n",
       "      <td>60327233</td>\n",
       "      <td>unsupervised learning using neuromorphic computing</td>\n",
       "      <td>a spiking neural network (snn) is implemented on a neuromorphic computers and includes a plurality of neurons, a first set of the plurality of synapses defining feed-forward connections from a first subset of the neurons to a second subset of the neurons, a second subset of the plurality of syna...</td>\n",
       "      <td>1. a method comprising: defining a spiking neural network (snn) comprising a plurality of artificial neurons interconnected by a plurality of artificial synapses, wherein the snn is to comprise: a first subset of the plurality of synapses to define feedforward connections from a first subset of ...</td>\n",
       "    </tr>\n",
       "    <tr>\n",
       "      <th>3</th>\n",
       "      <td>WO2019070570_A1.txt</td>\n",
       "      <td>2018-10-01</td>\n",
       "      <td>2019-04-11</td>\n",
       "      <td>2017-10-06</td>\n",
       "      <td>A61B5/103</td>\n",
       "      <td>TELLUS YOU CARE</td>\n",
       "      <td>HSU KEVINCOKE, TANIA</td>\n",
       "      <td>65993331</td>\n",
       "      <td>non-contact activity sensing network for elderly care</td>\n",
       "      <td>determining a physical state of a person includes detecting positions of different portions of the person, transforming detected positions of the person into a point cloud having a density that varies according to movement of each of the portions, correlating movement and position data from the ...</td>\n",
       "      <td>1. a method of determining a physical state of a person, comprising:detecting positions of different portions of the person;transforming detected positions of the person into a point cloud having a density that varies according to movement of each of the portions;correlating movement and positio...</td>\n",
       "    </tr>\n",
       "    <tr>\n",
       "      <th>4</th>\n",
       "      <td>US2016259635_A1.txt</td>\n",
       "      <td>2015-03-04</td>\n",
       "      <td>2016-09-08</td>\n",
       "      <td>2015-03-04</td>\n",
       "      <td>G06F15/18, G06F17/27, G06F8/65, G06F8/71, G06F9/44, G06F9/445, G06N99/00</td>\n",
       "      <td>IBM (INTERNATIONAL BUSINESS MACHINES CORPORATION)</td>\n",
       "      <td>EL MAGHRAOUI, KAOUTARJANN, JOEFONPATTNAIK, PRATAP C.PICKOVER CLIFFORD A.</td>\n",
       "      <td>56849635</td>\n",
       "      <td>software patch management incorporating sentiment analysis</td>\n",
       "      <td>a method and system are provided. the method includes generating, by a machine-based sentiment prediction generator, respective machine-determined sentiment predictions for each of a plurality of software patches using sentiment analysis. the method further includes setting, by a sentiment-based...</td>\n",
       "      <td>1. 1-18. (canceled)19. a computer program product for software patch management, the computer program product comprising a computer readable storage medium having program instructions embodied therewith, the program instructions executable by a computer to cause the computer to perform a method ...</td>\n",
       "    </tr>\n",
       "  </tbody>\n",
       "</table>\n",
       "</div>"
      ],
      "text/plain": [
       "              filename filing_date publication_date priority_date  \\\n",
       "0  US2009216698_A1.txt  2008-02-22       2009-08-27    2008-02-22   \n",
       "1  US2020018760_A1.txt  2019-09-23       2020-01-16    2007-03-27   \n",
       "2     EP3340117_A1.txt  2017-11-15       2018-06-27    2016-12-20   \n",
       "3  WO2019070570_A1.txt  2018-10-01       2019-04-11    2017-10-06   \n",
       "4  US2016259635_A1.txt  2015-03-04       2016-09-08    2015-03-04   \n",
       "\n",
       "                                                                ipc_classes  \\\n",
       "0                                                       G06F15/18, G06N5/02   \n",
       "1                                                                G01N33/574   \n",
       "2                                                       G06N3/04, G06N3/063   \n",
       "3                                                                 A61B5/103   \n",
       "4  G06F15/18, G06F17/27, G06F8/65, G06F8/71, G06F9/44, G06F9/445, G06N99/00   \n",
       "\n",
       "                                                  assignee  \\\n",
       "0  XEROX CORPORATIONANDREOLI, JEAN-MARCBOUCHARD, GUILLAUME   \n",
       "1                                                IMMUNOVIA   \n",
       "2                                        INTEL CORPORATION   \n",
       "3                                          TELLUS YOU CARE   \n",
       "4        IBM (INTERNATIONAL BUSINESS MACHINES CORPORATION)   \n",
       "\n",
       "                                                                  inventors  \\\n",
       "0                                    ANDREOLI, JEAN-MARCBOUCHARD, GUILLAUME   \n",
       "1            BORREBAECK, CARL, ARNE, KRISTERWINGREN, LARS, BERTIL, CHRISTER   \n",
       "2                                                            LIN, TSUNG-HAN   \n",
       "3                                                      HSU KEVINCOKE, TANIA   \n",
       "4  EL MAGHRAOUI, KAOUTARJANN, JOEFONPATTNAIK, PRATAP C.PICKOVER CLIFFORD A.   \n",
       "\n",
       "   docdb_family_id  \\\n",
       "0         40999265   \n",
       "1         39493874   \n",
       "2         60327233   \n",
       "3         65993331   \n",
       "4         56849635   \n",
       "\n",
       "                                                           title  \\\n",
       "0              temporal events analysis employing tree induction   \n",
       "1  protein signature/markers for the detection of adenocarcinoma   \n",
       "2             unsupervised learning using neuromorphic computing   \n",
       "3          non-contact activity sensing network for elderly care   \n",
       "4     software patch management incorporating sentiment analysis   \n",
       "\n",
       "                                                                                                                                                                                                                                                                                                      abstract  \\\n",
       "0  an events analysis method comprises: optimizing respective to a set of training data a set of branching transition likelihood parameters associating parent events of type k with child events of type k' in branching processes; inferring a most probable branching process for a set of input data co...   \n",
       "1  the present invention provides a method for determining the presence of pancreatic adenocarcinoma in an individual and/or for determining the survival time of an individual afflicted with pancreatic adenocarcinoma comprising the steps of: (a) providing a serum or plasma sample to be tested; and ...   \n",
       "2  a spiking neural network (snn) is implemented on a neuromorphic computers and includes a plurality of neurons, a first set of the plurality of synapses defining feed-forward connections from a first subset of the neurons to a second subset of the neurons, a second subset of the plurality of syna...   \n",
       "3  determining a physical state of a person includes detecting positions of different portions of the person, transforming detected positions of the person into a point cloud having a density that varies according to movement of each of the portions, correlating movement and position data from the ...   \n",
       "4  a method and system are provided. the method includes generating, by a machine-based sentiment prediction generator, respective machine-determined sentiment predictions for each of a plurality of software patches using sentiment analysis. the method further includes setting, by a sentiment-based...   \n",
       "\n",
       "                                                                                                                                                                                                                                                                                                        claims  \n",
       "0  1. an events analyzer comprising: a probabilistic branching process learning engine configured to optimize respective to a set of training data a set of branching transition likelihood parameters associating parent events of type k with child events of type k′ in branching processes; and a proba...  \n",
       "1  1. a method for determining the presence of pancreatic adenocarcinoma in an individual comprising the steps of: a) providing a serum or plasma sample to be tested; b) determining a protein signature of the test sample by measuring the presence and/or amount in the test sample of one or more prot...  \n",
       "2  1. a method comprising: defining a spiking neural network (snn) comprising a plurality of artificial neurons interconnected by a plurality of artificial synapses, wherein the snn is to comprise: a first subset of the plurality of synapses to define feedforward connections from a first subset of ...  \n",
       "3  1. a method of determining a physical state of a person, comprising:detecting positions of different portions of the person;transforming detected positions of the person into a point cloud having a density that varies according to movement of each of the portions;correlating movement and positio...  \n",
       "4  1. 1-18. (canceled)19. a computer program product for software patch management, the computer program product comprising a computer readable storage medium having program instructions embodied therewith, the program instructions executable by a computer to cause the computer to perform a method ...  "
      ]
     },
     "execution_count": 5,
     "metadata": {},
     "output_type": "execute_result"
    }
   ],
   "source": [
    "df.head()"
   ]
  },
  {
   "cell_type": "code",
   "execution_count": 6,
   "id": "d993d110",
   "metadata": {},
   "outputs": [
    {
     "data": {
      "text/plain": [
       "216986"
      ]
     },
     "execution_count": 6,
     "metadata": {},
     "output_type": "execute_result"
    }
   ],
   "source": [
    "len(df)"
   ]
  },
  {
   "cell_type": "markdown",
   "id": "2e8e2c7f",
   "metadata": {},
   "source": [
    "<h3>Keyword della professoressa:</h3>\n",
    "\n",
    "<img src=\"keyword prof.png\" style=\"width:800px;\"/>"
   ]
  },
  {
   "cell_type": "code",
   "execution_count": 7,
   "id": "19bbc9df",
   "metadata": {},
   "outputs": [],
   "source": [
    "keywords_other = []\n",
    "\"\"\"[\"molecule\",\n",
    "                  \"particle\", \n",
    "                  \"pharmacological\",\n",
    "                  \"technolog\",\n",
    "                  \"nano(-| )?tech(nolog)?\",\n",
    "                  \"alter(ing)?\",\n",
    "                  \"nano\",\n",
    "                  \"nano(-| )?bot\",\n",
    "                  \"nano(-| )?emulsion\",\n",
    "                  \"nano(-| )?particle\",\n",
    "                  \"nano(-| )?tube\",\n",
    "                  \"nano(-| )?sphere\",\n",
    "                  \"quantum\",\n",
    "                  \"graphene\",\n",
    "                  \"cloud\",\n",
    "                  \"software\",\n",
    "                  \"product\"\n",
    "                 ]\"\"\"\n",
    "\n",
    "\"\"\"\n",
    "Possiamo cercare i vincoli espressi dalla professoressa sia in \"stile pandas\" \n",
    "    (cercare documenti che contengono sia \"body\" che \"care\": df[(df.body >= 1) & (df.care >= 1)])\n",
    "    \n",
    "    che tramite l'uso delle espressioni regolari per implmentare l'operatore che l'Ing Ghironi \n",
    "    ha chiamto NEAR. Ad esempio per cercare \"skin NEAR care\" possiamo aggiungere alla lista sotto\n",
    "    \"lip(\\w|\\W){1,20}?stick\". Agli estremi ci sono le 2 parole in cui siamo interessati, \n",
    "    \"(\\w|\\W){1,20}?\" serve invece a dire \"permetti la presenza tra \n",
    "    0 e 20 caratteri o numeri tra le 2 parole\". Se volete fare dei test: https://pythex.org/\n",
    "\"\"\"\n",
    "\n",
    "keywords_cosmetics = [\"cosmetic\",\n",
    "                      \"beauty\", \n",
    "                      \"body\", \n",
    "                      \"skin\", \n",
    "                      \"nail\", \n",
    "                      \"fingernail\", \n",
    "                      \"cleans(e|ing)\", # \n",
    "                      \"manicur(e|ing)\", #manicure and manicuring\n",
    "                      \"pedicur(e|ing)\",\n",
    "                      \"varnish\", \n",
    "                      \"polish\",\n",
    "                      \"nail(s| |-)*polish\",\n",
    "                      \"lip(s)?\",\n",
    "                      \"lip( |-)?stic( |k)+\",\n",
    "                      \"blush\",\n",
    "                      \"mascara\",\n",
    "                      \"make(s| |-)*up\",#makes up, make-up\n",
    "                      \"cream\",\n",
    "                      \"soap\",\n",
    "                      \"toothpaste\",\n",
    "                      \"sunscreen\",\n",
    "                      \"lotion\",\n",
    "                      \"deodorant\",\n",
    "                      \"care\",\n",
    "                      \"lip(s| |-)*(care|polish)\",\n",
    "                      \"skin(s| |-)*(care|polish)\",\n",
    "                      \"skin(s| |-)*(care|polish)\",\n",
    "                      \"nail(s| |-)*(care|polish)\",\n",
    "                      \"baby(s| |-)*(care|polish)\",\n",
    "                      \"anti(-)?ag(e|ing)\",\n",
    "                      \"colour|color\",\n",
    "                      \"finger\"\n",
    "                     ]"
   ]
  },
  {
   "cell_type": "code",
   "execution_count": null,
   "id": "b2e8c718",
   "metadata": {},
   "outputs": [],
   "source": []
  },
  {
   "cell_type": "code",
   "execution_count": null,
   "id": "fcab23c9",
   "metadata": {},
   "outputs": [],
   "source": []
  },
  {
   "cell_type": "code",
   "execution_count": 8,
   "id": "1f5f3302",
   "metadata": {},
   "outputs": [],
   "source": [
    "df_original = df.copy()"
   ]
  },
  {
   "cell_type": "markdown",
   "id": "cab04922",
   "metadata": {},
   "source": [
    "### Controllo IPC (DA AFFINARE)\n",
    "##### IPC A45D+\n",
    "\n",
    "HAIRDRESSING OR SHAVING EQUIPMENT ; EQUIPMENT FOR COSMETICS OR COSMETIC TREATMENTS, e.g. FOR MANICURING OR PEDICURING"
   ]
  },
  {
   "cell_type": "code",
   "execution_count": 9,
   "id": "18ce21c7",
   "metadata": {},
   "outputs": [],
   "source": [
    "df_selected = pd.DataFrame()"
   ]
  },
  {
   "cell_type": "code",
   "execution_count": 10,
   "id": "44d4ec55",
   "metadata": {
    "scrolled": false
   },
   "outputs": [
    {
     "data": {
      "text/html": [
       "<div>\n",
       "<style scoped>\n",
       "    .dataframe tbody tr th:only-of-type {\n",
       "        vertical-align: middle;\n",
       "    }\n",
       "\n",
       "    .dataframe tbody tr th {\n",
       "        vertical-align: top;\n",
       "    }\n",
       "\n",
       "    .dataframe thead th {\n",
       "        text-align: right;\n",
       "    }\n",
       "</style>\n",
       "<table border=\"1\" class=\"dataframe\">\n",
       "  <thead>\n",
       "    <tr style=\"text-align: right;\">\n",
       "      <th></th>\n",
       "      <th>title</th>\n",
       "      <th>ipc_classes</th>\n",
       "      <th>claims</th>\n",
       "    </tr>\n",
       "  </thead>\n",
       "  <tbody>\n",
       "    <tr>\n",
       "      <th>3240</th>\n",
       "      <td>system for dispensing at least one makeup product and method for dispensing and evaluating makeup</td>\n",
       "      <td>A45D40/00, A45D40/26, A45D44/00, B01F13/10, B01F15/02, B01F5/06, G01J3/46</td>\n",
       "      <td>1. a system for dispensing at least one makeup product and that can be manipulated in one hand, the system comprising: a cup; and a dispenser for filling the cup from a bottom of the cup with at least two base products, wherein: the cup is secured to the dispenser at least while the cup is being...</td>\n",
       "    </tr>\n",
       "    <tr>\n",
       "      <th>20938</th>\n",
       "      <td>automatic nail polish application system and method</td>\n",
       "      <td>A45D29/00, A45D29/11, A45D29/12, A45D29/14, A45D34/04</td>\n",
       "      <td>1. a system for automatically polishing a nail of a user including:an end-effector havinga cartridge receiving unit,a cartridge including nail polish, anda nozzle;a sensor, to generate target signals from a target location;a nail determination unit, receiving said target signals, to automaticall...</td>\n",
       "    </tr>\n",
       "    <tr>\n",
       "      <th>31462</th>\n",
       "      <td>training system and device</td>\n",
       "      <td>A45D1/00, G09B19/00, G09B19/24, G09B5/04</td>\n",
       "      <td>1. a beauty product system for performing a treatment on a user, the system comprising:an input for allowing the user to specify a desired treatment to be performed; a beauty product device that is manipulate by the user to perform the desired treatment on the user; the beauty product device hav...</td>\n",
       "    </tr>\n",
       "    <tr>\n",
       "      <th>38540</th>\n",
       "      <td>cosmetic cleaning product</td>\n",
       "      <td>A45D34/04, A61H15/02, A61H7/00, A61K8/00, A61K8/02, A61K8/31, A61K8/37, A61K8/42, A61K8/44, A61Q19/10, A61Q5/02</td>\n",
       "      <td>1. a cosmetic cleaning product, comprising: a massage applicator comprising a container body and a massage device having (a) at least one massage pin device, said pin device having at least one first surface which is configured to be in contact with the surface to be massaged, wherein a force ca...</td>\n",
       "    </tr>\n",
       "    <tr>\n",
       "      <th>53114</th>\n",
       "      <td>portable apparatus for supporting a hand held hair dryer</td>\n",
       "      <td>A45D20/12, A45D20/14, F16M11/00, F16M13/02</td>\n",
       "      <td>1. a portable hair dryer support apparatus, comprising: a hair dryer holding structure for holding a hair dryer; at least one vertical support element pivotally and directly connected at a bottom end to the hair dryer holding structure via a hinge having an axis of rotation perpendicular to the ...</td>\n",
       "    </tr>\n",
       "    <tr>\n",
       "      <th>53136</th>\n",
       "      <td>improvements in and relating to hair irons</td>\n",
       "      <td>A45D1/06, A45D1/28</td>\n",
       "      <td>1. an electric hair iron comprising at least one heating element and control means comprising a temperature sensor and a control circuit and wherein the control means is arranged such that power is only supplied to the heating element or elements when the temperature sensed by the sensor is at o...</td>\n",
       "    </tr>\n",
       "    <tr>\n",
       "      <th>61966</th>\n",
       "      <td>complete compact</td>\n",
       "      <td>A45D33/00, A45D33/26, A45D44/00, G01N1/22, G01N1/24</td>\n",
       "      <td>i claim:1. a method for determining aroma comprising: (a) providing at least one means of aroma sensing capable of approximately discerning the presence or absence of at least one characteristic of the aroma, (b) sampling aroma with said aroma sensing means, (c) discerning said aroma characteris...</td>\n",
       "    </tr>\n",
       "    <tr>\n",
       "      <th>63517</th>\n",
       "      <td>disposable single use applicator assembly with a chemical composition</td>\n",
       "      <td>A45D37/00, A45D40/00, A45D40/26, A61K8/04, A61Q19/00</td>\n",
       "      <td>i claim:1. an assembly for storing and transporting, said assembly comprising: a wrapper having a top sheet and a bottom sheet, said top sheet being sealed to said bottom sheet so as to form a border along a perimeter of said top sheet and said bottom sheet; and an insert having a top surface an...</td>\n",
       "    </tr>\n",
       "    <tr>\n",
       "      <th>69896</th>\n",
       "      <td>method for simulating the rendering of a make-up product on a body area</td>\n",
       "      <td>A45D44/00</td>\n",
       "      <td>1. a method (200) for simulating a rendering of a makeup product on a body area, the method being performed by a processor (1 1 ), and comprising :o acquiring (210) an image of the body area without makeup of a subject, o determining (230) first color parameters of the pixels of the image corres...</td>\n",
       "    </tr>\n",
       "    <tr>\n",
       "      <th>81748</th>\n",
       "      <td>system for targeted application of topical agents to an isolated body part</td>\n",
       "      <td>A45D40/30, A45D44/00, A61K8/02, A61K8/368, A61P17/10, A61Q19/00, B32B38/10, B32B7/06, B33Y10/00, B33Y80/00, B44C3/02</td>\n",
       "      <td>1. a method for targeted application of topical agents to an isolated body part comprising the steps of: (a) capturing an image of the isolated body part; (b) transforming the image data to mathematical model of the geometry of the isolated body part; (c) forming an applicator mask having an app...</td>\n",
       "    </tr>\n",
       "    <tr>\n",
       "      <th>92758</th>\n",
       "      <td>hair iron and methods of operation thereof</td>\n",
       "      <td>A45D1/00, A45D1/04, A45D1/06, A45D1/28, A45D2/00, A45D7/02, H05B1/02, H05B3/02</td>\n",
       "      <td>1. an electric hair iron comprising at least one heating element and control means comprising a temperature sensor and a control circuit and wherein the control means is arranged such that power is only supplied to the at least one heating element when the temperature sensed by the sensor is at ...</td>\n",
       "    </tr>\n",
       "    <tr>\n",
       "      <th>98501</th>\n",
       "      <td>hair roller and setter</td>\n",
       "      <td>A45D2/12, A45D2/14, A45D2/18, A45D2/22, A45D2/36</td>\n",
       "      <td>1. a hair roller for shaping human hair, said roller comprising: a generally elongated, flexible inner core having a first modulus of elasticity; a generally elongated, flexible outer layer surrounding said inner core and having a second modulus of elasticity that is greater than said first modu...</td>\n",
       "    </tr>\n",
       "    <tr>\n",
       "      <th>99221</th>\n",
       "      <td>hair iron and methods of operation thereof</td>\n",
       "      <td>A45D1/00, A45D1/04, A45D1/06, A45D1/28, A45D2/00, A45D7/02, H05B1/02, H05B3/02</td>\n",
       "      <td>1. an electric hair iron comprising at least one heating element and control means comprising a temperature sensor and a control circuit and wherein the control means is arranged such that power is only supplied to the at least one heating element when the temperature sensed by the sensor is at ...</td>\n",
       "    </tr>\n",
       "    <tr>\n",
       "      <th>129645</th>\n",
       "      <td>device for personalizing fragrance</td>\n",
       "      <td>A45D33/22, A45D40/00, A45D40/24, B65D6/24</td>\n",
       "      <td>1. a device, comprising: a first module comprising a first container having a first hemispherical cap and a first attacher, the first module further comprising a first modular cap that receives the first hemispherical cap; a first fragrance formulation contained by the first container, when the ...</td>\n",
       "    </tr>\n",
       "    <tr>\n",
       "      <th>134898</th>\n",
       "      <td>system for dispensing a cosmetic product</td>\n",
       "      <td>A45D34/04, A45D40/24, A45D44/00, A61K8/19, A61K8/73, A61K8/81, A61Q1/02, A61Q19/00</td>\n",
       "      <td>1. a system for dispensing a product, comprising a dispenser that receives at least two cartridges that each have a reservoir comprising a base product, a first base product comprising at least 0.1% by mass of particles exhibiting a difference in density with a medium which contains them, the pa...</td>\n",
       "    </tr>\n",
       "    <tr>\n",
       "      <th>138761</th>\n",
       "      <td>method for manufacturing a disposable single use applicator assembly with a chemical composition</td>\n",
       "      <td>A45D37/00, A45D40/00, A61K8/19, A61K8/25, A61K8/26, A61K8/34, A61K8/36, A61K8/58, A61Q1/02, B65B11/50, B65B41/16, B65B51/10, B65B57/10, B65B61/00, B65D75/30, B65H16/00, B65H20/02, B65H35/00</td>\n",
       "      <td>i claim:1. a method of manufacturing, comprising the steps of: mounting a first roll having wrapper material; dispensing said wrapper material in a first direction; splitting said wrapper material into a top sheet material and a bottom sheet material; conveying said bottom sheet material in a se...</td>\n",
       "    </tr>\n",
       "    <tr>\n",
       "      <th>148877</th>\n",
       "      <td>hair iron and method for straightening hair</td>\n",
       "      <td>A45D1/06, A45D1/28</td>\n",
       "      <td>an electric hair iron comprising at least one heating element and control means comprising a temperature sensor and a control circuit , characterised in that the control means is arranged such that power is only supplied to the heating element or elements when the temperature sensed by the senso...</td>\n",
       "    </tr>\n",
       "    <tr>\n",
       "      <th>153668</th>\n",
       "      <td>systems for custom coloration</td>\n",
       "      <td>A45D19/02, A45D44/00, A45D44/02, A61K8/02, A61K8/34, A61K8/40, A61K8/41, A61K8/46, A61K8/49, A61K8/73, A61K8/81, A61Q5/10, B01F1/00, B01F13/10, B01F15/02, G01J3/00, G01N21/47, G01N33/483</td>\n",
       "      <td>1. a method of treating keratinous fibers, the method comprising: disintegrating at least one solid formulation in a first aqueous medium, to thereby obtain an aqueous composition; and contacting said composition with the keratinous fibers for a time period suitable to treat the keratinous fiber...</td>\n",
       "    </tr>\n",
       "    <tr>\n",
       "      <th>158644</th>\n",
       "      <td>method for simulating the rendering of a make-up product on a body area</td>\n",
       "      <td>A45D44/00</td>\n",
       "      <td>1. a method (200) for simulating a rendering of a makeup product on a body area, the method being performed by a processor (11), and comprising : ∘ acquiring (210) an image of the body area without makeup of a subject, ∘ determining (230) first color parameters of the pixels of the image corresp...</td>\n",
       "    </tr>\n",
       "    <tr>\n",
       "      <th>166422</th>\n",
       "      <td>cosmetic package including a liquid reservoir</td>\n",
       "      <td>A45D34/04</td>\n",
       "      <td>the embodiments of the invention in which an exclusive property or privilege is claimed are defined as follows:1. a cosmetic formula container, comprising: a container body configured to retain a portion of a cosmetic formula within a cavity, the container body having a neck configured to receiv...</td>\n",
       "    </tr>\n",
       "    <tr>\n",
       "      <th>168759</th>\n",
       "      <td>hair straightening and styling device</td>\n",
       "      <td>A45D2/00, A45D2/44, A45D24/06</td>\n",
       "      <td>1. a device for smoothing, straightening and styling hair, comprising: a sleeve and a head, said head having a plurality of combs and a heater for smoothing the hair, wherein said plurality of combs have a pinching element, and wherein said pinching element exerts a continuous tension on the hai...</td>\n",
       "    </tr>\n",
       "    <tr>\n",
       "      <th>169482</th>\n",
       "      <td>cosmetic cleaning product</td>\n",
       "      <td>A45D34/04, A61H15/02, A61H7/00, A61K8/00, A61K8/02, A61K8/31, A61K8/37, A61K8/42, A61K8/44, A61Q19/10, A61Q5/02</td>\n",
       "      <td>that which is claimed:1. a cosmetic cleaning product, comprising: a massage applicator comprising a container body and a massage device having (a) at least one massage pin device, said pin device having at least one first surface which is configured to be in contact with the surface to be massag...</td>\n",
       "    </tr>\n",
       "    <tr>\n",
       "      <th>176252</th>\n",
       "      <td>disposable single use applicator assembly with a chemical composition</td>\n",
       "      <td>A45D37/00, A45D40/00, A45D40/26, A61K8/04, A61Q19/00</td>\n",
       "      <td>i claim:1. an assembly for storing and transporting, said assembly comprising: a wrapper having a top sheet and a bottom sheet, said top sheet being sealed to said bottom sheet so as to form a border along a perimeter of said top sheet and said bottom sheet; and an insert having a top surface an...</td>\n",
       "    </tr>\n",
       "    <tr>\n",
       "      <th>199904</th>\n",
       "      <td>method for determining a composition of pigments in a hair fiber</td>\n",
       "      <td>A45D44/00, G01J3/28, G01J3/46, G01N21/31, G01N21/359</td>\n",
       "      <td>1. a method (100) for determining a composition of pigments in a hair fiber (202), the method comprising: - exposing (110) a region (203) of the hair fiber (202) to electromagnetic radiation (215) comprising wavelengths in a visible range (310) between 400 nm and 700 nm, as well as wavelengths i...</td>\n",
       "    </tr>\n",
       "    <tr>\n",
       "      <th>202844</th>\n",
       "      <td>systems and methods for coloring hair</td>\n",
       "      <td>A45D19/00</td>\n",
       "      <td>1. a system comprising:a scanning device for measuring a color of a client's hair;a hair dye dispensing system comprising:a first input for reading the measured color from the scanning device; a processor configured to compare the measured color to a desired target hair color and develop a color...</td>\n",
       "    </tr>\n",
       "    <tr>\n",
       "      <th>208791</th>\n",
       "      <td>portable apparatus for supporting a hand held hair dryer</td>\n",
       "      <td>A45D20/12, A45D20/14, F16M11/00, F16M13/02</td>\n",
       "      <td>1. a portable hair dryer support apparatus, comprising: a hair dryer holding structure for holding a hair dryer; and at least one vertical support element connected at a first end to the hair dryer holding structure and having at a second opposed end at least one securing portion for securing th...</td>\n",
       "    </tr>\n",
       "  </tbody>\n",
       "</table>\n",
       "</div>"
      ],
      "text/plain": [
       "                                                                                                    title  \\\n",
       "3240    system for dispensing at least one makeup product and method for dispensing and evaluating makeup   \n",
       "20938                                                 automatic nail polish application system and method   \n",
       "31462                                                                          training system and device   \n",
       "38540                                                                           cosmetic cleaning product   \n",
       "53114                                            portable apparatus for supporting a hand held hair dryer   \n",
       "53136                                                          improvements in and relating to hair irons   \n",
       "61966                                                                                    complete compact   \n",
       "63517                               disposable single use applicator assembly with a chemical composition   \n",
       "69896                             method for simulating the rendering of a make-up product on a body area   \n",
       "81748                          system for targeted application of topical agents to an isolated body part   \n",
       "92758                                                          hair iron and methods of operation thereof   \n",
       "98501                                                                              hair roller and setter   \n",
       "99221                                                          hair iron and methods of operation thereof   \n",
       "129645                                                                 device for personalizing fragrance   \n",
       "134898                                                           system for dispensing a cosmetic product   \n",
       "138761   method for manufacturing a disposable single use applicator assembly with a chemical composition   \n",
       "148877                                                        hair iron and method for straightening hair   \n",
       "153668                                                                      systems for custom coloration   \n",
       "158644                            method for simulating the rendering of a make-up product on a body area   \n",
       "166422                                                      cosmetic package including a liquid reservoir   \n",
       "168759                                                              hair straightening and styling device   \n",
       "169482                                                                          cosmetic cleaning product   \n",
       "176252                              disposable single use applicator assembly with a chemical composition   \n",
       "199904                                   method for determining a composition of pigments in a hair fiber   \n",
       "202844                                                              systems and methods for coloring hair   \n",
       "208791                                           portable apparatus for supporting a hand held hair dryer   \n",
       "\n",
       "                                                                                                                                                                                          ipc_classes  \\\n",
       "3240                                                                                                                        A45D40/00, A45D40/26, A45D44/00, B01F13/10, B01F15/02, B01F5/06, G01J3/46   \n",
       "20938                                                                                                                                           A45D29/00, A45D29/11, A45D29/12, A45D29/14, A45D34/04   \n",
       "31462                                                                                                                                                        A45D1/00, G09B19/00, G09B19/24, G09B5/04   \n",
       "38540                                                                                 A45D34/04, A61H15/02, A61H7/00, A61K8/00, A61K8/02, A61K8/31, A61K8/37, A61K8/42, A61K8/44, A61Q19/10, A61Q5/02   \n",
       "53114                                                                                                                                                      A45D20/12, A45D20/14, F16M11/00, F16M13/02   \n",
       "53136                                                                                                                                                                              A45D1/06, A45D1/28   \n",
       "61966                                                                                                                                             A45D33/00, A45D33/26, A45D44/00, G01N1/22, G01N1/24   \n",
       "63517                                                                                                                                            A45D37/00, A45D40/00, A45D40/26, A61K8/04, A61Q19/00   \n",
       "69896                                                                                                                                                                                       A45D44/00   \n",
       "81748                                                                            A45D40/30, A45D44/00, A61K8/02, A61K8/368, A61P17/10, A61Q19/00, B32B38/10, B32B7/06, B33Y10/00, B33Y80/00, B44C3/02   \n",
       "92758                                                                                                                  A45D1/00, A45D1/04, A45D1/06, A45D1/28, A45D2/00, A45D7/02, H05B1/02, H05B3/02   \n",
       "98501                                                                                                                                                A45D2/12, A45D2/14, A45D2/18, A45D2/22, A45D2/36   \n",
       "99221                                                                                                                  A45D1/00, A45D1/04, A45D1/06, A45D1/28, A45D2/00, A45D7/02, H05B1/02, H05B3/02   \n",
       "129645                                                                                                                                                      A45D33/22, A45D40/00, A45D40/24, B65D6/24   \n",
       "134898                                                                                                             A45D34/04, A45D40/24, A45D44/00, A61K8/19, A61K8/73, A61K8/81, A61Q1/02, A61Q19/00   \n",
       "138761  A45D37/00, A45D40/00, A61K8/19, A61K8/25, A61K8/26, A61K8/34, A61K8/36, A61K8/58, A61Q1/02, B65B11/50, B65B41/16, B65B51/10, B65B57/10, B65B61/00, B65D75/30, B65H16/00, B65H20/02, B65H35/00   \n",
       "148877                                                                                                                                                                             A45D1/06, A45D1/28   \n",
       "153668     A45D19/02, A45D44/00, A45D44/02, A61K8/02, A61K8/34, A61K8/40, A61K8/41, A61K8/46, A61K8/49, A61K8/73, A61K8/81, A61Q5/10, B01F1/00, B01F13/10, B01F15/02, G01J3/00, G01N21/47, G01N33/483   \n",
       "158644                                                                                                                                                                                      A45D44/00   \n",
       "166422                                                                                                                                                                                      A45D34/04   \n",
       "168759                                                                                                                                                                  A45D2/00, A45D2/44, A45D24/06   \n",
       "169482                                                                                A45D34/04, A61H15/02, A61H7/00, A61K8/00, A61K8/02, A61K8/31, A61K8/37, A61K8/42, A61K8/44, A61Q19/10, A61Q5/02   \n",
       "176252                                                                                                                                           A45D37/00, A45D40/00, A45D40/26, A61K8/04, A61Q19/00   \n",
       "199904                                                                                                                                           A45D44/00, G01J3/28, G01J3/46, G01N21/31, G01N21/359   \n",
       "202844                                                                                                                                                                                      A45D19/00   \n",
       "208791                                                                                                                                                     A45D20/12, A45D20/14, F16M11/00, F16M13/02   \n",
       "\n",
       "                                                                                                                                                                                                                                                                                                             claims  \n",
       "3240    1. a system for dispensing at least one makeup product and that can be manipulated in one hand, the system comprising: a cup; and a dispenser for filling the cup from a bottom of the cup with at least two base products, wherein: the cup is secured to the dispenser at least while the cup is being...  \n",
       "20938   1. a system for automatically polishing a nail of a user including:an end-effector havinga cartridge receiving unit,a cartridge including nail polish, anda nozzle;a sensor, to generate target signals from a target location;a nail determination unit, receiving said target signals, to automaticall...  \n",
       "31462   1. a beauty product system for performing a treatment on a user, the system comprising:an input for allowing the user to specify a desired treatment to be performed; a beauty product device that is manipulate by the user to perform the desired treatment on the user; the beauty product device hav...  \n",
       "38540   1. a cosmetic cleaning product, comprising: a massage applicator comprising a container body and a massage device having (a) at least one massage pin device, said pin device having at least one first surface which is configured to be in contact with the surface to be massaged, wherein a force ca...  \n",
       "53114   1. a portable hair dryer support apparatus, comprising: a hair dryer holding structure for holding a hair dryer; at least one vertical support element pivotally and directly connected at a bottom end to the hair dryer holding structure via a hinge having an axis of rotation perpendicular to the ...  \n",
       "53136   1. an electric hair iron comprising at least one heating element and control means comprising a temperature sensor and a control circuit and wherein the control means is arranged such that power is only supplied to the heating element or elements when the temperature sensed by the sensor is at o...  \n",
       "61966   i claim:1. a method for determining aroma comprising: (a) providing at least one means of aroma sensing capable of approximately discerning the presence or absence of at least one characteristic of the aroma, (b) sampling aroma with said aroma sensing means, (c) discerning said aroma characteris...  \n",
       "63517   i claim:1. an assembly for storing and transporting, said assembly comprising: a wrapper having a top sheet and a bottom sheet, said top sheet being sealed to said bottom sheet so as to form a border along a perimeter of said top sheet and said bottom sheet; and an insert having a top surface an...  \n",
       "69896   1. a method (200) for simulating a rendering of a makeup product on a body area, the method being performed by a processor (1 1 ), and comprising :o acquiring (210) an image of the body area without makeup of a subject, o determining (230) first color parameters of the pixels of the image corres...  \n",
       "81748   1. a method for targeted application of topical agents to an isolated body part comprising the steps of: (a) capturing an image of the isolated body part; (b) transforming the image data to mathematical model of the geometry of the isolated body part; (c) forming an applicator mask having an app...  \n",
       "92758   1. an electric hair iron comprising at least one heating element and control means comprising a temperature sensor and a control circuit and wherein the control means is arranged such that power is only supplied to the at least one heating element when the temperature sensed by the sensor is at ...  \n",
       "98501   1. a hair roller for shaping human hair, said roller comprising: a generally elongated, flexible inner core having a first modulus of elasticity; a generally elongated, flexible outer layer surrounding said inner core and having a second modulus of elasticity that is greater than said first modu...  \n",
       "99221   1. an electric hair iron comprising at least one heating element and control means comprising a temperature sensor and a control circuit and wherein the control means is arranged such that power is only supplied to the at least one heating element when the temperature sensed by the sensor is at ...  \n",
       "129645  1. a device, comprising: a first module comprising a first container having a first hemispherical cap and a first attacher, the first module further comprising a first modular cap that receives the first hemispherical cap; a first fragrance formulation contained by the first container, when the ...  \n",
       "134898  1. a system for dispensing a product, comprising a dispenser that receives at least two cartridges that each have a reservoir comprising a base product, a first base product comprising at least 0.1% by mass of particles exhibiting a difference in density with a medium which contains them, the pa...  \n",
       "138761  i claim:1. a method of manufacturing, comprising the steps of: mounting a first roll having wrapper material; dispensing said wrapper material in a first direction; splitting said wrapper material into a top sheet material and a bottom sheet material; conveying said bottom sheet material in a se...  \n",
       "148877  an electric hair iron comprising at least one heating element and control means comprising a temperature sensor and a control circuit , characterised in that the control means is arranged such that power is only supplied to the heating element or elements when the temperature sensed by the senso...  \n",
       "153668  1. a method of treating keratinous fibers, the method comprising: disintegrating at least one solid formulation in a first aqueous medium, to thereby obtain an aqueous composition; and contacting said composition with the keratinous fibers for a time period suitable to treat the keratinous fiber...  \n",
       "158644  1. a method (200) for simulating a rendering of a makeup product on a body area, the method being performed by a processor (11), and comprising : ∘ acquiring (210) an image of the body area without makeup of a subject, ∘ determining (230) first color parameters of the pixels of the image corresp...  \n",
       "166422  the embodiments of the invention in which an exclusive property or privilege is claimed are defined as follows:1. a cosmetic formula container, comprising: a container body configured to retain a portion of a cosmetic formula within a cavity, the container body having a neck configured to receiv...  \n",
       "168759  1. a device for smoothing, straightening and styling hair, comprising: a sleeve and a head, said head having a plurality of combs and a heater for smoothing the hair, wherein said plurality of combs have a pinching element, and wherein said pinching element exerts a continuous tension on the hai...  \n",
       "169482  that which is claimed:1. a cosmetic cleaning product, comprising: a massage applicator comprising a container body and a massage device having (a) at least one massage pin device, said pin device having at least one first surface which is configured to be in contact with the surface to be massag...  \n",
       "176252  i claim:1. an assembly for storing and transporting, said assembly comprising: a wrapper having a top sheet and a bottom sheet, said top sheet being sealed to said bottom sheet so as to form a border along a perimeter of said top sheet and said bottom sheet; and an insert having a top surface an...  \n",
       "199904  1. a method (100) for determining a composition of pigments in a hair fiber (202), the method comprising: - exposing (110) a region (203) of the hair fiber (202) to electromagnetic radiation (215) comprising wavelengths in a visible range (310) between 400 nm and 700 nm, as well as wavelengths i...  \n",
       "202844  1. a system comprising:a scanning device for measuring a color of a client's hair;a hair dye dispensing system comprising:a first input for reading the measured color from the scanning device; a processor configured to compare the measured color to a desired target hair color and develop a color...  \n",
       "208791  1. a portable hair dryer support apparatus, comprising: a hair dryer holding structure for holding a hair dryer; and at least one vertical support element connected at a first end to the hair dryer holding structure and having at a second opposed end at least one securing portion for securing th...  "
      ]
     },
     "execution_count": 10,
     "metadata": {},
     "output_type": "execute_result"
    }
   ],
   "source": [
    "df_candidate = df[(df.ipc_classes.str.count(\"(^| )A45D\")>0)\n",
    "                 & (df.ipc_classes.str.count(\"(^| )G06\")==0) #Escludo \"COMPUTING; CALCULATING; COUNTING\"\n",
    "                  & (df.ipc_classes.str.count(\"(^| )A61B5\")==0) #\tMeasuring for diagnostic purposes\n",
    "                 ]\n",
    "df_candidate[[\"title\", \"ipc_classes\",\"claims\"]] "
   ]
  },
  {
   "cell_type": "code",
   "execution_count": 11,
   "id": "ce0d0756",
   "metadata": {},
   "outputs": [
    {
     "data": {
      "text/plain": [
       "26"
      ]
     },
     "execution_count": 11,
     "metadata": {},
     "output_type": "execute_result"
    }
   ],
   "source": [
    "df_selected = pd.concat([df_selected, df_candidate])\n",
    "\n",
    "len(df_selected)"
   ]
  },
  {
   "cell_type": "markdown",
   "id": "c8d65159",
   "metadata": {},
   "source": [
    "##### IPC C11B9/00 (riportato nelle slide come C11B/009)"
   ]
  },
  {
   "cell_type": "code",
   "execution_count": null,
   "id": "65254da2",
   "metadata": {},
   "outputs": [],
   "source": []
  },
  {
   "cell_type": "code",
   "execution_count": 12,
   "id": "bc1f1c2d",
   "metadata": {},
   "outputs": [
    {
     "data": {
      "text/html": [
       "<div>\n",
       "<style scoped>\n",
       "    .dataframe tbody tr th:only-of-type {\n",
       "        vertical-align: middle;\n",
       "    }\n",
       "\n",
       "    .dataframe tbody tr th {\n",
       "        vertical-align: top;\n",
       "    }\n",
       "\n",
       "    .dataframe thead th {\n",
       "        text-align: right;\n",
       "    }\n",
       "</style>\n",
       "<table border=\"1\" class=\"dataframe\">\n",
       "  <thead>\n",
       "    <tr style=\"text-align: right;\">\n",
       "      <th></th>\n",
       "      <th>title</th>\n",
       "      <th>ipc_classes</th>\n",
       "      <th>claims</th>\n",
       "    </tr>\n",
       "  </thead>\n",
       "  <tbody>\n",
       "    <tr>\n",
       "      <th>5337</th>\n",
       "      <td>method of making perfumed goods</td>\n",
       "      <td>C11B9/00, C11D3/50</td>\n",
       "      <td>1. a method comprising: a.) using an odt value determined by mathematical modelling to select one or more perfume raw materials; b.) combining and/or processing said one or more perfume raw materials with one or more additional materials to form a product.2. the method of claim 1, wherein said p...</td>\n",
       "    </tr>\n",
       "    <tr>\n",
       "      <th>135822</th>\n",
       "      <td>method of resolving allergens in perfume ingredients</td>\n",
       "      <td>B01J20/26, B01J20/281, C11B9/00, G01N30/46, G01N30/86, G16C20/20</td>\n",
       "      <td>1. a method of resolving defined known or suspected allergens in a complex mixture of perfume ingredients using two-dimensional gas chromatography (2d-gc), wherein the combination of first and second stationary phases is selected on the basis of a clustering analysis of defined known or suspecte...</td>\n",
       "    </tr>\n",
       "    <tr>\n",
       "      <th>174990</th>\n",
       "      <td>method of making perfumed goods</td>\n",
       "      <td>A61L9/01, A61Q19/00, C11B9/00, C11D3/22, C11D3/50</td>\n",
       "      <td>what is claimed is:1. a method comprising:a.) using a malodour reduction value determined by mathematical modelling toselect one or more perfume raw materials;b.) combining and/or processing said one or more perfume raw materials with one or more additional materials to form a product. 2. the me...</td>\n",
       "    </tr>\n",
       "    <tr>\n",
       "      <th>210149</th>\n",
       "      <td>methods for identifying, compounds identified and compositions thereof</td>\n",
       "      <td>A23L27/00, C11B9/00</td>\n",
       "      <td>1. a flavor/fragrance composition, comprising an effective amount of one or more compounds selected from tables 1-42.2. the flavor/fragrance composition of claim 1, wherein the composition is formulated as a spray, lotion, foam, gel, suspension, or emulsion.3. the flavor/fragrance composition of...</td>\n",
       "    </tr>\n",
       "  </tbody>\n",
       "</table>\n",
       "</div>"
      ],
      "text/plain": [
       "                                                                         title  \\\n",
       "5337                                           method of making perfumed goods   \n",
       "135822                    method of resolving allergens in perfume ingredients   \n",
       "174990                                         method of making perfumed goods   \n",
       "210149  methods for identifying, compounds identified and compositions thereof   \n",
       "\n",
       "                                                             ipc_classes  \\\n",
       "5337                                                  C11B9/00, C11D3/50   \n",
       "135822  B01J20/26, B01J20/281, C11B9/00, G01N30/46, G01N30/86, G16C20/20   \n",
       "174990                 A61L9/01, A61Q19/00, C11B9/00, C11D3/22, C11D3/50   \n",
       "210149                                               A23L27/00, C11B9/00   \n",
       "\n",
       "                                                                                                                                                                                                                                                                                                             claims  \n",
       "5337    1. a method comprising: a.) using an odt value determined by mathematical modelling to select one or more perfume raw materials; b.) combining and/or processing said one or more perfume raw materials with one or more additional materials to form a product.2. the method of claim 1, wherein said p...  \n",
       "135822  1. a method of resolving defined known or suspected allergens in a complex mixture of perfume ingredients using two-dimensional gas chromatography (2d-gc), wherein the combination of first and second stationary phases is selected on the basis of a clustering analysis of defined known or suspecte...  \n",
       "174990  what is claimed is:1. a method comprising:a.) using a malodour reduction value determined by mathematical modelling toselect one or more perfume raw materials;b.) combining and/or processing said one or more perfume raw materials with one or more additional materials to form a product. 2. the me...  \n",
       "210149  1. a flavor/fragrance composition, comprising an effective amount of one or more compounds selected from tables 1-42.2. the flavor/fragrance composition of claim 1, wherein the composition is formulated as a spray, lotion, foam, gel, suspension, or emulsion.3. the flavor/fragrance composition of...  "
      ]
     },
     "execution_count": 12,
     "metadata": {},
     "output_type": "execute_result"
    }
   ],
   "source": [
    "df_candidate = df[(df.ipc_classes.str.count(\"(^| )C11B9/00\")>0)\n",
    "                 & (df.ipc_classes.str.count(\"G06\")==0) #Escludo \"COMPUTING; CALCULATING; COUNTING\"\n",
    "                 ]\n",
    "df_candidate[[\"title\", \"ipc_classes\",\"claims\"]] "
   ]
  },
  {
   "cell_type": "code",
   "execution_count": 13,
   "id": "84d89b16",
   "metadata": {},
   "outputs": [
    {
     "data": {
      "text/plain": [
       "30"
      ]
     },
     "execution_count": 13,
     "metadata": {},
     "output_type": "execute_result"
    }
   ],
   "source": [
    "df_selected = pd.concat([df_selected, df_candidate])\n",
    "\n",
    "len(df_selected)"
   ]
  },
  {
   "cell_type": "code",
   "execution_count": null,
   "id": "d8d07f06",
   "metadata": {},
   "outputs": [],
   "source": []
  },
  {
   "cell_type": "code",
   "execution_count": null,
   "id": "4ddbbcb0",
   "metadata": {},
   "outputs": [],
   "source": []
  },
  {
   "cell_type": "code",
   "execution_count": null,
   "id": "160bc4db",
   "metadata": {},
   "outputs": [],
   "source": []
  },
  {
   "cell_type": "markdown",
   "id": "b1c40ed6",
   "metadata": {},
   "source": [
    "## Analisi Per keyword\n",
    "#### Vedi slides Ing. Ghironi"
   ]
  },
  {
   "cell_type": "code",
   "execution_count": null,
   "id": "b60bd7e7",
   "metadata": {},
   "outputs": [
    {
     "data": {
      "application/vnd.jupyter.widget-view+json": {
       "model_id": "10da735c51b84c0d9b603b3d64025f7b",
       "version_major": 2,
       "version_minor": 0
      },
      "text/plain": [
       "  0%|          | 0/32 [00:00<?, ?it/s]"
      ]
     },
     "metadata": {},
     "output_type": "display_data"
    }
   ],
   "source": [
    "for key in tqdm(keywords_cosmetics):\n",
    "    df[key] = df.title.str.count(key).fillna(0) + df.abstract.str.count(key).fillna(0) + df.claims.str.count(key).fillna(0)\n",
    "    \n",
    "for key in tqdm(keywords_other):\n",
    "    df[key] = df.title.str.count(key).fillna(0) #+ df.abstract.str.count(key).fillna(0) + df.claims.str.count(key).fillna(0)"
   ]
  },
  {
   "cell_type": "code",
   "execution_count": null,
   "id": "3e93db2b",
   "metadata": {},
   "outputs": [],
   "source": [
    "df[\"total_cosmetics\"] = 0\n",
    "for key in keywords_cosmetics:\n",
    "    if key == \"body\" or key == \"lip(s)?\": continue\n",
    "    df[\"total_cosmetics\"] += df[key]\n",
    "    \n",
    "df[\"total_other\"] = 0\n",
    "for key in keywords_other:\n",
    "    df[\"total_other\"] += df[key]"
   ]
  },
  {
   "cell_type": "code",
   "execution_count": null,
   "id": "529b0658",
   "metadata": {},
   "outputs": [],
   "source": [
    "keywords_cosmetics"
   ]
  },
  {
   "cell_type": "markdown",
   "id": "a2c8676c",
   "metadata": {},
   "source": [
    "##### cosmetic"
   ]
  },
  {
   "cell_type": "code",
   "execution_count": null,
   "id": "81667e1b",
   "metadata": {},
   "outputs": [],
   "source": [
    "keyword = keywords_cosmetics[0]\n",
    "keyword"
   ]
  },
  {
   "cell_type": "code",
   "execution_count": null,
   "id": "ac3b20a7",
   "metadata": {},
   "outputs": [],
   "source": [
    "df[df[keyword] > 0][[\"title\", \"ipc_classes\",\"abstract\", \"claims\"]]"
   ]
  },
  {
   "cell_type": "code",
   "execution_count": null,
   "id": "c8e2f652",
   "metadata": {},
   "outputs": [],
   "source": [
    "#escludiamo tutti i sistemi per \"raccomandare un prodotto\"\n",
    "\n",
    "df_candidate = df[(df[keyword] > 0) \n",
    "                  & (df.ipc_classes.str.count(\"G06\")==0) #Escludo \"COMPUTING; CALCULATING; COUNTING\"\n",
    "                  & (df.ipc_classes.str.count(\"G01\")==0) #Escludo \"MEASURING; TESTING\"\n",
    "                  & (df.ipc_classes.str.count(\"A61\")==0) #MEDICAL OR VETERINARY SCIENCE; HYGIENE\n",
    "                  & (df.ipc_classes.str.count(\"A01N\")==0) #SOIL WORKING IN AGRICULTURE OR FORESTRY; PARTS, DETAILS, OR ACCESSORIES OF AGRICULTURAL MACHINES OR IMPLEMENTS, IN GENERAL\n",
    "                  & (df.ipc_classes.str.count(\"(^| )A\")>0)].query(\"title not in @df_selected\")\n",
    "\n",
    "df_candidate[[\"filename\", \"title\", \"ipc_classes\",\"claims\"]] "
   ]
  },
  {
   "cell_type": "code",
   "execution_count": null,
   "id": "fb4299c4",
   "metadata": {},
   "outputs": [],
   "source": [
    "df_selected = pd.concat([df_selected, df_candidate])\n",
    "len(df_selected)"
   ]
  },
  {
   "cell_type": "markdown",
   "id": "508ded9e",
   "metadata": {},
   "source": [
    "##### beauty"
   ]
  },
  {
   "cell_type": "code",
   "execution_count": null,
   "id": "050bc6bd",
   "metadata": {},
   "outputs": [],
   "source": [
    "keyword = keywords_cosmetics[1]\n",
    "keyword"
   ]
  },
  {
   "cell_type": "code",
   "execution_count": null,
   "id": "9d7e43d4",
   "metadata": {},
   "outputs": [],
   "source": [
    "df_candidate = df[(df[keyword] > 0)\n",
    "                  & (df.ipc_classes.str.count(\"G06\")==0) #Escludo \"COMPUTING; CALCULATING; COUNTING\"\n",
    "                  & (df.ipc_classes.str.count(\"G01\")==0) #Escludo \"MEASURING; TESTING\"\n",
    "                  & (df.ipc_classes.str.count(\"A61\")==0) #MEDICAL OR VETERINARY SCIENCE; HYGIENE\n",
    "                  & (df.ipc_classes.str.count(\"C12Q\")==0) #MEASURING OR TESTING PROCESSES INVOLVING ENZYMES, NUCLEIC ACIDS ...\n",
    "                  & (df.ipc_classes.str.count(\"H04\")==0) #ELECTRIC COMMUNICATION TECHNIQUE\n",
    "                 ].query(\"title not in @df_selected\")\n",
    "\n",
    "df_candidate[[\"filename\", \"title\", \"ipc_classes\",\"abstract\", \"claims\"]]"
   ]
  },
  {
   "cell_type": "code",
   "execution_count": null,
   "id": "d29d6fff",
   "metadata": {},
   "outputs": [],
   "source": [
    "df_selected = pd.concat([df_selected, df_candidate])\n",
    "len(df_selected)"
   ]
  },
  {
   "cell_type": "markdown",
   "id": "880f2736",
   "metadata": {},
   "source": [
    "##### body (troppo rumore)"
   ]
  },
  {
   "cell_type": "code",
   "execution_count": null,
   "id": "00e77ba8",
   "metadata": {},
   "outputs": [],
   "source": [
    "keyword = keywords_cosmetics[2]\n",
    "keyword"
   ]
  },
  {
   "cell_type": "code",
   "execution_count": null,
   "id": "6460dc19",
   "metadata": {},
   "outputs": [],
   "source": [
    "df_candidate = df[(df[keyword] > 0)\n",
    "                  & (df.ipc_classes.str.count(\"G06\")==0) #Escludo \"COMPUTING; CALCULATING; COUNTING\"\n",
    "                  & (df.ipc_classes.str.count(\"G01\")==0) #Escludo \"MEASURING; TESTING\"\n",
    "                  & (df.ipc_classes.str.count(\"A61\")==0) #MEDICAL OR VETERINARY SCIENCE; HYGIENE\n",
    "                  & (df.ipc_classes.str.count(\"A63H\")==0) #TOYS, e.g. TOPS, DOLLS, HOOPS OR BUILDING BLOCKS\n",
    "                  & (df.ipc_classes.str.count(\"G09\")==0) #EDUCATION; CRYPTOGRAPHY; DISPLAY; ADVERTISING; SEALS\n",
    "                  & (df.ipc_classes.str.count(\"G10\")==0) #MUSICAL INSTRUMENTS; ACOUSTICS\n",
    "                  & (df.ipc_classes.str.count(\"(^| )A\")>0)\n",
    "                  ].query(\"title not in @df_selected\")[[\"title\", \"ipc_classes\",\"abstract\", \"claims\"]]\n",
    "\n",
    "df_candidate"
   ]
  },
  {
   "cell_type": "markdown",
   "id": "30a8e324",
   "metadata": {},
   "source": [
    "##### skin (da provare combinazioni)"
   ]
  },
  {
   "cell_type": "code",
   "execution_count": null,
   "id": "5a560063",
   "metadata": {},
   "outputs": [],
   "source": [
    "keyword = keywords_cosmetics[3]\n",
    "keyword"
   ]
  },
  {
   "cell_type": "code",
   "execution_count": null,
   "id": "79da2416",
   "metadata": {},
   "outputs": [],
   "source": [
    "df_candidate = df[(df[keyword] > 0)\n",
    "                  & (df.ipc_classes.str.count(\"G06\")==0) #Escludo \"COMPUTING; CALCULATING; COUNTING\"\n",
    "                  & (df.ipc_classes.str.count(\"G01\")==0) #Escludo \"MEASURING; TESTING\"\n",
    "                  & (df.ipc_classes.str.count(\"A61\")==0) #MEDICAL OR VETERINARY SCIENCE; HYGIENE\n",
    "                  & (df.ipc_classes.str.count(\"G09\")==0) #EDUCATION; CRYPTOGRAPHY; DISPLAY; ADVERTISING; SEALS\n",
    "                  & (df.ipc_classes.str.count(\"(^| )A\")>0)\n",
    "                 ].query(\"title not in @df_selected\")\n",
    "\n",
    "df_candidate[[\"title\", \"ipc_classes\",\"abstract\", \"claims\"]]"
   ]
  },
  {
   "cell_type": "code",
   "execution_count": null,
   "id": "a9531700",
   "metadata": {},
   "outputs": [],
   "source": [
    "df_selected = pd.concat([df_selected, df[df.title == \"personal care device with camera\"]])\n",
    "len(df_selected)"
   ]
  },
  {
   "cell_type": "markdown",
   "id": "cc88521a",
   "metadata": {},
   "source": [
    "##### skin (da provare combinazioni)"
   ]
  },
  {
   "cell_type": "code",
   "execution_count": null,
   "id": "dfaf209c",
   "metadata": {},
   "outputs": [],
   "source": [
    "keyword = keywords_cosmetics[4]\n",
    "keyword"
   ]
  },
  {
   "cell_type": "code",
   "execution_count": null,
   "id": "24baa185",
   "metadata": {},
   "outputs": [],
   "source": [
    "df_candidate = df[(df[keyword] > 0)\n",
    "                  & (df.ipc_classes.str.count(\"G06\")==0) #Escludo \"COMPUTING; CALCULATING; COUNTING\"\n",
    "                  & (df.ipc_classes.str.count(\"G01\")==0) #Escludo \"MEASURING; TESTING\"\n",
    "                  & (df.ipc_classes.str.count(\"A61\")==0) #MEDICAL OR VETERINARY SCIENCE; HYGIENE\n",
    "                  & (df.ipc_classes.str.count(\"G16\")==0)#NFORMATION AND COMMUNICATION TECHNOLOGY [ICT] SPECIALLY ADAPTED FOR SPECIFIC APPLICATION FIELDS\n",
    "                  & (df.ipc_classes.str.count(\"G08\")==0)#SIGNALLING\n",
    "                  & (df.ipc_classes.str.count(\"G09\")==0)#EDUCATION; CRYPTOGRAPHY; DISPLAY; ADVERTISING; SEALS\n",
    "                  & (df.ipc_classes.str.count(\"H04\")==0)#LECTRIC COMMUNICATION TECHNIQUE\n",
    "                 ].query(\"title not in @df_selected\")\n",
    "\n",
    "df_candidate[[\"title\", \"ipc_classes\",\"abstract\", \"claims\"]]"
   ]
  },
  {
   "cell_type": "code",
   "execution_count": null,
   "id": "6fae2807",
   "metadata": {},
   "outputs": [],
   "source": [
    "df_selected = pd.concat([df_selected, df[df.title == \"automatic nail polish application system and method\"]]) \n",
    "len(df_selected)"
   ]
  },
  {
   "cell_type": "markdown",
   "id": "30098bcc",
   "metadata": {},
   "source": [
    "##### fingernail"
   ]
  },
  {
   "cell_type": "code",
   "execution_count": null,
   "id": "f53464b0",
   "metadata": {},
   "outputs": [],
   "source": [
    "keyword = keywords_cosmetics[5]\n",
    "keyword"
   ]
  },
  {
   "cell_type": "code",
   "execution_count": null,
   "id": "fc73094a",
   "metadata": {
    "scrolled": false
   },
   "outputs": [],
   "source": [
    "df_candidate = df[(df[keyword] > 0)\n",
    "                  \n",
    "                 \n",
    "                   & (df.ipc_classes.str.count(\"G06\")==0) #Escludo \"COMPUTING; CALCULATING; COUNTING\"\n",
    "                   & (df.ipc_classes.str.count(\"A01\")==0) #Escludo \"COMPUTING; CALCULATING; COUNTING\"\n",
    "                  & (df.ipc_classes.str.count(\"A61\")==0) #Escludo \"COMPUTING; CALCULATING; COUNTING\"\n",
    "                  \n",
    "                  \n",
    "                   \n",
    "                  \n",
    "                  \n",
    "                 ].query(\"title not in @df_selected\")\n",
    "\n",
    "\n",
    "df_candidate[[\"title\", \"ipc_classes\",\"abstract\", \"claims\"]] #Contiene solo metodi relativi al miglioramento dei dispositivi touch"
   ]
  },
  {
   "cell_type": "code",
   "execution_count": null,
   "id": "1d76fe87",
   "metadata": {},
   "outputs": [],
   "source": [
    "df_selected = pd.concat([df_selected, df_candidate])\n",
    "\n",
    "len(df_selected)"
   ]
  },
  {
   "cell_type": "markdown",
   "id": "e5962412",
   "metadata": {},
   "source": [
    "##### cleans(e|ing)"
   ]
  },
  {
   "cell_type": "code",
   "execution_count": null,
   "id": "41e8e6ae",
   "metadata": {},
   "outputs": [],
   "source": [
    "keyword = keywords_cosmetics[6]\n",
    "keyword"
   ]
  },
  {
   "cell_type": "code",
   "execution_count": null,
   "id": "ede7c144",
   "metadata": {
    "scrolled": false
   },
   "outputs": [],
   "source": [
    "df_candidate = df[(df[keyword] > 0)\n",
    "                  & (df.ipc_classes.str.count(\"G06\")==0) #Escludo \"COMPUTING; CALCULATING; COUNTING\"\n",
    "                  & (df.ipc_classes.str.count(\"G01\")==0) #Escludo \"MEASURING; TESTING\"\n",
    "                  & (df.ipc_classes.str.count(\"A61\")==0) #MEDICAL OR VETERINARY SCIENCE; HYGIENE\n",
    "                  & (df.ipc_classes.str.count(\"G16\")==0)#NFORMATION AND COMMUNICATION TECHNOLOGY [ICT] SPECIALLY ADAPTED FOR SPECIFIC APPLICATION FIELDS\n",
    "                  & (df.ipc_classes.str.count(\"G08\")==0)#SIGNALLING\n",
    "                  & (df.ipc_classes.str.count(\"G09\")==0)#EDUCATION; CRYPTOGRAPHY; DISPLAY; ADVERTISING; SEALS\n",
    "                  & (df.ipc_classes.str.count(\"H04\")==0)#LECTRIC COMMUNICATION TECHNIQUE\n",
    "                  & (df.ipc_classes.str.count(\"G05\")==0) #Escludo \"COMPUTING; CALCULATING; COUNTING\"\n",
    "                   & (df.ipc_classes.str.count(\"A62\")==0) #Escludo \"COMPUTING; CALCULATING; COUNTING\"\n",
    "                   & (df.ipc_classes.str.count(\"E21\")==0) #Escludo \"COMPUTING; CALCULATING; COUNTING\"\n",
    "                   & (df.ipc_classes.str.count(\"B66\")==0) #Escludo \"COMPUTING; CALCULATING; COUNTING\"\n",
    "                   & (df.ipc_classes.str.count(\"A46\")==0) #Escludo \"COMPUTING; CALCULATING; COUNTING\"\n",
    "                  & (df.ipc_classes.str.count(\"B01\")==0) #Escludo \"COMPUTING; CALCULATING; COUNTING\"\n",
    "                  \n",
    "                  \n",
    "                  \n",
    "                  \n",
    "                  \n",
    "                  \n",
    "                 ].query(\"title not in @df_selected\")\n",
    "\n",
    "df_candidate[[\"title\", \"ipc_classes\",\"abstract\", \"claims\"]]"
   ]
  },
  {
   "cell_type": "code",
   "execution_count": null,
   "id": "bdd7dc04",
   "metadata": {},
   "outputs": [],
   "source": [
    "df_selected = pd.concat([df_selected, df_candidate])\n",
    "\n",
    "len(df_selected)"
   ]
  },
  {
   "cell_type": "markdown",
   "id": "33bb07eb",
   "metadata": {},
   "source": [
    "##### manicur(e|ing)"
   ]
  },
  {
   "cell_type": "code",
   "execution_count": null,
   "id": "9d1ac6c4",
   "metadata": {},
   "outputs": [],
   "source": [
    "keyword = keywords_cosmetics[7]\n",
    "keyword"
   ]
  },
  {
   "cell_type": "code",
   "execution_count": null,
   "id": "8c18942a",
   "metadata": {},
   "outputs": [],
   "source": [
    "df_candidate = df[(df[keyword] > 0)].query(\"title not in @df_selected\")\n",
    "\n",
    "df_candidate[[\"title\", \"ipc_classes\",\"abstract\", \"claims\"]]"
   ]
  },
  {
   "cell_type": "code",
   "execution_count": null,
   "id": "ffdac721",
   "metadata": {},
   "outputs": [],
   "source": [
    "df_selected = pd.concat([df_selected, df_candidate])\n",
    "\n",
    "len(df_selected)"
   ]
  },
  {
   "cell_type": "markdown",
   "id": "18f29ee0",
   "metadata": {},
   "source": [
    "##### pedicur(e|ing)"
   ]
  },
  {
   "cell_type": "code",
   "execution_count": null,
   "id": "3bc0ccba",
   "metadata": {},
   "outputs": [],
   "source": [
    "keyword = keywords_cosmetics[8]\n",
    "keyword"
   ]
  },
  {
   "cell_type": "code",
   "execution_count": null,
   "id": "4805ea7f",
   "metadata": {},
   "outputs": [],
   "source": [
    "df_candidate = df[(df[keyword] > 0)].query(\"title not in @df_selected\")\n",
    "\n",
    "df_candidate[[\"title\", \"ipc_classes\",\"abstract\", \"claims\"]]"
   ]
  },
  {
   "cell_type": "code",
   "execution_count": null,
   "id": "a3153a21",
   "metadata": {},
   "outputs": [],
   "source": []
  },
  {
   "cell_type": "code",
   "execution_count": null,
   "id": "41201776",
   "metadata": {},
   "outputs": [],
   "source": [
    "keyword = keywords_cosmetics[11]\n",
    "keyword"
   ]
  },
  {
   "cell_type": "code",
   "execution_count": null,
   "id": "3517b64f",
   "metadata": {
    "scrolled": true
   },
   "outputs": [],
   "source": [
    "df_candidate = df[(df[keyword] > 0)\n",
    "                  & (df.ipc_classes.str.count(\"G06\")==0) #Escludo \"COMPUTING; CALCULATING; COUNTING\"\n",
    "                  \n",
    "                 ].query(\"title not in @df_selected\")\n",
    "                 \n",
    "    \n",
    "\n",
    "df_candidate[[\"title\", \"ipc_classes\",\"abstract\", \"claims\"]]"
   ]
  },
  {
   "cell_type": "code",
   "execution_count": null,
   "id": "ad86e793",
   "metadata": {},
   "outputs": [],
   "source": [
    "df_selected = pd.concat([df_selected, df_candidate])\n",
    "len(df_selected)"
   ]
  },
  {
   "cell_type": "code",
   "execution_count": null,
   "id": "d0efa4db",
   "metadata": {},
   "outputs": [],
   "source": [
    "keyword = keywords_cosmetics[12]\n",
    "keyword"
   ]
  },
  {
   "cell_type": "code",
   "execution_count": null,
   "id": "807ad5f8",
   "metadata": {
    "scrolled": false
   },
   "outputs": [],
   "source": [
    "df_candidate = df[(df[keyword] > 0)\n",
    "                  & (df.ipc_classes.str.count(\"G09\")==0) #Escludo \"COMPUTING; CALCULATING; COUNTING\"\n",
    "                   & (df.ipc_classes.str.count(\"C12\")==0) #Escludo \"COMPUTING; CALCULATING; COUNTING\"\n",
    "                   & (df.ipc_classes.str.count(\"G01\")==0) #Escludo \"COMPUTING; CALCULATING; COUNTING\"\n",
    "                   & (df.ipc_classes.str.count(\"G06\")==0) #Escludo \"COMPUTING; CALCULATING; COUNTING\"\n",
    "                    & (df.ipc_classes.str.count(\"G01\")==0) #Escludo \"COMPUTING; CALCULATING; COUNTING\"\n",
    "                    & (df.ipc_classes.str.count(\"A06\")==0) #Escludo \"COMPUTING; CALCULATING; COUNTING\"\n",
    "                    & (df.ipc_classes.str.count(\"A61\")==0) #Escludo \"COMPUTING; CALCULATING; COUNTING\"\n",
    "                    & (df.ipc_classes.str.count(\"A01\")==0) #Escludo \"COMPUTING; CALCULATING; COUNTING\"\n",
    "                   & (df.ipc_classes.str.count(\"G06\")==0) #Escludo \"COMPUTING; CALCULATING; COUNTING\"\n",
    "                  & (df.ipc_classes.str.count(\"C02\")==0) #Escludo \"COMPUTING; CALCULATING; COUNTING\"\n",
    "                  & (df.ipc_classes.str.count(\"F02\")==0) #Escludo \"COMPUTING; CALCULATING; COUNTING\"\n",
    "                  & (df.ipc_classes.str.count(\"B25\")==0) #Escludo \"COMPUTING; CALCULATING; COUNTING\"\n",
    "                  & (df.ipc_classes.str.count(\"A61\")==0) #Escludo \"COMPUTING; CALCULATING; COUNTING\"\n",
    "                  & (df.ipc_classes.str.count(\"E21\")==0) #Escludo \"COMPUTING; CALCULATING; COUNTING\"\n",
    "                  & (df.ipc_classes.str.count(\"A01\")==0) #Escludo \"COMPUTING; CALCULATING; COUNTING\"\n",
    "                  & (df.ipc_classes.str.count(\"G16\")==0) #Escludo \"COMPUTING; CALCULATING; COUNTING\"\n",
    "                  & (df.ipc_classes.str.count(\"G10\")==0) #Escludo \"COMPUTING; CALCULATING; COUNTING\"\n",
    "                  & (df.ipc_classes.str.count(\"F24\")==0) #Escludo \"COMPUTING; CALCULATING; COUNTING\"\n",
    "                  & (df.ipc_classes.str.count(\"G01\")==0) #Escludo \"COMPUTING; CALCULATING; COUNTING\"\n",
    "                  & (df.ipc_classes.str.count(\"H04\")==0) #Escludo \"COMPUTING; CALCULATING; COUNTING\"\n",
    "                  & (df.ipc_classes.str.count(\"F16\")==0) #Escludo \"COMPUTING; CALCULATING; COUNTING\"\n",
    "                  & (df.ipc_classes.str.count(\"G03\")==0) #Escludo \"COMPUTING; CALCULATING; COUNTING\"\n",
    "                  & (df.ipc_classes.str.count(\"C40\")==0) #Escludo \"COMPUTING; CALCULATING; COUNTING\"\n",
    "                  & (df.ipc_classes.str.count(\"G05\")==0) #Escludo \"COMPUTING; CALCULATING; COUNTING\"\n",
    "                   & (df.ipc_classes.str.count(\"A62\")==0) #Escludo \"COMPUTING; CALCULATING; COUNTING\"\n",
    "                   & (df.ipc_classes.str.count(\"G06\")==0) #Escludo \"COMPUTING; CALCULATING; COUNTING\"\n",
    "                  & (df.ipc_classes.str.count(\"C02\")==0) #Escludo \"COMPUTING; CALCULATING; COUNTING\"\n",
    "                  & (df.ipc_classes.str.count(\"F02\")==0) #Escludo \"COMPUTING; CALCULATING; COUNTING\"\n",
    "                  & (df.ipc_classes.str.count(\"B25\")==0) #Escludo \"COMPUTING; CALCULATING; COUNTING\"\n",
    "                  & (df.ipc_classes.str.count(\"A61\")==0) #Escludo \"COMPUTING; CALCULATING; COUNTING\"\n",
    "                  & (df.ipc_classes.str.count(\"E21\")==0) #Escludo \"COMPUTING; CALCULATING; COUNTING\"\n",
    "                  & (df.ipc_classes.str.count(\"A01\")==0) #Escludo \"COMPUTING; CALCULATING; COUNTING\"\n",
    "                  & (df.ipc_classes.str.count(\"G16\")==0) #Escludo \"COMPUTING; CALCULATING; COUNTING\"\n",
    "                  & (df.ipc_classes.str.count(\"G10\")==0) #Escludo \"COMPUTING; CALCULATING; COUNTING\"\n",
    "                  & (df.ipc_classes.str.count(\"F24\")==0) #Escludo \"COMPUTING; CALCULATING; COUNTING\"\n",
    "                  & (df.ipc_classes.str.count(\"G01\")==0) #Escludo \"COMPUTING; CALCULATING; COUNTING\"\n",
    "                  & (df.ipc_classes.str.count(\"H04\")==0) #Escludo \"COMPUTING; CALCULATING; COUNTING\"\n",
    "                  & (df.ipc_classes.str.count(\"F16\")==0) #Escludo \"COMPUTING; CALCULATING; COUNTING\"\n",
    "                  & (df.ipc_classes.str.count(\"G03\")==0) #Escludo \"COMPUTING; CALCULATING; COUNTING\"\n",
    "                  & (df.ipc_classes.str.count(\"C40\")==0) #Escludo \"COMPUTING; CALCULATING; COUNTING\"\n",
    "                  & (df.ipc_classes.str.count(\"G05\")==0) #Escludo \"COMPUTING; CALCULATING; COUNTING\"\n",
    "                   & (df.ipc_classes.str.count(\"A62\")==0) #Escludo \"COMPUTING; CALCULATING; COUNTING\"\n",
    "                  & (df.ipc_classes.str.count(\"G08\")==0) #Escludo \"COMPUTING; CALCULATING; COUNTING\"\n",
    "                  & (df.ipc_classes.str.count(\"A47\")==0) #Escludo \"COMPUTING; CALCULATING; COUNTING\"\n",
    "                  & (df.ipc_classes.str.count(\"B62\")==0) #Escludo \"COMPUTING; CALCULATING; COUNTING\"\n",
    "                  & (df.ipc_classes.str.count(\"A63\")==0) #Escludo \"COMPUTING; CALCULATING; COUNTING\"\n",
    "                  & (df.ipc_classes.str.count(\"F21\")==0) #Escludo \"COMPUTING; CALCULATING; COUNTING\"\n",
    "                  & (df.ipc_classes.str.count(\"H01\")==0) #Escludo \"COMPUTING; CALCULATING; COUNTING\"\n",
    "                  & (df.ipc_classes.str.count(\"A43\")==0) #Escludo \"COMPUTING; CALCULATING; COUNTING\"\n",
    "                  & (df.ipc_classes.str.count(\"B64\")==0) #Escludo \"COMPUTING; CALCULATING; COUNTING\"\n",
    "                  & (df.ipc_classes.str.count(\"H02\")==0) #Escludo \"COMPUTING; CALCULATING; COUNTING\"\n",
    "                  & (df.ipc_classes.str.count(\"B01\")==0) #Escludo \"COMPUTING; CALCULATING; COUNTING\"\n",
    "                  & (df.ipc_classes.str.count(\"H03\")==0) #Escludo \"COMPUTING; CALCULATING; COUNTING\"\n",
    "                  & (df.ipc_classes.str.count(\"A44\")==0) #Escludo \"COMPUTING; CALCULATING; COUNTING\"\n",
    "                  & (df.ipc_classes.str.count(\"B60\")==0) #Escludo \"COMPUTING; CALCULATING; COUNTING\"\n",
    "                  & (df.ipc_classes.str.count(\"B31\")==0) #Escludo \"COMPUTING; CALCULATING; COUNTING\"\n",
    "                  & (df.ipc_classes.str.count(\"B60\")==0) #Escludo \"COMPUTING; CALCULATING; COUNTING\"\n",
    "                  & (df.ipc_classes.str.count(\"B66\")==0) #Escludo \"COMPUTING; CALCULATING; COUNTING\"\n",
    "                  & (df.ipc_classes.str.count(\"B29\")==0) #Escludo \"COMPUTING; CALCULATING; COUNTING\"\n",
    "                  & (df.ipc_classes.str.count(\"B26\")==0) #Escludo \"COMPUTING; CALCULATING; COUNTING\"\n",
    "                  & (df.ipc_classes.str.count(\"G11\")==0) #Escludo \"COMPUTING; CALCULATING; COUNTING\"\n",
    "                 & (df.ipc_classes.str.count(\"B22\")==0) #Escludo \"COMPUTING; CALCULATING; COUNTING\"\n",
    "                  & (df.ipc_classes.str.count(\"C09\")==0) #Escludo \"COMPUTING; CALCULATING; COUNTING\"\n",
    "                  & (df.ipc_classes.str.count(\"A23\")==0) #Escludo \"COMPUTING; CALCULATING; COUNTING\"\n",
    "                  & (df.ipc_classes.str.count(\"B65\")==0) #Escludo \"COMPUTING; CALCULATING; COUNTING\"\n",
    "                  & (df.ipc_classes.str.count(\"F41\")==0) #Escludo \"COMPUTING; CALCULATING; COUNTING\"\n",
    "                  & (df.ipc_classes.str.count(\"A22\")==0) #Escludo \"COMPUTING; CALCULATING; COUNTING\"\n",
    "                  & (df.ipc_classes.str.count(\"B65\")==0) #Escludo \"COMPUTING; CALCULATING; COUNTING\"\n",
    "                  & (df.ipc_classes.str.count(\"C23\")==0) #Escludo \"COMPUTING; CALCULATING; COUNTING\"\n",
    "                  & (df.ipc_classes.str.count(\"A45\")==0) #Escludo \"COMPUTING; CALCULATING; COUNTING\"\n",
    "                  & (df.ipc_classes.str.count(\"F01\")==0) #Escludo \"COMPUTING; CALCULATING; COUNTING\"\n",
    "                  & (df.ipc_classes.str.count(\"G07\")==0) #Escludo \"COMPUTING; CALCULATING; COUNTING\"\n",
    "                  & (df.ipc_classes.str.count(\"E04\")==0) #Escludo \"COMPUTING; CALCULATING; COUNTING\"\n",
    "                  & (df.ipc_classes.str.count(\"G07\")==0) #Escludo \"COMPUTING; CALCULATING; COUNTING\"\n",
    "                  & (df.ipc_classes.str.count(\"H05\")==0) #Escludo \"COMPUTING; CALCULATING; COUNTING\"\n",
    "                  & (df.ipc_classes.str.count(\"A62\")==0) #Escludo \"COMPUTING; CALCULATING; COUNTING\"\n",
    "                  & (df.ipc_classes.str.count(\"A24\")==0) #Escludo \"COMPUTING; CALCULATING; COUNTING\"\n",
    "                  & (df.ipc_classes.str.count(\"A62\")==0) #Escludo \"COMPUTING; CALCULATING; COUNTING\"\n",
    "                  & (df.ipc_classes.str.count(\"B61\")==0) #Escludo \"COMPUTING; CALCULATING; COUNTING\"\n",
    "                  & (df.ipc_classes.str.count(\"E05\")==0) #Escludo \"COMPUTING; CALCULATING; COUNTING\"\n",
    "                  & (df.ipc_classes.str.count(\"G02\")==0) #Escludo \"COMPUTING; CALCULATING; COUNTING\"\n",
    "                  & (df.ipc_classes.str.count(\"F03\")==0) #Escludo \"COMPUTING; CALCULATING; COUNTING\"\n",
    "                  & (df.ipc_classes.str.count(\"C07\")==0) #Escludo \"COMPUTING; CALCULATING; COUNTING\"\n",
    "                  & (df.ipc_classes.str.count(\"G02\")==0) #Escludo \"COMPUTING; CALCULATING; COUNTING\"\n",
    "                  & (df.ipc_classes.str.count(\"B82\")==0) #Escludo \"COMPUTING; CALCULATING; COUNTING\"\n",
    "                  & (df.ipc_classes.str.count(\"C11\")==0) #Escludo \"COMPUTING; CALCULATING; COUNTING\"\n",
    "                  & (df.ipc_classes.str.count(\"B03\")==0) #Escludo \"COMPUTING; CALCULATING; COUNTING\"\n",
    "                  & (df.ipc_classes.str.count(\"A41\")==0) #Escludo \"COMPUTING; CALCULATING; COUNTING\"\n",
    "                  & (df.ipc_classes.str.count(\"C25\")==0) #Escludo \"COMPUTING; CALCULATING; COUNTING\"\n",
    "                  & (df.ipc_classes.str.count(\"A62\")==0) #Escludo \"COMPUTING; CALCULATING; COUNTING\"\n",
    "                  & (df.ipc_classes.str.count(\"D21\")==0) #Escludo \"COMPUTING; CALCULATING; COUNTING\"\n",
    "                  & (df.ipc_classes.str.count(\"B42\")==0) #Escludo \"COMPUTING; CALCULATING; COUNTING\"\n",
    "                  & (df.ipc_classes.str.count(\"A41\")==0) #Escludo \"COMPUTING; CALCULATING; COUNTING\"\n",
    "                  & (df.ipc_classes.str.count(\"E02\")==0) #Escludo \"COMPUTING; CALCULATING; COUNTING\"\n",
    "                  \n",
    "                  \n",
    "                  \n",
    "                  \n",
    "                  \n",
    "                 ].query(\"title not in @df_selected\")\n",
    "                 \n",
    "    \n",
    "\n",
    "df_candidate[[\"title\", \"ipc_classes\",\"abstract\", \"claims\"]]"
   ]
  },
  {
   "cell_type": "code",
   "execution_count": null,
   "id": "b0d68007",
   "metadata": {},
   "outputs": [],
   "source": [
    "df_selected = pd.concat([df_selected, df_candidate])\n",
    "len(df_selected)"
   ]
  },
  {
   "cell_type": "code",
   "execution_count": null,
   "id": "615056f1",
   "metadata": {},
   "outputs": [],
   "source": [
    "keyword = keywords_cosmetics[13]\n",
    "keyword"
   ]
  },
  {
   "cell_type": "code",
   "execution_count": null,
   "id": "8dfd9a5c",
   "metadata": {
    "scrolled": true
   },
   "outputs": [],
   "source": [
    "df_candidate = df[(df[keyword] > 0)\n",
    "                   & (df.ipc_classes.str.count(\"G06\")==0) #Escludo \"COMPUTING; CALCULATING; COUNTING\"\n",
    "                 \n",
    "                 ].query(\"title not in @df_selected\")\n",
    "                 \n",
    "    \n",
    "\n",
    "df_candidate[[\"title\", \"ipc_classes\",\"abstract\", \"claims\"]]"
   ]
  },
  {
   "cell_type": "code",
   "execution_count": null,
   "id": "65adb7e2",
   "metadata": {},
   "outputs": [],
   "source": [
    "df_selected = pd.concat([df_selected, df_candidate])\n",
    "len(df_selected)"
   ]
  },
  {
   "cell_type": "code",
   "execution_count": null,
   "id": "0cb186c8",
   "metadata": {},
   "outputs": [],
   "source": [
    "keyword = keywords_cosmetics[14]\n",
    "keyword"
   ]
  },
  {
   "cell_type": "code",
   "execution_count": null,
   "id": "051cc872",
   "metadata": {},
   "outputs": [],
   "source": [
    "df_candidate = df[(df[keyword] > 0)\n",
    "                    & (df.ipc_classes.str.count(\"G06\")==0) #Escludo \"COMPUTING; CALCULATING; COUNTING\"\n",
    "                    & (df.ipc_classes.str.count(\"G01\")==0) #Escludo \"COMPUTING; CALCULATING; COUNTING\"\n",
    "                    & (df.ipc_classes.str.count(\"A06\")==0) #Escludo \"COMPUTING; CALCULATING; COUNTING\"\n",
    "                    & (df.ipc_classes.str.count(\"A61\")==0) #Escludo \"COMPUTING; CALCULATING; COUNTING\"\n",
    "                    & (df.ipc_classes.str.count(\"A01\")==0) #Escludo \"COMPUTING; CALCULATING; COUNTING\"\n",
    "                 ].query(\"title not in @df_selected\")\n",
    "                 \n",
    "    \n",
    "\n",
    "df_candidate[[\"title\", \"ipc_classes\",\"abstract\", \"claims\"]]"
   ]
  },
  {
   "cell_type": "code",
   "execution_count": null,
   "id": "9e3afc92",
   "metadata": {},
   "outputs": [],
   "source": [
    "df_selected = pd.concat([df_selected, df_candidate])\n",
    "len(df_selected)"
   ]
  },
  {
   "cell_type": "code",
   "execution_count": null,
   "id": "ab1d2edb",
   "metadata": {},
   "outputs": [],
   "source": [
    "keyword = keywords_cosmetics[15]\n",
    "keyword"
   ]
  },
  {
   "cell_type": "code",
   "execution_count": null,
   "id": "d800a6d9",
   "metadata": {},
   "outputs": [],
   "source": [
    "df_candidate = df[(df[keyword] > 0)\n",
    "                  & (df.ipc_classes.str.count(\"G06T19/00\")==0) #Escludo \"COMPUTING; CALCULATING; COUNTING\"\n",
    "                  & (df.ipc_classes.str.count(\"G06F17/30\")==0) #Escludo \"COMPUTING; CALCULATING; COUNTING\"\n",
    "                   & (df.ipc_classes.str.count(\"G06K9/62\")==0) #Escludo \"COMPUTING; CALCULATING; COUNTING\"\n",
    "                   & (df.ipc_classes.str.count(\"G06F17/30\")==0) #Escludo \"COMPUTING; CALCULATING; COUNTING\"\n",
    "                 \n",
    "                  \n",
    "                  \n",
    "                \n",
    "                \n",
    "                  \n",
    "                   \n",
    "                 ].query(\"title not in @df_selected\")\n",
    "                 \n",
    "    \n",
    "\n",
    "df_candidate[[\"title\", \"ipc_classes\",\"abstract\", \"claims\"]]"
   ]
  },
  {
   "cell_type": "code",
   "execution_count": null,
   "id": "3a163e6e",
   "metadata": {},
   "outputs": [],
   "source": [
    "df_selected = pd.concat([df_selected, df_candidate])\n",
    "len(df_selected)"
   ]
  },
  {
   "cell_type": "code",
   "execution_count": null,
   "id": "103fd739",
   "metadata": {},
   "outputs": [],
   "source": []
  },
  {
   "cell_type": "code",
   "execution_count": null,
   "id": "9622f9cb",
   "metadata": {},
   "outputs": [],
   "source": [
    "keyword = keywords_cosmetics[16]\n",
    "keyword"
   ]
  },
  {
   "cell_type": "code",
   "execution_count": null,
   "id": "4a1023f3",
   "metadata": {},
   "outputs": [],
   "source": [
    "df_candidate = df[(df[keyword] > 0)\n",
    "                  & (df.ipc_classes.str.count(\"G06\")==0) #Escludo \"COMPUTING; CALCULATING; COUNTING\"\n",
    "                  & (df.ipc_classes.str.count(\"C02\")==0) #Escludo \"COMPUTING; CALCULATING; COUNTING\"\n",
    "                  & (df.ipc_classes.str.count(\"F02\")==0) #Escludo \"COMPUTING; CALCULATING; COUNTING\"\n",
    "                  & (df.ipc_classes.str.count(\"B25\")==0) #Escludo \"COMPUTING; CALCULATING; COUNTING\"\n",
    "                  & (df.ipc_classes.str.count(\"A61\")==0) #Escludo \"COMPUTING; CALCULATING; COUNTING\"\n",
    "                  & (df.ipc_classes.str.count(\"E21\")==0) #Escludo \"COMPUTING; CALCULATING; COUNTING\"\n",
    "                  & (df.ipc_classes.str.count(\"A01\")==0) #Escludo \"COMPUTING; CALCULATING; COUNTING\"\n",
    "                  & (df.ipc_classes.str.count(\"G16\")==0) #Escludo \"COMPUTING; CALCULATING; COUNTING\"\n",
    "                  & (df.ipc_classes.str.count(\"G10\")==0) #Escludo \"COMPUTING; CALCULATING; COUNTING\"\n",
    "                  & (df.ipc_classes.str.count(\"F24\")==0) #Escludo \"COMPUTING; CALCULATING; COUNTING\"\n",
    "                  & (df.ipc_classes.str.count(\"G01\")==0) #Escludo \"COMPUTING; CALCULATING; COUNTING\"\n",
    "                  & (df.ipc_classes.str.count(\"H04\")==0) #Escludo \"COMPUTING; CALCULATING; COUNTING\"\n",
    "                  & (df.ipc_classes.str.count(\"F16\")==0) #Escludo \"COMPUTING; CALCULATING; COUNTING\"\n",
    "                  & (df.ipc_classes.str.count(\"G03\")==0) #Escludo \"COMPUTING; CALCULATING; COUNTING\"\n",
    "                  & (df.ipc_classes.str.count(\"C40\")==0) #Escludo \"COMPUTING; CALCULATING; COUNTING\"\n",
    "                  & (df.ipc_classes.str.count(\"G05\")==0) #Escludo \"COMPUTING; CALCULATING; COUNTING\"\n",
    "                   & (df.ipc_classes.str.count(\"A62\")==0) #Escludo \"COMPUTING; CALCULATING; COUNTING\"\n",
    "                  \n",
    "                   \n",
    "                 ].query(\"title not in @df_selected\")\n",
    "                 \n",
    "    \n",
    "\n",
    "df_candidate[[\"title\", \"ipc_classes\",\"abstract\", \"claims\"]]"
   ]
  },
  {
   "cell_type": "code",
   "execution_count": null,
   "id": "88db8b41",
   "metadata": {},
   "outputs": [],
   "source": [
    "df_selected = pd.concat([df_selected, df_candidate])\n",
    "len(df_selected)"
   ]
  },
  {
   "cell_type": "code",
   "execution_count": null,
   "id": "7c4d0796",
   "metadata": {},
   "outputs": [],
   "source": [
    "keyword = keywords_cosmetics[17]\n",
    "keyword"
   ]
  },
  {
   "cell_type": "code",
   "execution_count": null,
   "id": "f2eb5ff0",
   "metadata": {},
   "outputs": [],
   "source": [
    "df_candidate = df[(df[keyword] > 0)\n",
    "                  \n",
    "                  & (df.ipc_classes.str.count(\"G06\")==0) #Escludo \"COMPUTING; CALCULATING; COUNTING\"\n",
    "                  & (df.ipc_classes.str.count(\"A01\")==0) #Escludo \"COMPUTING; CALCULATING; COUNTING\"\n",
    "                  & (df.ipc_classes.str.count(\"G01\")==0) #Escludo \"COMPUTING; CALCULATING; COUNTING\"\n",
    "                  & (df.ipc_classes.str.count(\"G10\")==0) #Escludo \"COMPUTING; CALCULATING; COUNTING\"\n",
    "                  & (df.ipc_classes.str.count(\"B05\")==0) #Escludo \"COMPUTING; CALCULATING; COUNTING\"\n",
    "                  & (df.ipc_classes.str.count(\"G16\")==0) #Escludo \"COMPUTING; CALCULATING; COUNTING\"\n",
    "                  & (df.ipc_classes.str.count(\"A63\")==0) #Escludo \"COMPUTING; CALCULATING; COUNTING\"\n",
    "                  & (df.ipc_classes.str.count(\"A42\")==0) #Escludo \"COMPUTING; CALCULATING; COUNTING\"\n",
    "                  & (df.ipc_classes.str.count(\"A23\")==0) #Escludo \"COMPUTING; CALCULATING; COUNTING\"\n",
    "                  & (df.ipc_classes.str.count(\"H04\")==0) #Escludo \"COMPUTING; CALCULATING; COUNTING\"\n",
    "                  & (df.ipc_classes.str.count(\"B60\")==0) #Escludo \"COMPUTING; CALCULATING; COUNTING\"\n",
    "                  \n",
    "                   \n",
    "                 ].query(\"title not in @df_selected\")\n",
    "                 \n",
    "    \n",
    "\n",
    "df_candidate[[\"title\", \"ipc_classes\",\"abstract\", \"claims\"]]"
   ]
  },
  {
   "cell_type": "code",
   "execution_count": null,
   "id": "96acd0a5",
   "metadata": {},
   "outputs": [],
   "source": [
    "df_selected = pd.concat([df_selected, df_candidate])\n",
    "len(df_selected)"
   ]
  },
  {
   "cell_type": "code",
   "execution_count": null,
   "id": "69cb905d",
   "metadata": {},
   "outputs": [],
   "source": [
    "keyword = keywords_cosmetics[18]\n",
    "keyword"
   ]
  },
  {
   "cell_type": "code",
   "execution_count": null,
   "id": "c70fdc20",
   "metadata": {},
   "outputs": [],
   "source": [
    "df_candidate = df[(df[keyword] > 0)\n",
    "                  \n",
    "                 & (df.ipc_classes.str.count(\"G06\")==0) #Escludo \"COMPUTING; CALCULATING; COUNTING\"\n",
    "                 & (df.ipc_classes.str.count(\"A47\")==0) #Escludo \"COMPUTING; CALCULATING; COUNTING\" \n",
    "                  & (df.ipc_classes.str.count(\"H04\")==0) #Escludo \"COMPUTING; CALCULATING; COUNTING\"\n",
    "                  & (df.ipc_classes.str.count(\"C11\")==0) #Escludo \"COMPUTING; CALCULATING; COUNTING\"\n",
    "                   & (df.ipc_classes.str.count(\"C12\")==0) #Escludo \"COMPUTING; CALCULATING; COUNTING\"\n",
    "                  & (df.ipc_classes.str.count(\"G16\")==0) #Escludo \"COMPUTING; CALCULATING; COUNTING\"\n",
    "                   & (df.ipc_classes.str.count(\"G01\")==0) #Escludo \"COMPUTING; CALCULATING; COUNTING\"\n",
    "                 \n",
    "                   \n",
    "                 ].query(\"title not in @df_selected\")\n",
    "                 \n",
    "    \n",
    "\n",
    "df_candidate[[\"title\", \"ipc_classes\",\"abstract\", \"claims\"]]"
   ]
  },
  {
   "cell_type": "code",
   "execution_count": null,
   "id": "13ba96dc",
   "metadata": {},
   "outputs": [],
   "source": [
    "df_selected = pd.concat([df_selected, df_candidate])\n",
    "len(df_selected)"
   ]
  },
  {
   "cell_type": "code",
   "execution_count": null,
   "id": "5fe90967",
   "metadata": {},
   "outputs": [],
   "source": [
    "keyword = keywords_cosmetics[19]\n",
    "keyword"
   ]
  },
  {
   "cell_type": "code",
   "execution_count": null,
   "id": "4b9d8776",
   "metadata": {},
   "outputs": [],
   "source": [
    "df_candidate = df[(df[keyword] > 0)\n",
    "                  \n",
    "                  & (df.ipc_classes.str.count(\"G16\")==0) #Escludo \"COMPUTING; CALCULATING; COUNTING\"\n",
    "                   & (df.ipc_classes.str.count(\"C12\")==0) #Escludo \"COMPUTING; CALCULATING; COUNTING\"\n",
    "                   \n",
    "                 ].query(\"title not in @df_selected\")\n",
    "                 \n",
    "    \n",
    "\n",
    "df_candidate[[\"title\", \"ipc_classes\",\"abstract\", \"claims\"]]"
   ]
  },
  {
   "cell_type": "code",
   "execution_count": null,
   "id": "3d17712b",
   "metadata": {},
   "outputs": [],
   "source": [
    "df_selected = pd.concat([df_selected, df_candidate])\n",
    "len(df_selected)"
   ]
  },
  {
   "cell_type": "code",
   "execution_count": null,
   "id": "436888c7",
   "metadata": {},
   "outputs": [],
   "source": [
    "keyword = keywords_cosmetics[20]\n",
    "keyword"
   ]
  },
  {
   "cell_type": "code",
   "execution_count": null,
   "id": "bfa8d257",
   "metadata": {},
   "outputs": [],
   "source": [
    "df_candidate = df[(df[keyword] > 0)\n",
    "                  \n",
    "                 & (df.ipc_classes.str.count(\"G06\")==0) #Escludo \"COMPUTING; CALCULATING; COUNTING\"\n",
    "                  & (df.ipc_classes.str.count(\"C12\")==0) #Escludo \"COMPUTING; CALCULATING; COUNTING\"\n",
    "                  & (df.ipc_classes.str.count(\"B60\")==0) #Escludo \"COMPUTING; CALCULATING; COUNTING\"\n",
    "                   \n",
    "                 ].query(\"title not in @df_selected\")\n",
    "                 \n",
    "    \n",
    "\n",
    "df_candidate[[\"title\", \"ipc_classes\",\"abstract\", \"claims\"]]"
   ]
  },
  {
   "cell_type": "code",
   "execution_count": null,
   "id": "701904d4",
   "metadata": {},
   "outputs": [],
   "source": [
    "df_selected = pd.concat([df_selected, df_candidate])\n",
    "len(df_selected)"
   ]
  },
  {
   "cell_type": "code",
   "execution_count": null,
   "id": "4ec2d725",
   "metadata": {},
   "outputs": [],
   "source": [
    "keyword = keywords_cosmetics[21]\n",
    "keyword"
   ]
  },
  {
   "cell_type": "code",
   "execution_count": null,
   "id": "229bd0e7",
   "metadata": {},
   "outputs": [],
   "source": [
    "df_candidate = df[(df[keyword] > 0)\n",
    "                   & (df.ipc_classes.str.count(\"A01\")==0) #Escludo \"COMPUTING; CALCULATING; COUNTING\"\n",
    "                   & (df.ipc_classes.str.count(\"C12\")==0) #Escludo \"COMPUTING; CALCULATING; COUNTING\"\n",
    "                   & (df.ipc_classes.str.count(\"G06\")==0) #Escludo \"COMPUTING; CALCULATING; COUNTING\"\n",
    "                  & (df.ipc_classes.str.count(\"B82\")==0) #Escludo \"COMPUTING; CALCULATING; COUNTING\"\n",
    "                & (df.ipc_classes.str.count(\"G16\")==0) #Escludo \"COMPUTING; CALCULATING; COUNTING\"\n",
    "                  & (df.ipc_classes.str.count(\"B01\")==0) #Escludo \"COMPUTING; CALCULATING; COUNTING\"\n",
    "                   \n",
    "                 ].query(\"title not in @df_selected\")\n",
    "                 \n",
    "    \n",
    "\n",
    "df_candidate[[\"title\", \"ipc_classes\",\"abstract\", \"claims\"]]"
   ]
  },
  {
   "cell_type": "code",
   "execution_count": null,
   "id": "eb857fbf",
   "metadata": {},
   "outputs": [],
   "source": [
    "df_selected = pd.concat([df_selected, df_candidate])\n",
    "len(df_selected)"
   ]
  },
  {
   "cell_type": "code",
   "execution_count": null,
   "id": "1a3cce92",
   "metadata": {},
   "outputs": [],
   "source": [
    "keyword = keywords_cosmetics[22]\n",
    "keyword"
   ]
  },
  {
   "cell_type": "code",
   "execution_count": null,
   "id": "3d1ae1ec",
   "metadata": {},
   "outputs": [],
   "source": [
    "df_candidate = df[(df[keyword] > 0)\n",
    "                    & (df.ipc_classes.str.count(\"A01\")==0) #Escludo \"COMPUTING; CALCULATING; COUNTING\"\n",
    "                   & (df.ipc_classes.str.count(\"A23\")==0) #Escludo \"COMPUTING; CALCULATING; COUNTING\"\n",
    "                   & (df.ipc_classes.str.count(\"G06\")==0) #Escludo \"COMPUTING; CALCULATING; COUNTING\"\n",
    "                   \n",
    "                 ].query(\"title not in @df_selected\")\n",
    "                 \n",
    "    \n",
    "\n",
    "df_candidate[[\"title\", \"ipc_classes\",\"abstract\", \"claims\"]]"
   ]
  },
  {
   "cell_type": "code",
   "execution_count": null,
   "id": "2b28ebca",
   "metadata": {},
   "outputs": [],
   "source": [
    "df_selected = pd.concat([df_selected, df_candidate])\n",
    "len(df_selected)"
   ]
  },
  {
   "cell_type": "code",
   "execution_count": null,
   "id": "674cd95d",
   "metadata": {},
   "outputs": [],
   "source": [
    "keyword = keywords_cosmetics[23]\n",
    "keyword"
   ]
  },
  {
   "cell_type": "code",
   "execution_count": null,
   "id": "69f51467",
   "metadata": {
    "scrolled": true
   },
   "outputs": [],
   "source": [
    "df_candidate = df[(df[keyword] > 0)\n",
    "                   \n",
    "                  & (df.ipc_classes.str.count(\"G09\")==0) #Escludo \"COMPUTING; CALCULATING; COUNTING\"  \n",
    "                  & (df.ipc_classes.str.count(\"G06\")==0) #Escludo \"COMPUTING; CALCULATING; COUNTING\"\n",
    "                  & (df.ipc_classes.str.count(\"G08\")==0) #Escludo \"COMPUTING; CALCULATING; COUNTING\"\n",
    "                  & (df.ipc_classes.str.count(\"G01\")==0) #Escludo \"COMPUTING; CALCULATING; COUNTING\"\n",
    "                   & (df.ipc_classes.str.count(\"G16\")==0) #Escludo \"COMPUTING; CALCULATING; COUNTING\"\n",
    "                   & (df.ipc_classes.str.count(\"H04\")==0) #Escludo \"COMPUTING; CALCULATING; COUNTING\"\n",
    "                   & (df.ipc_classes.str.count(\"A47\")==0) #Escludo \"COMPUTING; CALCULATING; COUNTING\"\n",
    "                  & (df.ipc_classes.str.count(\"C12\")==0) #Escludo \"COMPUTING; CALCULATING; COUNTING\"\n",
    "                  & (df.ipc_classes.str.count(\"G10\")==0) #Escludo \"COMPUTING; CALCULATING; COUNTING\"\n",
    "                  & (df.ipc_classes.str.count(\"A61\")==0) #Escludo \"COMPUTING; CALCULATING; COUNTING\"\n",
    "                   & (df.ipc_classes.str.count(\"G05\")==0) #Escludo \"COMPUTING; CALCULATING; COUNTING\"\n",
    "                  & (df.ipc_classes.str.count(\"C04\")==0) #Escludo \"COMPUTING; CALCULATING; COUNTING\"\n",
    "                  & (df.ipc_classes.str.count(\"B25\")==0) #Escludo \"COMPUTING; CALCULATING; COUNTING\"\n",
    "                  & (df.ipc_classes.str.count(\"A01\")==0) #Escludo \"COMPUTING; CALCULATING; COUNTING\"\n",
    "                 & (df.ipc_classes.str.count(\"G03\")==0) #Escludo \"COMPUTING; CALCULATING; COUNTING\" \n",
    "                  & (df.ipc_classes.str.count(\"G07\")==0) #Escludo \"COMPUTING; CALCULATING; COUNTING\"\n",
    "                  & (df.ipc_classes.str.count(\"C40\")==0) #Escludo \"COMPUTING; CALCULATING; COUNTING\"& \n",
    "                  & (df.ipc_classes.str.count(\"A63\")==0) #Escludo \"COMPUTING; CALCULATING; COUNTING\"\n",
    "                  & (df.ipc_classes.str.count(\"F24\")==0) #Escludo \"COMPUTING; CALCULATING; COUNTING\"\n",
    "                  & (df.ipc_classes.str.count(\"H01\")==0) #Escludo \"COMPUTING; CALCULATING; COUNTING\"\n",
    "                  & (df.ipc_classes.str.count(\"G11\")==0) #Escludo \"COMPUTING; CALCULATING; COUNTING\"\n",
    "                  & (df.ipc_classes.str.count(\"A46\")==0) #Escludo \"COMPUTING; CALCULATING; COUNTING\"\n",
    "                  & (df.ipc_classes.str.count(\"B41\")==0) #Escludo \"COMPUTING; CALCULATING; COUNTING\"\n",
    "                  & (df.ipc_classes.str.count(\"H05\")==0) #Escludo \"COMPUTING; CALCULATING; COUNTING\"\n",
    "                  & (df.ipc_classes.str.count(\"H02\")==0) #Escludo \"COMPUTING; CALCULATING; COUNTING\"\n",
    "                  & (df.ipc_classes.str.count(\"G02\")==0) #Escludo \"COMPUTING; CALCULATING; COUNTING\"\n",
    "                  & (df.ipc_classes.str.count(\"B60\")==0) #Escludo \"COMPUTING; CALCULATING; COUNTING\"\n",
    "                  \n",
    "                  \n",
    "                  \n",
    "                  \n",
    "                  \n",
    "                  \n",
    "                   \n",
    "                 ].query(\"title not in @df_selected\")\n",
    "                 \n",
    "    \n",
    "\n",
    "df_candidate[[\"title\", \"ipc_classes\",\"abstract\", \"claims\"]]"
   ]
  },
  {
   "cell_type": "code",
   "execution_count": null,
   "id": "504b2a19",
   "metadata": {},
   "outputs": [],
   "source": [
    "df_selected = pd.concat([df_selected, df_candidate])\n",
    "len(df_selected)"
   ]
  },
  {
   "cell_type": "code",
   "execution_count": null,
   "id": "762b42c7",
   "metadata": {},
   "outputs": [],
   "source": [
    "keyword = keywords_cosmetics[24]\n",
    "keyword"
   ]
  },
  {
   "cell_type": "code",
   "execution_count": null,
   "id": "4c0ef88c",
   "metadata": {},
   "outputs": [],
   "source": [
    "df_candidate = df[(df[keyword] > 0)\n",
    "                   \n",
    "                   \n",
    "                 ].query(\"title not in @df_selected\")\n",
    "                 \n",
    "    \n",
    "\n",
    "df_candidate[[\"title\", \"ipc_classes\",\"abstract\", \"claims\"]]"
   ]
  },
  {
   "cell_type": "code",
   "execution_count": null,
   "id": "ca555365",
   "metadata": {},
   "outputs": [],
   "source": [
    "df_selected = pd.concat([df_selected, df_candidate])\n",
    "len(df_selected)"
   ]
  },
  {
   "cell_type": "code",
   "execution_count": null,
   "id": "5dbc344b",
   "metadata": {},
   "outputs": [],
   "source": [
    "keyword = keywords_cosmetics[25]\n",
    "keyword"
   ]
  },
  {
   "cell_type": "code",
   "execution_count": null,
   "id": "14ea02f2",
   "metadata": {},
   "outputs": [],
   "source": [
    "df_candidate = df[(df[keyword] > 0)\n",
    "                  & (df.ipc_classes.str.count(\"G06\")==0) #Escludo \"COMPUTING; CALCULATING; COUNTING\"\n",
    "                   \n",
    "                   \n",
    "                 ].query(\"title not in @df_selected\")\n",
    "                 \n",
    "    \n",
    "\n",
    "df_candidate[[\"title\", \"ipc_classes\",\"abstract\", \"claims\"]]"
   ]
  },
  {
   "cell_type": "code",
   "execution_count": null,
   "id": "16256f9b",
   "metadata": {},
   "outputs": [],
   "source": [
    "df_selected = pd.concat([df_selected, df_candidate])\n",
    "len(df_selected)"
   ]
  },
  {
   "cell_type": "code",
   "execution_count": null,
   "id": "707e5f9b",
   "metadata": {},
   "outputs": [],
   "source": [
    "keyword = keywords_cosmetics[26]\n",
    "keyword"
   ]
  },
  {
   "cell_type": "code",
   "execution_count": null,
   "id": "30cb4b28",
   "metadata": {},
   "outputs": [],
   "source": [
    "df_candidate = df[(df[keyword] > 0)\n",
    "                   & (df.ipc_classes.str.count(\"G06F19\")==0) #Escludo \"COMPUTING; CALCULATING; COUNTING\"\n",
    "                    & (df.ipc_classes.str.count(\"G06K9\")==0) #Escludo \"COMPUTING; CALCULATING; COUNTING\"\n",
    "                  & (df.ipc_classes.str.count(\"A23K20\")==0) #Escludo \"COMPUTING; CALCULATING; COUNTING\"\n",
    "                  & (df.ipc_classes.str.count(\"A43B13\")==0) #Escludo \"COMPUTING; CALCULATING; COUNTING\"\n",
    "                   \n",
    "                   \n",
    "                   \n",
    "                 ].query(\"title not in @df_selected\")\n",
    "                 \n",
    "    \n",
    "\n",
    "df_candidate[[\"title\", \"ipc_classes\",\"abstract\", \"claims\"]]"
   ]
  },
  {
   "cell_type": "code",
   "execution_count": null,
   "id": "c2453e30",
   "metadata": {},
   "outputs": [],
   "source": [
    "df_selected = pd.concat([df_selected, df_candidate])\n",
    "len(df_selected)"
   ]
  },
  {
   "cell_type": "code",
   "execution_count": null,
   "id": "af069132",
   "metadata": {},
   "outputs": [],
   "source": [
    "keyword = keywords_cosmetics[27]\n",
    "keyword"
   ]
  },
  {
   "cell_type": "code",
   "execution_count": null,
   "id": "d721e08e",
   "metadata": {},
   "outputs": [],
   "source": [
    "df_candidate = df[(df[keyword] > 0)\n",
    "                   & (df.ipc_classes.str.count(\"G06F17\")==0) #Escludo \"COMPUTING; CALCULATING; COUNTING\"\n",
    "                  \n",
    "                   \n",
    "                   \n",
    "                 ].query(\"title not in @df_selected\")\n",
    "                 \n",
    "    \n",
    "\n",
    "df_candidate[[\"title\", \"ipc_classes\",\"abstract\", \"claims\"]]"
   ]
  },
  {
   "cell_type": "code",
   "execution_count": null,
   "id": "d9e12d79",
   "metadata": {},
   "outputs": [],
   "source": [
    "df_selected = pd.concat([df_selected, df_candidate])\n",
    "len(df_selected)"
   ]
  },
  {
   "cell_type": "code",
   "execution_count": null,
   "id": "f7b2ba61",
   "metadata": {},
   "outputs": [],
   "source": [
    "keyword = keywords_cosmetics[28]\n",
    "keyword"
   ]
  },
  {
   "cell_type": "code",
   "execution_count": null,
   "id": "1309a8a2",
   "metadata": {},
   "outputs": [],
   "source": [
    "df_candidate = df[(df[keyword] > 0)\n",
    "                   & (df.ipc_classes.str.count(\"A47D15\")==0) #Escludo \"COMPUTING; CALCULATING; COUNTING\"\n",
    "                  \n",
    "                  \n",
    "                   \n",
    "                   \n",
    "                 ].query(\"title not in @df_selected\")\n",
    "                 \n",
    "    \n",
    "\n",
    "df_candidate[[\"title\", \"ipc_classes\",\"abstract\", \"claims\"]]"
   ]
  },
  {
   "cell_type": "code",
   "execution_count": null,
   "id": "37b3342f",
   "metadata": {},
   "outputs": [],
   "source": [
    "df_selected = pd.concat([df_selected, df_candidate])\n",
    "len(df_selected)"
   ]
  },
  {
   "cell_type": "code",
   "execution_count": null,
   "id": "bf8ea80a",
   "metadata": {},
   "outputs": [],
   "source": [
    "keyword = keywords_cosmetics[29]\n",
    "keyword"
   ]
  },
  {
   "cell_type": "code",
   "execution_count": null,
   "id": "2e7d76e6",
   "metadata": {},
   "outputs": [],
   "source": [
    "df_candidate = df[(df[keyword] > 0)\n",
    "                  \n",
    "                   & (df.ipc_classes.str.count(\"G01\")==0) #Escludo \"COMPUTING; CALCULATING; COUNTING\"\n",
    "                   & (df.ipc_classes.str.count(\"C12Q1\")==0) #Escludo \"COMPUTING; CALCULATING; COUNTING\"\n",
    "                   & (df.ipc_classes.str.count(\"G06F17\")==0) #Escludo \"COMPUTING; CALCULATING; COUNTING\"\n",
    "                   & (df.ipc_classes.str.count(\"H02\")==0) #Escludo \"COMPUTING; CALCULATING; COUNTING\"\n",
    "                   \n",
    "                   \n",
    "                 ].query(\"title not in @df_selected\")\n",
    "                 \n",
    "    \n",
    "\n",
    "df_candidate[[\"title\", \"ipc_classes\",\"abstract\", \"claims\"]]"
   ]
  },
  {
   "cell_type": "code",
   "execution_count": null,
   "id": "fec01895",
   "metadata": {},
   "outputs": [],
   "source": [
    "df_selected = pd.concat([df_selected, df_candidate])\n",
    "len(df_selected)"
   ]
  },
  {
   "cell_type": "code",
   "execution_count": null,
   "id": "e757ee60",
   "metadata": {},
   "outputs": [],
   "source": [
    "keyword = keywords_cosmetics[30]\n",
    "keyword"
   ]
  },
  {
   "cell_type": "code",
   "execution_count": null,
   "id": "2232faf3",
   "metadata": {},
   "outputs": [],
   "source": [
    "df_candidate = df[(df[keyword] > 0)\n",
    "                   & (df.ipc_classes.str.count(\"C12\")==0) #Escludo \"COMPUTING; CALCULATING; COUNTING\"\n",
    "                   & (df.ipc_classes.str.count(\"G06\")==0) #Escludo \"COMPUTING; CALCULATING; COUNTING\"\n",
    "                   & (df.ipc_classes.str.count(\"F24\")==0) #Escludo \"COMPUTING; CALCULATING; COUNTING\"\n",
    "                   & (df.ipc_classes.str.count(\"H01\")==0) #Escludo \"COMPUTING; CALCULATING; COUNTING\"\n",
    "                   & (df.ipc_classes.str.count(\"A61B8\")==0) #Escludo \"COMPUTING; CALCULATING; COUNTING\"\n",
    "                   & (df.ipc_classes.str.count(\"G01\")==0) #Escludo \"COMPUTING; CALCULATING; COUNTING\"\n",
    "                   & (df.ipc_classes.str.count(\"E21\")==0) #Escludo \"COMPUTING; CALCULATING; COUNTING\"\n",
    "                   & (df.ipc_classes.str.count(\"G10\")==0) #Escludo \"COMPUTING; CALCULATING; COUNTING\"\n",
    "                   & (df.ipc_classes.str.count(\"A61C7\")==0) #Escludo \"COMPUTING; CALCULATING; COUNTING\"\n",
    "                   & (df.ipc_classes.str.count(\"B01\")==0) #Escludo \"COMPUTING; CALCULATING; COUNTING\"\n",
    "                   & (df.ipc_classes.str.count(\"A61B1\")==0) #Escludo \"COMPUTING; CALCULATING; COUNTING\"\n",
    "                   & (df.ipc_classes.str.count(\"G16\")==0) #Escludo \"COMPUTING; CALCULATING; COUNTING\"\n",
    "                   & (df.ipc_classes.str.count(\"B29\")==0) #Escludo \"COMPUTING; CALCULATING; COUNTING\"\n",
    "                   & (df.ipc_classes.str.count(\"G07\")==0) #Escludo \"COMPUTING; CALCULATING; COUNTING\"\n",
    "                   & (df.ipc_classes.str.count(\"G05\")==0) #Escludo \"COMPUTING; CALCULATING; COUNTING\"\n",
    "                   & (df.ipc_classes.str.count(\"A61M31\")==0) #Escludo \"COMPUTING; CALCULATING; COUNTING\"\n",
    "                  & (df.ipc_classes.str.count(\"A61B34\")==0) #Escludo \"COMPUTING; CALCULATING; COUNTING\"\n",
    "                   & (df.ipc_classes.str.count(\"A61B5\")==0) #Escludo \"COMPUTING; CALCULATING; COUNTING\"\n",
    "                   & (df.ipc_classes.str.count(\"F21\")==0) #Escludo \"COMPUTING; CALCULATING; COUNTING\"\n",
    "                   & (df.ipc_classes.str.count(\"H04\")==0) #Escludo \"COMPUTING; CALCULATING; COUNTING\"\n",
    "                   & (df.ipc_classes.str.count(\"A61M5/46\")==0) #Escludo \"COMPUTING; CALCULATING; COUNTING\"\n",
    "                   & (df.ipc_classes.str.count(\"G02\")==0) #Escludo \"COMPUTING; CALCULATING; COUNTING\"\n",
    "                    & (df.ipc_classes.str.count(\"C09\")==0) #Escludo \"COMPUTING; CALCULATING; COUNTING\"\n",
    "                   & (df.ipc_classes.str.count(\"A63F13/73\")==0) #Escludo \"COMPUTING; CALCULATING; COUNTING\"\n",
    "                  & (df.ipc_classes.str.count(\"H05\")==0) #Escludo \"COMPUTING; CALCULATING; COUNTING\"\n",
    "                  & (df.ipc_classes.str.count(\"A61K31/444\")==0) #Escludo \"COMPUTING; CALCULATING; COUNTING\"\n",
    "                  & (df.ipc_classes.str.count(\"B66\")==0) #Escludo \"COMPUTING; CALCULATING; COUNTING\"\n",
    "                  & (df.ipc_classes.str.count(\"A61M1/36\")==0) #Escludo \"COMPUTING; CALCULATING; COUNTING\"\n",
    "                  & (df.ipc_classes.str.count(\"G09\")==0) #Escludo \"COMPUTING; CALCULATING; COUNTING\"\n",
    "                  & (df.ipc_classes.str.count(\"A61B3/00\")==0) #Escludo \"COMPUTING; CALCULATING; COUNTING\"\n",
    "                  & (df.ipc_classes.str.count(\"A63\")==0) #Escludo \"COMPUTING; CALCULATING; COUNTING\"\n",
    "                  & (df.ipc_classes.str.count(\"A43\")==0) #Escludo \"COMPUTING; CALCULATING; COUNTING\"\n",
    "                  & (df.ipc_classes.str.count(\"F41\")==0) #Escludo \"COMPUTING; CALCULATING; COUNTING\"\n",
    "                  & (df.ipc_classes.str.count(\"A01\")==0) #Escludo \"COMPUTING; CALCULATING; COUNTING\"\n",
    "                  & (df.ipc_classes.str.count(\"A61B6/00\")==0) #Escludo \"COMPUTING; CALCULATING; COUNTING\"\n",
    "                  & (df.ipc_classes.str.count(\"C07\")==0) #Escludo \"COMPUTING; CALCULATING; COUNTING\"\n",
    "                  & (df.ipc_classes.str.count(\"G11\")==0) #Escludo \"COMPUTING; CALCULATING; COUNTING\"\n",
    "                  & (df.ipc_classes.str.count(\"G08\")==0) #Escludo \"COMPUTING; CALCULATING; COUNTING\"\n",
    "                  & (df.ipc_classes.str.count(\"A61N5/10\")==0) #Escludo \"COMPUTING; CALCULATING; COUNTING\"\n",
    "                  & (df.ipc_classes.str.count(\"A21\")==0) #Escludo \"COMPUTING; CALCULATING; COUNTING\"\n",
    "                  & (df.ipc_classes.str.count(\"F23\")==0) #Escludo \"COMPUTING; CALCULATING; COUNTING\"\n",
    "                  & (df.ipc_classes.str.count(\"A61B3/12\")==0) #Escludo \"COMPUTING; CALCULATING; COUNTING\"\n",
    "                   & (df.ipc_classes.str.count(\"A61M21\")==0) #Escludo \"COMPUTING; CALCULATING; \n",
    "                   & (df.ipc_classes.str.count(\"B65\")==0) #Escludo \"COMPUTING; CALCULATING; COUNTING\"\n",
    "                   & (df.ipc_classes.str.count(\"A47J31/44\")==0) #Escludo \"COMPUTING; CALCULATING; COUNTING\"\n",
    "                   & (df.ipc_classes.str.count(\"B07\")==0) #Escludo \"COMPUTING; CALCULATING; COUNTING\"\n",
    "                   & (df.ipc_classes.str.count(\"B26\")==0) #Escludo \"COMPUTING; CALCULATING; COUNTING\"\n",
    "                   & (df.ipc_classes.str.count(\"C04\")==0) #Escludo \"COMPUTING; CALCULATING; COUNTING\"\n",
    "                   & (df.ipc_classes.str.count(\"A47J31/36\")==0) #Escludo \"COMPUTING; CALCULATING; COUNTING\"\n",
    "                    & (df.ipc_classes.str.count(\"B25\")==0) #Escludo \"COMPUTING; CALCULATING; COUNTING\"\n",
    "                  & (df.ipc_classes.str.count(\"A61K31/403\")==0) #Escludo \"COMPUTING; CALCULATING; COUNTING\"\n",
    "                   & (df.ipc_classes.str.count(\"B41\")==0) #Escludo \"COMPUTING; CALCULATING; COUNTING\"\n",
    "                   & (df.ipc_classes.str.count(\"D06\")==0) #Escludo \"COMPUTING; CALCULATING; COUNTING\"\n",
    "                   & (df.ipc_classes.str.count(\"A23\")==0) #Escludo \"COMPUTING; CALCULATING; COUNTING\"\n",
    "                   & (df.ipc_classes.str.count(\"C04\")==0) #Escludo \"COMPUTING; CALCULATING; COUNTING\"\n",
    "                   & (df.ipc_classes.str.count(\"B64\")==0) #Escludo \"COMPUTING; CALCULATING; COUNTING\"\n",
    "                   & (df.ipc_classes.str.count(\"A61K31/506\")==0) #Escludo \"COMPUTING; CALCULATING; COUNTING\"\n",
    "                   & (df.ipc_classes.str.count(\"C40\")==0) #Escludo \"COMPUTING; CALCULATING; COUNTING\"\n",
    "                   & (df.ipc_classes.str.count(\"A61\")==0) #Escludo \"COMPUTING; CALCULATING; COUNTING\"\n",
    "                   & (df.ipc_classes.str.count(\"G03\")==0) #Escludo \"COMPUTING; CALCULATING; COUNTING\"\n",
    "                   & (df.ipc_classes.str.count(\"H02\")==0) #Escludo \"COMPUTING; CALCULATING; COUNTING\"\n",
    "                   & (df.ipc_classes.str.count(\"C23\")==0) #Escludo \"COMPUTING; CALCULATING; COUNTING\"\n",
    "                   & (df.ipc_classes.str.count(\"B02\")==0) #Escludo \"COMPUTING; CALCULATING; COUNTING\"\n",
    "                   & (df.ipc_classes.str.count(\"A47L15/00\")==0) #Escludo \"COMPUTING; CALCULATING; COUNTING\"\n",
    "                  & (df.ipc_classes.str.count(\"E02\")==0) #Escludo \"COMPUTING; CALCULATING; COUNTING\"\n",
    "                  & (df.ipc_classes.str.count(\"B60\")==0) #Escludo \"COMPUTING; CALCULATING; COUNTING\"\n",
    "                  & (df.ipc_classes.str.count(\"A24\")==0) #Escludo \"COMPUTING; CALCULATING; COUNTING\"\n",
    "                  & (df.ipc_classes.str.count(\"B63\")==0) #Escludo \"COMPUTING; CALCULATING; COUNTING\"\n",
    "                  & (df.ipc_classes.str.count(\"B23\")==0) #Escludo \"COMPUTING; CALCULATING; COUNTING\"\n",
    "                  & (df.ipc_classes.str.count(\"A62\")==0) #Escludo \"COMPUTING; CALCULATING; COUNTING\"\n",
    "                   & (df.ipc_classes.str.count(\"A47\")==0) #Escludo \"COMPUTING; CALCULATING; COUNTING\"\n",
    "                  & (df.ipc_classes.str.count(\"B61\")==0) #Escludo \"COMPUTING; CALCULATING; COUNTING\"\n",
    "                  & (df.ipc_classes.str.count(\"D04\")==0) #Escludo \"COMPUTING; CALCULATING; COUNTING\"\n",
    "                  & (df.ipc_classes.str.count(\"B23\")==0) #Escludo \"COMPUTING; CALCULATING; COUNTING\"\n",
    "                  & (df.ipc_classes.str.count(\"B32\")==0) #Escludo \"COMPUTING; CALCULATING; COUNTING\"\n",
    "                  & (df.ipc_classes.str.count(\"B05\")==0) #Escludo \"COMPUTING; CALCULATING; COUNTING\"\n",
    "                  & (df.ipc_classes.str.count(\"D05\")==0) #Escludo \"COMPUTING; CALCULATING; COUNTING\"\n",
    "                  & (df.ipc_classes.str.count(\"A22\")==0) #Escludo \"COMPUTING; CALCULATING; COUNTING\"\n",
    "                  & (df.ipc_classes.str.count(\"F16\")==0) #Escludo \"COMPUTING; CALCULATING; COUNTING\"\n",
    "                  & (df.ipc_classes.str.count(\"B03\")==0) #Escludo \"COMPUTING; CALCULATING; COUNTING\"\n",
    "                  & (df.ipc_classes.str.count(\"D21\")==0) #Escludo \"COMPUTING; CALCULATING; COUNTING\"\n",
    "                  & (df.ipc_classes.str.count(\"B67D1/00\")==0) #Escludo \"COMPUTING; CALCULATING; COUNTING\"\n",
    "                  & (df.ipc_classes.str.count(\"H03\")==0) #Escludo \"COMPUTING; CALCULATING; \n",
    "                  & (df.ipc_classes.str.count(\"F04\")==0) #Escludo \"COMPUTING; CALCULATING; COUNTING\"\n",
    "                  & (df.ipc_classes.str.count(\"A41D1/00\")==0) #Escludo \"COMPUTING; CALCULATING; COUNTING\"\n",
    "                  \n",
    "                 \n",
    "                  \n",
    "                  \n",
    "                  \n",
    "                   \n",
    "                 ].query(\"title not in @df_selected\")\n",
    "                 \n",
    "    \n",
    "\n",
    "df_candidate[[\"title\", \"ipc_classes\",\"abstract\", \"claims\"]]"
   ]
  },
  {
   "cell_type": "code",
   "execution_count": null,
   "id": "fba551e5",
   "metadata": {},
   "outputs": [],
   "source": [
    "df_selected = pd.concat([df_selected, df_candidate])\n",
    "len(df_selected)"
   ]
  },
  {
   "cell_type": "code",
   "execution_count": null,
   "id": "01fece54",
   "metadata": {},
   "outputs": [],
   "source": [
    "keyword = keywords_cosmetics[31]\n",
    "keyword"
   ]
  },
  {
   "cell_type": "code",
   "execution_count": null,
   "id": "33f339ae",
   "metadata": {},
   "outputs": [],
   "source": [
    "df_candidate = df[(df[keyword] > 0)\n",
    "                  \n",
    "                   & (df.ipc_classes.str.count(\"G06\")==0) #Escludo \"COMPUTING; CALCULATING; COUNTING\"\n",
    "                   & (df.ipc_classes.str.count(\"A61B8/14\")==0) #Escludo \"COMPUTING; CALCULATING; COUNTING\"\n",
    "                  & (df.ipc_classes.str.count(\"G16\")==0) #Escludo \"COMPUTING; CALCULATING; COUNTING\"\n",
    "                  & (df.ipc_classes.str.count(\"C12\")==0) #Escludo \"COMPUTING; CALCULATING; COUNTING\"\n",
    "                  & (df.ipc_classes.str.count(\"H04\")==0) #Escludo \"COMPUTING; CALCULATING; COUNTING\"\n",
    "                  & (df.ipc_classes.str.count(\"B60\")==0) #Escludo \"COMPUTING; CALCULATING; COUNTING\"\n",
    "                  & (df.ipc_classes.str.count(\"G01\")==0) #Escludo \"COMPUTING; CALCULATING; COUNTING\"\n",
    "                  \n",
    "                  \n",
    "                     & (df.ipc_classes.str.count(\"B60\")==0) #Escludo \"COMPUTING; CALCULATING; COUNTING\"\n",
    "                  & (df.ipc_classes.str.count(\"A24\")==0) #Escludo \"COMPUTING; CALCULATING; COUNTING\"\n",
    "                  & (df.ipc_classes.str.count(\"B63\")==0) #Escludo \"COMPUTING; CALCULATING; COUNTING\"\n",
    "                  & (df.ipc_classes.str.count(\"B23\")==0) #Escludo \"COMPUTING; CALCULATING; COUNTING\"\n",
    "                  & (df.ipc_classes.str.count(\"A62\")==0) #Escludo \"COMPUTING; CALCULATING; COUNTING\"\n",
    "                   & (df.ipc_classes.str.count(\"A47\")==0) #Escludo \"COMPUTING; CALCULATING; COUNTING\"\n",
    "                  & (df.ipc_classes.str.count(\"B61\")==0) #Escludo \"COMPUTING; CALCULATING; COUNTING\"\n",
    "                  & (df.ipc_classes.str.count(\"D04\")==0) #Escludo \"COMPUTING; CALCULATING; COUNTING\"\n",
    "                  & (df.ipc_classes.str.count(\"B23\")==0) #Escludo \"COMPUTING; CALCULATING; COUNTING\"\n",
    "                  & (df.ipc_classes.str.count(\"B32\")==0) #Escludo \"COMPUTING; CALCULATING; COUNTING\"\n",
    "                  & (df.ipc_classes.str.count(\"B05\")==0) #Escludo \"COMPUTING; CALCULATING; COUNTING\"\n",
    "                  & (df.ipc_classes.str.count(\"D05\")==0) #Escludo \"COMPUTING; CALCULATING; COUNTING\"\n",
    "                  & (df.ipc_classes.str.count(\"A22\")==0) #Escludo \"COMPUTING; CALCULATING; COUNTING\"\n",
    "                  & (df.ipc_classes.str.count(\"F16\")==0) #Escludo \"COMPUTING; CALCULATING; COUNTING\"\n",
    "                  & (df.ipc_classes.str.count(\"B03\")==0) #Escludo \"COMPUTING; CALCULATING; COUNTING\"\n",
    "                  & (df.ipc_classes.str.count(\"D21\")==0) #Escludo \"COMPUTING; CALCULATING; COUNTING\"\n",
    "                   & (df.ipc_classes.str.count(\"B41\")==0) #Escludo \"COMPUTING; CALCULATING; COUNTING\"\n",
    "                   & (df.ipc_classes.str.count(\"D06\")==0) #Escludo \"COMPUTING; CALCULATING; COUNTING\"\n",
    "                   & (df.ipc_classes.str.count(\"A23\")==0) #Escludo \"COMPUTING; CALCULATING; COUNTING\"\n",
    "                   & (df.ipc_classes.str.count(\"C04\")==0) #Escludo \"COMPUTING; CALCULATING; COUNTING\"\n",
    "                   & (df.ipc_classes.str.count(\"B64\")==0) #Escludo \"COMPUTING; CALCULATING; COUNTING\"  \n",
    "                     & (df.ipc_classes.str.count(\"C12\")==0) #Escludo \"COMPUTING; CALCULATING; COUNTING\"\n",
    "                   & (df.ipc_classes.str.count(\"G06\")==0) #Escludo \"COMPUTING; CALCULATING; COUNTING\"\n",
    "                   & (df.ipc_classes.str.count(\"F24\")==0) #Escludo \"COMPUTING; CALCULATING; COUNTING\"\n",
    "                   & (df.ipc_classes.str.count(\"H01\")==0) #Escludo \"COMPUTING; CALCULATING; COUNTING\"\n",
    "                   & (df.ipc_classes.str.count(\"G01\")==0) #Escludo \"COMPUTING; CALCULATING; COUNTING\"\n",
    "                   & (df.ipc_classes.str.count(\"E21\")==0) #Escludo \"COMPUTING; CALCULATING; COUNTING\"\n",
    "                   & (df.ipc_classes.str.count(\"G10\")==0) #Escludo \"COMPUTING; CALCULATING; COUNTING\"\n",
    "                   & (df.ipc_classes.str.count(\"A61C7\")==0) #Escludo \"COMPUTING; CALCULATING; COUNTING\"\n",
    "                   & (df.ipc_classes.str.count(\"B01\")==0) #Escludo \"COMPUTING; CALCULATING; COUNTING\"\n",
    "                   & (df.ipc_classes.str.count(\"A61B1\")==0) #Escludo \"COMPUTING; CALCULATING; COUNTING\"\n",
    "                   & (df.ipc_classes.str.count(\"G16\")==0) #Escludo \"COMPUTING; CALCULATING; COUNTING\"\n",
    "                   & (df.ipc_classes.str.count(\"B29\")==0) #Escludo \"COMPUTING; CALCULATING; COUNTING\"\n",
    "                   & (df.ipc_classes.str.count(\"G07\")==0) #Escludo \"COMPUTING; CALCULATING; COUNTING\"\n",
    "                   & (df.ipc_classes.str.count(\"G05\")==0) #Escludo \"COMPUTING; CALCULATING; COUNTING\"\n",
    "                   & (df.ipc_classes.str.count(\"C40\")==0) #Escludo \"COMPUTING; CALCULATING; COUNTING\"\n",
    "                   & (df.ipc_classes.str.count(\"A61B3/16\")==0) #Escludo \"COMPUTING; CALCULATING; COUNTING\"\n",
    "                  & (df.ipc_classes.str.count(\"A61\")==0) #Escludo \"COMPUTING; CALCULATING; COUNTING\"\n",
    "                  & (df.ipc_classes.str.count(\"B25\")==0) #Escludo \"COMPUTING; CALCULATING; COUNTING\"\n",
    "                   & (df.ipc_classes.str.count(\"B65\")==0) #Escludo \"COMPUTING; CALCULATING; COUNTING\"\n",
    "                   & (df.ipc_classes.str.count(\"G09\")==0) #Escludo \"COMPUTING; CALCULATING; COUNTING\"\n",
    "                   & (df.ipc_classes.str.count(\"G08\")==0) #Escludo \"COMPUTING; CALCULATING; COUNTING\"\n",
    "                   & (df.ipc_classes.str.count(\"G11\")==0) #Escludo \"COMPUTING; CALCULATING; COUNTING\"\n",
    "                   & (df.ipc_classes.str.count(\"G03\")==0) #Escludo \"COMPUTING; CALCULATING; COUNTING\"\n",
    "                   & (df.ipc_classes.str.count(\"B25\")==0) #Escludo \"COMPUTING; CALCULATING; COUNTING\"\n",
    "                   & (df.ipc_classes.str.count(\"E06\")==0) #Escludo \"COMPUTING; CALCULATING; COUNTING\"\n",
    "                   & (df.ipc_classes.str.count(\"F41\")==0) #Escludo \"COMPUTING; CALCULATING; COUNTING\"\n",
    "                   & (df.ipc_classes.str.count(\"C07\")==0) #Escludo \"COMPUTING; CALCULATING; COUNTING\"\n",
    "                   & (df.ipc_classes.str.count(\"F21\")==0) #Escludo \"COMPUTING; CALCULATING; COUNTING\"\n",
    "                   & (df.ipc_classes.str.count(\"A01\")==0) #Escludo \"COMPUTING; CALCULATING; COUNTING\"\n",
    "                   & (df.ipc_classes.str.count(\"A63\")==0) #Escludo \"COMPUTING; CALCULATING; COUNTING\"\n",
    "                   & (df.ipc_classes.str.count(\"G02\")==0) #Escludo \"COMPUTING; CALCULATING; COUNTING\"\n",
    "                   & (df.ipc_classes.str.count(\"B25\")==0) #Escludo \"COMPUTING; CALCULATING; COUNTING\"\n",
    "                  & (df.ipc_classes.str.count(\"A45C1/06\")==0) #Escludo \"COMPUTING; CALCULATING; COUNTING\"\n",
    "                   & (df.ipc_classes.str.count(\"H05\")==0) #Escludo \"COMPUTING; CALCULATING; COUNTING\"\n",
    "                   & (df.ipc_classes.str.count(\"B07\")==0) #Escludo \"COMPUTING; CALCULATING; COUNTING\"\n",
    "                   & (df.ipc_classes.str.count(\"B42F13/00\")==0) #Escludo \"COMPUTING; CALCULATING; COUNTING\"\n",
    "                  & (df.ipc_classes.str.count(\"B66\")==0) #Escludo \"COMPUTING; CALCULATING; COUNTING\"\n",
    "                  \n",
    "                  \n",
    "                  \n",
    "                \n",
    "                 \n",
    "                  \n",
    "                  \n",
    "                    \n",
    "                    \n",
    "                    \n",
    "                   \n",
    "                   \n",
    "                 ].query(\"title not in @df_selected\")\n",
    "                 \n",
    "    \n",
    "\n",
    "df_candidate[[\"title\", \"ipc_classes\",\"abstract\", \"claims\"]]"
   ]
  },
  {
   "cell_type": "code",
   "execution_count": null,
   "id": "d692bf6f",
   "metadata": {},
   "outputs": [],
   "source": [
    "df_selected = pd.concat([df_selected, df_candidate])\n",
    "len(df_selected)"
   ]
  },
  {
   "cell_type": "code",
   "execution_count": null,
   "id": "201527f8",
   "metadata": {},
   "outputs": [],
   "source": []
  },
  {
   "cell_type": "code",
   "execution_count": null,
   "id": "7a1b40d0",
   "metadata": {},
   "outputs": [],
   "source": []
  },
  {
   "cell_type": "code",
   "execution_count": null,
   "id": "37db028c",
   "metadata": {},
   "outputs": [],
   "source": []
  },
  {
   "cell_type": "code",
   "execution_count": null,
   "id": "a809c4be",
   "metadata": {},
   "outputs": [],
   "source": []
  },
  {
   "cell_type": "code",
   "execution_count": null,
   "id": "cc5e452d",
   "metadata": {},
   "outputs": [],
   "source": []
  },
  {
   "cell_type": "code",
   "execution_count": null,
   "id": "d010be15",
   "metadata": {},
   "outputs": [],
   "source": []
  },
  {
   "cell_type": "code",
   "execution_count": null,
   "id": "b13d0504",
   "metadata": {},
   "outputs": [],
   "source": []
  },
  {
   "cell_type": "code",
   "execution_count": null,
   "id": "631b074f",
   "metadata": {},
   "outputs": [],
   "source": []
  },
  {
   "cell_type": "code",
   "execution_count": null,
   "id": "e972c3b8",
   "metadata": {},
   "outputs": [],
   "source": [
    "#method for simulating the rendering of a make-up product on a body area\t\n",
    "#method for simulating the rendering of a make-up product on a body area\t\n",
    "#methods and compositions for treating pain\tA61K31/167, A61K31/192, A61K31/198, A61K31/428\n",
    "#191501\tmethod and system for improving infection control in a facility\tG08B21/24, \n",
    "#88971\tmethods and compositions for identification and modulation of microbiome biochemical pathways to alter phenotype\tA61K31/015, A61K31/03, A61K31/11, A61K31/20, A61K9/00\n"
   ]
  },
  {
   "cell_type": "code",
   "execution_count": null,
   "id": "207eff0e",
   "metadata": {},
   "outputs": [],
   "source": []
  },
  {
   "cell_type": "code",
   "execution_count": null,
   "id": "43978251",
   "metadata": {},
   "outputs": [],
   "source": []
  },
  {
   "cell_type": "code",
   "execution_count": null,
   "id": "ae0bea73",
   "metadata": {},
   "outputs": [],
   "source": [
    "df_selected"
   ]
  },
  {
   "cell_type": "code",
   "execution_count": null,
   "id": "61d0cc3d",
   "metadata": {},
   "outputs": [],
   "source": []
  }
 ],
 "metadata": {
  "kernelspec": {
   "display_name": "Python 3",
   "language": "python",
   "name": "python3"
  },
  "language_info": {
   "codemirror_mode": {
    "name": "ipython",
    "version": 3
   },
   "file_extension": ".py",
   "mimetype": "text/x-python",
   "name": "python",
   "nbconvert_exporter": "python",
   "pygments_lexer": "ipython3",
   "version": "3.8.8"
  }
 },
 "nbformat": 4,
 "nbformat_minor": 5
}
